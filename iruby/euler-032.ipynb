{
 "metadata": {
  "name": ""
 },
 "nbformat": 3,
 "nbformat_minor": 0,
 "worksheets": [
  {
   "cells": [
    {
     "cell_type": "markdown",
     "source": [
      "We shall say that an n-digit number is pandigital if it makes use of all the digits 1 to n exactly once; for example, the 5-digit number, 15234, is 1 through 5 pandigital.\n",
      "\n",
      "The product 7254 is unusual, as the identity, 39 \u00d7 186 = 7254, containing multiplicand, multiplier, and product is 1 through 9 pandigital.\n",
      "\n",
      "Find the sum of all products whose multiplicand/multiplier/product identity can be written as a 1 through 9 pandigital.\n",
      "HINT: Some products can be obtained in more than one way so be sure to only include it once in your sum.\n"
     ]
    },
    {
     "cell_type": "code",
     "collapsed": false,
     "input": [
      "39 * 186"
     ],
     "language": "python",
     "outputs": [
      {
       "output_type": "pyout",
       "prompt_number": 4,
       "text": [
        "7254"
       ]
      }
     ],
     "prompt_number": 4
    },
    {
     "cell_type": "code",
     "collapsed": false,
     "input": [
      "12345.to_s"
     ],
     "language": "python",
     "outputs": [
      {
       "output_type": "pyout",
       "prompt_number": 5,
       "text": [
        "\"12345\""
       ]
      }
     ],
     "prompt_number": 5
    },
    {
     "cell_type": "code",
     "collapsed": false,
     "input": [
      "12345.to_s.split(\"\")"
     ],
     "language": "python",
     "outputs": [
      {
       "output_type": "pyout",
       "prompt_number": 6,
       "text": [
        "[\"1\", \"2\", \"3\", \"4\", \"5\"]"
       ]
      }
     ],
     "prompt_number": 6
    },
    {
     "cell_type": "code",
     "collapsed": false,
     "input": [
      "123456789.to_s.split(\"\")"
     ],
     "language": "python",
     "outputs": [
      {
       "output_type": "pyout",
       "prompt_number": 7,
       "text": [
        "[\"1\", \"2\", \"3\", \"4\", \"5\", \"6\", \"7\", \"8\", \"9\"]"
       ]
      }
     ],
     "prompt_number": 7
    },
    {
     "cell_type": "code",
     "collapsed": false,
     "input": [
      "target = 53241\n",
      "\n",
      "123456789.to_s.split(\"\").map { |item| target.to_s.split(\"\").count(item) <= 1 }"
     ],
     "language": "python",
     "outputs": [
      {
       "output_type": "pyout",
       "prompt_number": 8,
       "text": [
        "[true, true, true, true, true, true, true, true, true]"
       ]
      }
     ],
     "prompt_number": 8
    },
    {
     "cell_type": "code",
     "collapsed": false,
     "input": [
      "123456789.to_s.split(\"\").all? { |item| target.to_s.split(\"\").count(item) <= 1 }"
     ],
     "language": "python",
     "outputs": [
      {
       "output_type": "pyout",
       "prompt_number": 9,
       "text": [
        "true"
       ]
      }
     ],
     "prompt_number": 9
    },
    {
     "cell_type": "code",
     "collapsed": false,
     "input": [
      "def pen_digital?(target)\n",
      "  return false if target.to_s =~ /0/\n",
      "  return 123456789.to_s.split(\"\").all? { |item| target.to_s.split(\"\").count(item) <= 1 }\n",
      "end\n",
      "\n",
      "pen_digital? 12345"
     ],
     "language": "python",
     "outputs": [
      {
       "output_type": "pyout",
       "prompt_number": 88,
       "text": [
        "true"
       ]
      }
     ],
     "prompt_number": 88
    },
    {
     "cell_type": "code",
     "collapsed": false,
     "input": [
      "pen_digital? 29382"
     ],
     "language": "python",
     "outputs": [
      {
       "output_type": "pyout",
       "prompt_number": 89,
       "text": [
        "false"
       ]
      }
     ],
     "prompt_number": 89
    },
    {
     "cell_type": "code",
     "collapsed": false,
     "input": [
      "def pen_digital_string?(target)\n",
      "  return false if 123456789.to_s.split(\"\").all? do |item|\n",
      "    target.tr(\"*=\", \"\").split(\"\").count(item) <= 1\n",
      "  end == false\n",
      "\n",
      "  target =~ /(\\d*?)\\*(\\d*?)=(\\d*)$/\n",
      "  return true if (($1.to_i * $2.to_i) == $3.to_i)\n",
      "  return false\n",
      "end"
     ],
     "language": "python",
     "outputs": [],
     "prompt_number": 90
    },
    {
     "cell_type": "code",
     "collapsed": false,
     "input": [
      "pen_digital_string?(\"123*123*1234\")"
     ],
     "language": "python",
     "outputs": [
      {
       "output_type": "pyout",
       "prompt_number": 91,
       "text": [
        "false"
       ]
      }
     ],
     "prompt_number": 91
    },
    {
     "cell_type": "code",
     "collapsed": false,
     "input": [
      "39 * 186"
     ],
     "language": "python",
     "outputs": [
      {
       "output_type": "pyout",
       "prompt_number": 92,
       "text": [
        "7254"
       ]
      }
     ],
     "prompt_number": 92
    },
    {
     "cell_type": "code",
     "collapsed": false,
     "input": [
      "pen_digital_string?(\"39*186=7254\")"
     ],
     "language": "python",
     "outputs": [
      {
       "output_type": "pyout",
       "prompt_number": 93,
       "text": [
        "true"
       ]
      }
     ],
     "prompt_number": 93
    },
    {
     "cell_type": "code",
     "collapsed": false,
     "input": [
      "pen_digital_string?(\"123*456=789\")"
     ],
     "language": "python",
     "outputs": [
      {
       "output_type": "pyout",
       "prompt_number": 16,
       "text": [
        "false"
       ]
      }
     ],
     "prompt_number": 16
    },
    {
     "cell_type": "code",
     "collapsed": false,
     "input": [
      "def find_pen_digit_string32(num)\n",
      "  return unless pen_digital?(num)\n",
      "\n",
      "  result = []\n",
      "  source = [1, 2, 3, 4, 5, 6, 7, 8, 9] - num.to_s.split(\"\").map{|i| i.to_i}\n",
      "\n",
      "  multiplicand = source.combination(3)\n",
      "  multiplicand.each do |com|\n",
      "    multiplier = source - com\n",
      "    left = com.permutation(3).map{|a,b,c| [a,b,c]}\n",
      "    right = multiplier.permutation(2).map{|a,b| [a,b]}\n",
      "\n",
      "    strings = left.product(right).map do |arr|\n",
      "      arr[0].join + \"*\" + arr[1].join + \"=\" + num.to_s\n",
      "    end\n",
      "\n",
      "    strings.each do |string|\n",
      "      return num if pen_digital_string?(string)\n",
      "    end\n",
      "  end\n",
      "\n",
      "  return \n",
      "end\n",
      "\n",
      "find_pen_digit_string(\"1234\")"
     ],
     "language": "python",
     "outputs": [],
     "prompt_number": 98
    },
    {
     "cell_type": "code",
     "collapsed": false,
     "input": [
      "find_pen_digit_string(7254)"
     ],
     "language": "python",
     "outputs": [
      {
       "output_type": "pyout",
       "prompt_number": 99,
       "text": [
        "7254"
       ]
      }
     ],
     "prompt_number": 99
    },
    {
     "cell_type": "code",
     "collapsed": false,
     "input": [
      "result = []\n",
      "\n",
      "(4140..9876).lazy.each do |i|\n",
      "  temp = find_pen_digit_string(i)\n",
      "  result << temp if temp != nil\n",
      "end"
     ],
     "language": "python",
     "outputs": [
      {
       "output_type": "pyout",
       "prompt_number": 117,
       "text": [
        "4140..9876"
       ]
      }
     ],
     "prompt_number": 117
    },
    {
     "cell_type": "code",
     "collapsed": false,
     "input": [
      "result"
     ],
     "language": "python",
     "outputs": [
      {
       "output_type": "pyout",
       "prompt_number": 118,
       "text": [
        "[4396, 5346, 5796, 7254, 7632]"
       ]
      }
     ],
     "prompt_number": 118
    },
    {
     "cell_type": "code",
     "collapsed": false,
     "input": [
      "result.inject &:+"
     ],
     "language": "python",
     "outputs": [
      {
       "output_type": "pyout",
       "prompt_number": 119,
       "text": [
        "30424"
       ]
      }
     ],
     "prompt_number": 119
    },
    {
     "cell_type": "code",
     "collapsed": false,
     "input": [
      "def find_pen_digit_string41(num)\n",
      "  return unless pen_digital?(num)\n",
      "\n",
      "  result = []\n",
      "  source = [1, 2, 3, 4, 5, 6, 7, 8, 9] - num.to_s.split(\"\").map{|i| i.to_i}\n",
      "\n",
      "  multiplicand = source.combination(4)\n",
      "  multiplicand.each do |com|\n",
      "    multiplier = source - com\n",
      "    left = com.permutation(4).map{|a,b,c,d| [a,b,c,d]}\n",
      "    right = multiplier.permutation(1).map{|a| [a]}\n",
      "\n",
      "    strings = left.product(right).map do |arr|\n",
      "      arr[0].join + \"*\" + arr[1].join + \"=\" + num.to_s\n",
      "    end\n",
      "\n",
      "    strings.each do |string|\n",
      "      return num if pen_digital_string?(string)\n",
      "    end\n",
      "  end\n",
      "\n",
      "  return \n",
      "end\n",
      "\n",
      "find_pen_digit_string41(\"1234\")"
     ],
     "language": "python",
     "outputs": [],
     "prompt_number": 145
    },
    {
     "cell_type": "code",
     "collapsed": false,
     "input": [
      "result = []\n",
      "\n",
      "(1234..9876).lazy.each do |i|\n",
      "  temp = find_pen_digit_string41(i)\n",
      "  result << temp if temp != nil\n",
      "end"
     ],
     "language": "python",
     "outputs": [
      {
       "output_type": "pyout",
       "prompt_number": 146,
       "text": [
        "1234..9876"
       ]
      }
     ],
     "prompt_number": 146
    },
    {
     "cell_type": "code",
     "collapsed": false,
     "input": [
      "result"
     ],
     "language": "python",
     "outputs": [
      {
       "output_type": "pyout",
       "prompt_number": 147,
       "text": [
        "[6952, 7852]"
       ]
      }
     ],
     "prompt_number": 147
    },
    {
     "cell_type": "code",
     "collapsed": false,
     "input": [
      "30424 + 6952 + 7852"
     ],
     "language": "python",
     "outputs": [
      {
       "output_type": "pyout",
       "prompt_number": 148,
       "text": [
        "45228"
       ]
      }
     ],
     "prompt_number": 148
    }
   ]
  }
 ]
}