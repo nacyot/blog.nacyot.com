{
 "metadata": {
  "name": ""
 },
 "nbformat": 3,
 "nbformat_minor": 0,
 "worksheets": [
  {
   "cells": [
    {
     "cell_type": "markdown",
     "source": [
      "## \ud14c\uc2a4\ud2b8 \uc900\ube44\n",
      "\n",
      "\uc77c\ubc18\uc801\uc73c\ub85c \ud14c\uc2a4\ud2b8 \ud30c\uc77c\uc740 \ud504\ub85c\uadf8\ub7a8 \ud30c\uc77c\uacfc \ubcc4\uac1c\ub85c \uc791\uc131\ub429\ub2c8\ub2e4. \uc5ec\uae30\uc11c\ub294 \ud3b8\uc758\uc0c1 pry \uc704\uc5d0\uc11c \ubc14\ub85c \ud14c\uc2a4\ud2b8\ub97c \uc9c4\ud589\ud569\ub2c8\ub2e4. \ub530\ub77c\uc11c \uc774 \uae00\uc758 \ub0b4\uc6a9\uc740 irb\ub098 pry\ub97c \ud1b5\ud574\uc11c \ub530\ub77c\ud574\ubcfc \uc218 \uc788\uc2b5\ub2c8\ub2e4. \ud544\uc694\ud55c \uacbd\uc6b0 \uba3c\uc800 rspec\uacfc pry \ud328\ud0a4\uc9c0\ub97c \uc124\uce58\ud569\ub2c8\ub2e4\n",
      "\n",
      "```sh\n",
      "$ gem install rspec pry\n",
      "```\n",
      "\n",
      "\ub2e4\uc74c\uc73c\ub85c pry\ub97c \uc2e4\ud589\ud569\ub2c8\ub2e4\n",
      "\n",
      "```\n",
      "$ pry\n",
      "[1] pry(main)>\n",
      "```\n",
      "\n",
      "\ub2e4\uc74c\uc73c\ub85c Matecher\ub97c \uc0ac\uc6a9\ud558\uae30 \uc704\ud574 `rspec`\uacfc `RSpec::Matchers`\ub97c \uc77d\uc5b4\ub4e4\uc785\ub2c8\ub2e4."
     ]
    },
    {
     "cell_type": "code",
     "collapsed": false,
     "input": [
      "require 'rspec'\n",
      "include RSpec::Matchers"
     ],
     "language": "python",
     "outputs": [
      {
       "output_type": "pyout",
       "prompt_number": 184,
       "text": [
        "Object"
       ]
      }
     ],
     "prompt_number": 184
    },
    {
     "cell_type": "markdown",
     "source": [
      "## \ud14c\uc2a4\ud2b8 \uae30\ucd08\n",
      "\n",
      "\ud14c\uc2a4\ud2b8\ub294 \uae30\ubcf8\uc801\uc73c\ub85c \uc544\ub798\uc640 \uac19\uc740 \ud615\uc2dd\uc73c\ub85c \uc4f0\uc5ec\uc9d1\ub2c8\ub2e4\n",
      "\n",
      "```ruby\n",
      "expect(actual).to be(expected)\n",
      "```\n",
      "\n",
      "\uc5ec\uae30\uc11c `actual`\uc5d0\ub294 \uc2e4\uc81c\ub85c \ud14c\uc2a4\ud2b8\ud558\uace0\uc790 \ud558\ub294 \uac1d\uccb4\uac00 \ub4e4\uc5b4\uac00\uba70, `expected`\uc5d0\ub294 \uc608\uc0c1\ud558\ub294 \uac12\uc774 \ub4e4\uc5b4\uac11\ub2c8\ub2e4. \uadf8\ub9ac\uace0 `be`\ub294 `actual`\uacfc `expected`\ub97c \ube44\uad50\ud558\uae30 \uc704\ud55c \ub9e4\uccd0\ub97c \uc9c0\uc815\ud569\ub2c8\ub2e4\n",
      "\n",
      "\ub610\ud55c \ub2e8\uc5b8\ubb38\uacfc \ub9c8\ucc2c\uac00\uc9c0\ub85c \ud14c\uc2a4\ud2b8\uac00 \uc2e4\ud328\ud558\uba74 \uc608\uc678\ub97c \ubc1c\uc0dd\uc2dc\ud0b5\ub2c8\ub2e4. \uc989, \ub9ac\ud134\uac12\uc774 true\ub77c\uace0 \ud574\uc11c \ud14c\uc2a4\ud2b8\uac00 \uc131\uacf5\uc744 \uc758\ubbf8\ud558\ub294 \uac8c \uc544\ub2c8\uba70, \uac70\uafb8\ub85c false\ub77c\uace0 \ud574\uc11c \uc2e4\ud328\ub97c \uc758\ubbf8\ud558\ub294 \uac8c \uc544\ub2d9\ub2c8\ub2e4. \ud14c\uc2a4\ud2b8\uac00 \uc2e4\ud328\ud558\uba74 `RSpec::Expectations::ExpectationNotMetError` \uc608\uc678\uac00 \ubc1c\uc0dd\ud569\ub2c8\ub2e4."
     ]
    },
    {
     "cell_type": "markdown",
     "source": [
      "## \ub3d9\uc77c\uac12 \ud14c\uc2a4\ud2b8 \ub9e4\uccd0\n",
      "\n",
      "\uac00\uc7a5 \uae30\ubcf8\uc801\uc774\uace0 \uac00\uc7a5 \ub9ce\uc774 \uc4f0\uc774\ub294 \ub9e4\uccd0\ub294 \uc2e4\uc81c\uac12\uacfc \uc608\uc0c1\ub418\ub294 \uac12\uc774 \uac19\uc740 \uc9c0\ub97c \ube44\uad50\ud558\ub294 \ub9e4\uccd0\uc785\ub2c8\ub2e4"
     ]
    },
    {
     "cell_type": "code",
     "collapsed": false,
     "input": [
      "# Equivalence\n",
      "expect(\"\ud504\ub85c\uadf8\ub798\ubc0d \uc5b8\uc5b4 \ub8e8\ube44\").to eq(\"\ud504\ub85c\uadf8\ub798\ubc0d \uc5b8\uc5b4 \ub8e8\ube44\")"
     ],
     "language": "python",
     "outputs": [
      {
       "output_type": "pyout",
       "prompt_number": 185,
       "text": [
        "true"
       ]
      }
     ],
     "prompt_number": 185
    },
    {
     "cell_type": "code",
     "collapsed": false,
     "input": [
      "expect(\"\ud504\ub85c\uadf8\ub798\ubc0d \uc5b8\uc5b4 \ub8e8\ube44\").to eql(\"\ud504\ub85c\uadf8\ub798\ubc0d \uc5b8\uc5b4 \ub8e8\ube44\")"
     ],
     "language": "python",
     "outputs": [
      {
       "output_type": "pyout",
       "prompt_number": 186,
       "text": [
        "true"
       ]
      }
     ],
     "prompt_number": 186
    },
    {
     "cell_type": "code",
     "collapsed": false,
     "input": [
      "expect(\"\ud504\ub85c\uadf8\ub798\ubc0d \uc5b8\uc5b4 \ub8e8\ube44\").to be == \"\ud504\ub85c\uadf8\ub798\ubc0d \uc5b8\uc5b4 \ub8e8\ube44\""
     ],
     "language": "python",
     "outputs": [
      {
       "output_type": "pyout",
       "prompt_number": 187,
       "text": [
        "true"
       ]
      }
     ],
     "prompt_number": 187
    },
    {
     "cell_type": "markdown",
     "source": [
      "## \ub3d9\uc77c\uc131 \ud14c\uc2a4\ud2b8 \ub9e4\uccd0\n",
      "\n",
      "`eq`\uac00 \uc2e4\uc81c\uac12\uacfc \uc608\uc0c1\uac12\uc774 \uac19\uc740\uc9c0\ub97c \ud3c9\uac00\ud558\ub294 \ub9e4\uccd0\ub77c\uba74, `equal`\uc740 \ube44\uad50\ud558\ub294 \ub450 \uac1d\uccb4\uac00 \uac19\uc740 \uac1d\uccb4\uc778\uc9c0\ub97c \ud14c\uc2a4\ud2b8\ud569\ub2c8\ub2e4. \ub8e8\ube44\uc5d0\uc120 \uac19\uc740 \uac12\uc744 \uac00\uc9c4 \uc2ec\ubcfc\uc740 \ud56d\uc0c1 \uac19\uc740 \uac1d\uccb4\uc785\ub2c8\ub2e4. \ud558\uc9c0\ub9cc \uac19\uc740 \uac12\uc744 \uac00\uc9c0\uace0 \uc788\ub354\ub77c\ub3c4 \ubcc4\uac1c\ub85c \uc0dd\uc131\ub41c \ubb38\uc790\uc5f4\uc740 \ub2e4\ub978 \ubb38\uc790\uc5f4\uc785\ub2c8\ub2e4. \ub530\ub77c\uc11c \uac19\uc740 \uac12\uc744 \uac00\uc9c4 \uc2ec\ubcfc\uc740 \ub3d9\uc77c\uc131 \ud14c\uc2a4\ud2b8\ub97c \ud1b5\uacfc\ud558\uc9c0\ub9cc, \uc544\ub798 \ubb38\uc790\uc5f4 \ud14c\uc2a4\ud2b8\ub294 \uc2e4\ud328\ud569\ub2c8\ub2e4"
     ]
    },
    {
     "cell_type": "code",
     "collapsed": false,
     "input": [
      "# Identity\n",
      "expect(:Hello_world).to equal(:Hello_world)"
     ],
     "language": "python",
     "outputs": [
      {
       "output_type": "pyout",
       "prompt_number": 188,
       "text": [
        "true"
       ]
      }
     ],
     "prompt_number": 188
    },
    {
     "cell_type": "code",
     "collapsed": false,
     "input": [
      "expect(:Hello_world).to be(:Hello_world)"
     ],
     "language": "python",
     "outputs": [
      {
       "output_type": "pyout",
       "prompt_number": 189,
       "text": [
        "true"
       ]
      }
     ],
     "prompt_number": 189
    },
    {
     "cell_type": "code",
     "collapsed": false,
     "input": [
      "expect(\"Hello, World\").to equal(\"Hello, World\")"
     ],
     "language": "python",
     "outputs": [
      {
       "ename": "RSpec::Expectations::ExpectationNotMetError",
       "evalue": "\nexpected #<String:70158862817480> => \"Hello, World\"\n     got #<String:70158862817540> => \"Hello, World\"\n\nCompared using equal?, which compares object identity,\nbut expected and actual are not the same object. Use\n`expect(actual).to eq(expected)` if you don't care about\nobject identity in this example.\n\n",
       "output_type": "pyerr",
       "traceback": [
        "\u001b[31mRSpec::Expectations::ExpectationNotMetError\u001b[0m: \nexpected #<String:70158862817480> => \"Hello, World\"\n     got #<String:70158862817540> => \"Hello, World\"\n\nCompared using equal?, which compares object identity,\nbut expected and actual are not the same object. Use\n`expect(actual).to eq(expected)` if you don't care about\nobject identity in this example.\n\n",
        "\u001b[37m/home/nacyot/.rbenv/versions/2.1.0/lib/ruby/gems/2.1.0/gems/rspec-expectations-2.14.5/lib/rspec/expectations/fail_with.rb:32:in `fail_with'\u001b[0m",
        "\u001b[37m/home/nacyot/.rbenv/versions/2.1.0/lib/ruby/gems/2.1.0/gems/rspec-expectations-2.14.5/lib/rspec/expectations/handler.rb:34:in `handle_matcher'\u001b[0m",
        "\u001b[37m/home/nacyot/.rbenv/versions/2.1.0/lib/ruby/gems/2.1.0/gems/rspec-expectations-2.14.5/lib/rspec/expectations/expectation_target.rb:34:in `to'\u001b[0m",
        "\u001b[37m(pry):450:in `<main>'\u001b[0m",
        "\u001b[37m/home/nacyot/.rbenv/versions/2.1.0/lib/ruby/gems/2.1.0/gems/pry-1.0.0.pre1/lib/pry/pry_instance.rb:369:in `eval'\u001b[0m",
        "\u001b[37m/home/nacyot/.rbenv/versions/2.1.0/lib/ruby/gems/2.1.0/gems/pry-1.0.0.pre1/lib/pry/pry_instance.rb:369:in `evaluate_ruby'\u001b[0m",
        "\u001b[37m/home/nacyot/.rbenv/versions/2.1.0/lib/ruby/gems/2.1.0/gems/pry-1.0.0.pre1/lib/pry/pry_instance.rb:334:in `handle_line'\u001b[0m",
        "\u001b[37m/home/nacyot/.rbenv/versions/2.1.0/lib/ruby/gems/2.1.0/gems/pry-1.0.0.pre1/lib/pry/pry_instance.rb:270:in `block (2 levels) in eval'\u001b[0m",
        "\u001b[37m/home/nacyot/.rbenv/versions/2.1.0/lib/ruby/gems/2.1.0/gems/pry-1.0.0.pre1/lib/pry/pry_instance.rb:269:in `catch'\u001b[0m",
        "\u001b[37m/home/nacyot/.rbenv/versions/2.1.0/lib/ruby/gems/2.1.0/gems/pry-1.0.0.pre1/lib/pry/pry_instance.rb:269:in `block in eval'\u001b[0m",
        "\u001b[37m/home/nacyot/.rbenv/versions/2.1.0/lib/ruby/gems/2.1.0/gems/pry-1.0.0.pre1/lib/pry/pry_instance.rb:268:in `catch'\u001b[0m",
        "\u001b[37m/home/nacyot/.rbenv/versions/2.1.0/lib/ruby/gems/2.1.0/gems/pry-1.0.0.pre1/lib/pry/pry_instance.rb:268:in `eval'\u001b[0m",
        "\u001b[37m/home/nacyot/.rbenv/versions/2.1.0/lib/ruby/gems/2.1.0/gems/iruby-0.1.7/lib/iruby/backend.rb:35:in `eval'\u001b[0m",
        "\u001b[37m/home/nacyot/.rbenv/versions/2.1.0/lib/ruby/gems/2.1.0/gems/iruby-0.1.7/lib/iruby/kernel.rb:105:in `execute_request'\u001b[0m",
        "\u001b[37m/home/nacyot/.rbenv/versions/2.1.0/lib/ruby/gems/2.1.0/gems/iruby-0.1.7/lib/iruby/kernel.rb:57:in `run'\u001b[0m",
        "\u001b[37m/home/nacyot/.rbenv/versions/2.1.0/lib/ruby/gems/2.1.0/gems/iruby-0.1.7/lib/iruby/command.rb:28:in `run_kernel'\u001b[0m",
        "\u001b[37m/home/nacyot/.rbenv/versions/2.1.0/lib/ruby/gems/2.1.0/gems/iruby-0.1.7/lib/iruby/command.rb:15:in `run'\u001b[0m",
        "\u001b[37m/home/nacyot/.rbenv/versions/2.1.0/lib/ruby/gems/2.1.0/gems/iruby-0.1.7/bin/iruby:6:in `<top (required)>'\u001b[0m",
        "\u001b[37m/home/nacyot/.rbenv/versions/2.1.0/bin/iruby:23:in `load'\u001b[0m",
        "\u001b[37m/home/nacyot/.rbenv/versions/2.1.0/bin/iruby:23:in `<main>'\u001b[0m"
       ]
      }
     ],
     "prompt_number": 190
    },
    {
     "cell_type": "markdown",
     "source": [
      "## \uc5f0\uc0b0\uc790 \ub9e4\uccd0\n",
      "\n",
      "\ub3d9\uc77c\uac12 \ud14c\uc2a4\ud2b8\ub9cc\ud07c \ub9ce\uc774 \uc0ac\uc6a9\ub418\ub294 \ub9e4\uccd0\ub294 \uc2e4\uc81c\uac12\uacfc \uc608\uc0c1\uac12\uc744 \ube44\uad50\ud558\ub294 \uc5f0\uc0b0\uc790 \ub9e4\uccd0\uc785\ub2c8\ub2e4. \uae30\ubcf8\uc801\uc73c\ub85c \ub3d9\uc77c\uac12\uc744 \ube44\uad50\ud558\ub294 `==`\uc744 \ube44\ub86f\ud574 `>`, `>=`, `<=`, `<` \ub4f1\uc744 \uc0ac\uc6a9\ud560 \uc218 \uc788\uc2b5\ub2c8\ub2e4."
     ]
    },
    {
     "cell_type": "code",
     "collapsed": false,
     "input": [
      "# Comparisons\n",
      "expect(100 + 1).to be > 100"
     ],
     "language": "python",
     "outputs": [
      {
       "output_type": "pyout",
       "prompt_number": 191,
       "text": [
        "true"
       ]
      }
     ],
     "prompt_number": 191
    },
    {
     "cell_type": "code",
     "collapsed": false,
     "input": [
      "expect(100 - 1).to be < 100"
     ],
     "language": "python",
     "outputs": [
      {
       "output_type": "pyout",
       "prompt_number": 192,
       "text": [
        "true"
       ]
      }
     ],
     "prompt_number": 192
    },
    {
     "cell_type": "markdown",
     "source": [
      "`match`\uc640 `=~`\ub294 \ud2b9\uc815 \ubb38\uc790\uc5f4\uc774 \uc8fc\uc5b4\uc9c4 \uc815\uaddc\ud45c\ud604\uc2dd\uc5d0 \ub9e4\uce58\ub418\ub294 \uc9c0 \uc5ec\ubd80\ub97c \ud14c\uc2a4\ud2b8\ud569\ub2c8\ub2e4."
     ]
    },
    {
     "cell_type": "code",
     "collapsed": false,
     "input": [
      "expect(\"\ub098\ub78f\ub9d0 \uc2f8\ubbf8 \ub4d5\uad6d\uacfc \ub2ec\ub77c\").to match(/\ub4d5\uad6d/)"
     ],
     "language": "python",
     "outputs": [
      {
       "output_type": "pyout",
       "prompt_number": 193,
       "text": [
        "#<MatchData \"\ub4d5\uad6d\">"
       ]
      }
     ],
     "prompt_number": 193
    },
    {
     "cell_type": "code",
     "collapsed": false,
     "input": [
      "expect(\"\ub098\ub78f\ub9d0 \uc2f8\ubbf8 \ub4d5\uad6d\uacfc \ub2ec\ub77c\").to be =~ /\ub4d5\uad6d/"
     ],
     "language": "python",
     "outputs": [
      {
       "output_type": "pyout",
       "prompt_number": 194,
       "text": [
        "7"
       ]
      }
     ],
     "prompt_number": 194
    },
    {
     "cell_type": "markdown",
     "source": [
      "## \uc22b\uc790 \ubc94\uc704 \ub9e4\uccd0\n",
      "\n",
      "`be_within.of` \ub9e4\uccd0\ub294 \uc2e4\uc81c\uac12\uc774 \uc608\uc0c1\uac12 +- \ud2b9\uc815 \ubc94\uc704\uc5d0 \ud3ec\ud568\ub418\ub294 \uc9c0 \uc5ec\ubd80\ub97c \ud14c\uc2a4\ud2b8\ud569\ub2c8\ub2e4."
     ]
    },
    {
     "cell_type": "code",
     "collapsed": false,
     "input": [
      "expect(100).to be_within(5).of(100 + 3)"
     ],
     "language": "python",
     "outputs": [
      {
       "output_type": "pyout",
       "prompt_number": 195,
       "text": [
        "true"
       ]
      }
     ],
     "prompt_number": 195
    },
    {
     "cell_type": "code",
     "collapsed": false,
     "input": [
      "expect(100).to be_within(5).of(100 + 6)"
     ],
     "language": "python",
     "outputs": [
      {
       "ename": "RSpec::Expectations::ExpectationNotMetError",
       "evalue": "expected 100 to be within 5 of 106",
       "output_type": "pyerr",
       "traceback": [
        "\u001b[31mRSpec::Expectations::ExpectationNotMetError\u001b[0m: expected 100 to be within 5 of 106",
        "\u001b[37m/home/nacyot/.rbenv/versions/2.1.0/lib/ruby/gems/2.1.0/gems/rspec-expectations-2.14.5/lib/rspec/expectations/fail_with.rb:32:in `fail_with'\u001b[0m",
        "\u001b[37m/home/nacyot/.rbenv/versions/2.1.0/lib/ruby/gems/2.1.0/gems/rspec-expectations-2.14.5/lib/rspec/expectations/handler.rb:36:in `handle_matcher'\u001b[0m",
        "\u001b[37m/home/nacyot/.rbenv/versions/2.1.0/lib/ruby/gems/2.1.0/gems/rspec-expectations-2.14.5/lib/rspec/expectations/expectation_target.rb:34:in `to'\u001b[0m",
        "\u001b[37m(pry):463:in `<main>'\u001b[0m",
        "\u001b[37m/home/nacyot/.rbenv/versions/2.1.0/lib/ruby/gems/2.1.0/gems/pry-1.0.0.pre1/lib/pry/pry_instance.rb:369:in `eval'\u001b[0m",
        "\u001b[37m/home/nacyot/.rbenv/versions/2.1.0/lib/ruby/gems/2.1.0/gems/pry-1.0.0.pre1/lib/pry/pry_instance.rb:369:in `evaluate_ruby'\u001b[0m",
        "\u001b[37m/home/nacyot/.rbenv/versions/2.1.0/lib/ruby/gems/2.1.0/gems/pry-1.0.0.pre1/lib/pry/pry_instance.rb:334:in `handle_line'\u001b[0m",
        "\u001b[37m/home/nacyot/.rbenv/versions/2.1.0/lib/ruby/gems/2.1.0/gems/pry-1.0.0.pre1/lib/pry/pry_instance.rb:270:in `block (2 levels) in eval'\u001b[0m",
        "\u001b[37m/home/nacyot/.rbenv/versions/2.1.0/lib/ruby/gems/2.1.0/gems/pry-1.0.0.pre1/lib/pry/pry_instance.rb:269:in `catch'\u001b[0m",
        "\u001b[37m/home/nacyot/.rbenv/versions/2.1.0/lib/ruby/gems/2.1.0/gems/pry-1.0.0.pre1/lib/pry/pry_instance.rb:269:in `block in eval'\u001b[0m",
        "\u001b[37m/home/nacyot/.rbenv/versions/2.1.0/lib/ruby/gems/2.1.0/gems/pry-1.0.0.pre1/lib/pry/pry_instance.rb:268:in `catch'\u001b[0m",
        "\u001b[37m/home/nacyot/.rbenv/versions/2.1.0/lib/ruby/gems/2.1.0/gems/pry-1.0.0.pre1/lib/pry/pry_instance.rb:268:in `eval'\u001b[0m",
        "\u001b[37m/home/nacyot/.rbenv/versions/2.1.0/lib/ruby/gems/2.1.0/gems/iruby-0.1.7/lib/iruby/backend.rb:35:in `eval'\u001b[0m",
        "\u001b[37m/home/nacyot/.rbenv/versions/2.1.0/lib/ruby/gems/2.1.0/gems/iruby-0.1.7/lib/iruby/kernel.rb:105:in `execute_request'\u001b[0m",
        "\u001b[37m/home/nacyot/.rbenv/versions/2.1.0/lib/ruby/gems/2.1.0/gems/iruby-0.1.7/lib/iruby/kernel.rb:57:in `run'\u001b[0m",
        "\u001b[37m/home/nacyot/.rbenv/versions/2.1.0/lib/ruby/gems/2.1.0/gems/iruby-0.1.7/lib/iruby/command.rb:28:in `run_kernel'\u001b[0m",
        "\u001b[37m/home/nacyot/.rbenv/versions/2.1.0/lib/ruby/gems/2.1.0/gems/iruby-0.1.7/lib/iruby/command.rb:15:in `run'\u001b[0m",
        "\u001b[37m/home/nacyot/.rbenv/versions/2.1.0/lib/ruby/gems/2.1.0/gems/iruby-0.1.7/bin/iruby:6:in `<top (required)>'\u001b[0m",
        "\u001b[37m/home/nacyot/.rbenv/versions/2.1.0/bin/iruby:23:in `load'\u001b[0m",
        "\u001b[37m/home/nacyot/.rbenv/versions/2.1.0/bin/iruby:23:in `<main>'\u001b[0m"
       ]
      }
     ],
     "prompt_number": 196
    },
    {
     "cell_type": "markdown",
     "source": [
      "## \ud0c0\uc785 \ub9e4\uccd0\n",
      "\n",
      "\uc5b4\ub5a4 \uac1d\uccb4\uac00 \uc5b4\ub5a4 \ud074\ub798\uc2a4\ub85c\ubd80\ud130 \ub9cc\ub4e4\uc5b4\uc84c\ub294\uc9c0 \ud14c\uc2a4\ud2b8\ud560 \uc218 \uc788\uc2b5\ub2c8\ub2e4."
     ]
    },
    {
     "cell_type": "code",
     "collapsed": false,
     "input": [
      "# Types and classes\n",
      "expect(\"Ruby\").to be_instance_of(String)"
     ],
     "language": "python",
     "outputs": [
      {
       "output_type": "pyout",
       "prompt_number": 197,
       "text": [
        "true"
       ]
      }
     ],
     "prompt_number": 197
    },
    {
     "cell_type": "code",
     "collapsed": false,
     "input": [
      "expect(\"Ruby\").to be_an_instance_of(String)"
     ],
     "language": "python",
     "outputs": [
      {
       "output_type": "pyout",
       "prompt_number": 198,
       "text": [
        "true"
       ]
      }
     ],
     "prompt_number": 198
    },
    {
     "cell_type": "code",
     "collapsed": false,
     "input": [
      "expect(\"Ruby\").to be_a(String)"
     ],
     "language": "python",
     "outputs": [
      {
       "output_type": "pyout",
       "prompt_number": 199,
       "text": [
        "true"
       ]
      }
     ],
     "prompt_number": 199
    },
    {
     "cell_type": "code",
     "collapsed": false,
     "input": [
      "expect(\"Ruby\").to be_kind_of(String)"
     ],
     "language": "python",
     "outputs": [
      {
       "output_type": "pyout",
       "prompt_number": 200,
       "text": [
        "true"
       ]
      }
     ],
     "prompt_number": 200
    },
    {
     "cell_type": "markdown",
     "source": [
      "## \ucc38\uac70\uc9d3 \ub9e4\uccd0\n",
      "\n",
      "\uc5b4\ub5a4 \uac1d\uccb4\uac00 \ucc38\uc778\uc9c0 \uac70\uc9d3\uc778\uc9c0 \ud14c\uc2a4\ud2b8\ud560 \uc218 \uc788\uc2b5\ub2c8\ub2e4."
     ]
    },
    {
     "cell_type": "code",
     "collapsed": false,
     "input": [
      "# Truthiness and existentialism\n",
      "expect(\"\").to be_true"
     ],
     "language": "python",
     "outputs": [
      {
       "output_type": "pyout",
       "prompt_number": 201,
       "text": [
        "true"
       ]
      }
     ],
     "prompt_number": 201
    },
    {
     "cell_type": "code",
     "collapsed": false,
     "input": [
      "expect(nil).to be_false"
     ],
     "language": "python",
     "outputs": [
      {
       "output_type": "pyout",
       "prompt_number": 202,
       "text": [
        "true"
       ]
      }
     ],
     "prompt_number": 202
    },
    {
     "cell_type": "markdown",
     "source": [
      "## \uc874\uc7ac(be) \ub9e4\uccd0"
     ]
    },
    {
     "cell_type": "code",
     "collapsed": false,
     "input": [
      "expect(true).to be"
     ],
     "language": "python",
     "outputs": [
      {
       "output_type": "pyout",
       "prompt_number": 203,
       "text": [
        "true"
       ]
      }
     ],
     "prompt_number": 203
    },
    {
     "cell_type": "code",
     "collapsed": false,
     "input": [
      "expect(7).to be"
     ],
     "language": "python",
     "outputs": [
      {
       "output_type": "pyout",
       "prompt_number": 204,
       "text": [
        "true"
       ]
      }
     ],
     "prompt_number": 204
    },
    {
     "cell_type": "code",
     "collapsed": false,
     "input": [
      "expect(nil).not_to be"
     ],
     "language": "python",
     "outputs": [
      {
       "output_type": "pyout",
       "prompt_number": 205,
       "text": [
        "false"
       ]
      }
     ],
     "prompt_number": 205
    },
    {
     "cell_type": "code",
     "collapsed": false,
     "input": [
      "expect(nil).to be_nil"
     ],
     "language": "python",
     "outputs": [
      {
       "output_type": "pyout",
       "prompt_number": 206,
       "text": [
        "true"
       ]
      }
     ],
     "prompt_number": 206
    },
    {
     "cell_type": "markdown",
     "source": [
      "## \ubcc0\ud654 \ub9e4\uccd0\n",
      "\n",
      "`change` \ub9e4\uccd0\ub294 `expect`\uc5d0 \uc8fc\uc5b4\uc9c4 \ube14\ub85d\uc774 \uc2e4\ud589\ub418\uc5c8\uc744 \ub54c `change`\uc5d0 \uc8fc\uc5b4\uc9c4 \ube14\ub85d\uc758 \ud3c9\uac00 \uacb0\uacfc\uac00 \ubcc0\ud654\ud558\ub294 \uc9c0\ub97c \ud14c\uc2a4\ud2b8\ud569\ub2c8\ub2e4. \ubcc0\ud654\ud588\ub2e4\uba74 \ud14c\uc2a4\ud2b8\uac00 \ud1b5\uacfc\ud569\ub2c8\ub2e4. \ud544\uc694\uc5d0 \ub530\ub77c\uc11c \uc5bc\ub9c8\ub9cc\ud07c \ubcc0\ud654\ud588\ub294\uc9c0\ub97c \ud14c\uc2a4\ud2b8\ud560 \uc218 \uc788\ub294 `by`\ub098 `expect` \ube14\ub85d\uc744 \uc2e4\ud589\uc2dc\ud0a4\uae30 \uc804\uc758 \uac12\uc744 \ud14c\uc2a4\ud2b8\ud560 \uc218 \uc788\ub294 `from`, \ud3c9\uac00\ud55c \uc774\ud6c4\uc758 \uac12\uc744 \ud14c\uc2a4\ud2b8 \ud560 \uc218 \uc788\ub294 `to` \uba54\uc18c\ub4dc\uc640 \ud568\uaed8 \uc0ac\uc6a9\ub420 \uc218 \uc788\uc2b5\ub2c8\ub2e4"
     ]
    },
    {
     "cell_type": "code",
     "collapsed": false,
     "input": [
      "arr = []\n",
      "expect{arr << 1}.to change{arr.count}"
     ],
     "language": "python",
     "outputs": [
      {
       "output_type": "pyout",
       "prompt_number": 207,
       "text": [
        "true"
       ]
      }
     ],
     "prompt_number": 207
    },
    {
     "cell_type": "code",
     "collapsed": false,
     "input": [
      "expect{arr << 1}.to change{arr.count}.by(1)"
     ],
     "language": "python",
     "outputs": [
      {
       "output_type": "pyout",
       "prompt_number": 208,
       "text": [
        "true"
       ]
      }
     ],
     "prompt_number": 208
    },
    {
     "cell_type": "code",
     "collapsed": false,
     "input": [
      "str = \"Hello, world.\"\n",
      "expect{ str.upcase! }.to change{ str }.from(\"Hello, world.\").to(\"HELLO, WORLD.\")"
     ],
     "language": "python",
     "outputs": [
      {
       "output_type": "pyout",
       "prompt_number": 209,
       "text": [
        "true"
       ]
      }
     ],
     "prompt_number": 209
    },
    {
     "cell_type": "markdown",
     "source": [
      "## \uc608\uc678 \uba54\uccd0\n",
      "\n",
      "`expect`\uc5d0 \uc8fc\uc5b4\uc9c4 \ube14\ub85d\uc758 \ud3c9\uac00 \uacb0\uacfc\uac00 \uc608\uc678\ub97c \uc77c\uc73c\ud0a4\ub294 \uc9c0 \ud14c\uc2a4\ud2b8\ud569\ub2c8\ub2e4. expect\uac00 \ube14\ub85d\uc744 \ubc1b\ub294\ub2e4\ub294 \ub370 \uc8fc\uc758\uac00 \ud544\uc694\ud569\ub2c8\ub2e4."
     ]
    },
    {
     "cell_type": "code",
     "collapsed": false,
     "input": [
      "# Expecting errors\n",
      "expect{ raise }.to raise_error"
     ],
     "language": "python",
     "outputs": [
      {
       "output_type": "pyout",
       "prompt_number": 210,
       "text": [
        "true"
       ]
      }
     ],
     "prompt_number": 210
    },
    {
     "cell_type": "code",
     "collapsed": false,
     "input": [
      "expect{ non_existance }.to raise_error"
     ],
     "language": "python",
     "outputs": [
      {
       "output_type": "pyout",
       "prompt_number": 211,
       "text": [
        "true"
       ]
      }
     ],
     "prompt_number": 211
    },
    {
     "cell_type": "code",
     "collapsed": false,
     "input": [
      "expect { non_existance }.to raise_error(NameError)"
     ],
     "language": "python",
     "outputs": [
      {
       "output_type": "pyout",
       "prompt_number": 212,
       "text": [
        "true"
       ]
      }
     ],
     "prompt_number": 212
    },
    {
     "cell_type": "markdown",
     "source": [
      "## Have \ub9e4\uccd0\n",
      "\n",
      "\uceec\ub809\uc158 \uac1d\uccb4\uac00 \uba87 \uac1c\uc758 \ud56d\ubaa9\uc744 \uac00\uc9c0\uace0 \uc788\ub294 \uc9c0 \ud14c\uc2a4\ud2b8\ud569\ub2c8\ub2e4."
     ]
    },
    {
     "cell_type": "code",
     "collapsed": false,
     "input": [
      "arr = \"Hello\".split(\"\")"
     ],
     "language": "python",
     "outputs": [
      {
       "output_type": "pyout",
       "prompt_number": 213,
       "text": [
        "[\"H\", \"e\", \"l\", \"l\", \"o\"]"
       ]
      }
     ],
     "prompt_number": 213
    },
    {
     "cell_type": "code",
     "collapsed": false,
     "input": [
      "expect(arr).to have(5).items"
     ],
     "language": "python",
     "outputs": [
      {
       "output_type": "pyout",
       "prompt_number": 214,
       "text": [
        "true"
       ]
      }
     ],
     "prompt_number": 214
    },
    {
     "cell_type": "code",
     "collapsed": false,
     "input": [
      "expect(arr).to have_exactly(5).items"
     ],
     "language": "python",
     "outputs": [
      {
       "output_type": "pyout",
       "prompt_number": 215,
       "text": [
        "true"
       ]
      }
     ],
     "prompt_number": 215
    },
    {
     "cell_type": "code",
     "collapsed": false,
     "input": [
      "expect(arr).to have_at_least(1).items"
     ],
     "language": "python",
     "outputs": [
      {
       "output_type": "pyout",
       "prompt_number": 216,
       "text": [
        "true"
       ]
      }
     ],
     "prompt_number": 216
    },
    {
     "cell_type": "code",
     "collapsed": false,
     "input": [
      "expect(arr).to have_at_most(10).items"
     ],
     "language": "python",
     "outputs": [
      {
       "output_type": "pyout",
       "prompt_number": 217,
       "text": [
        "true"
       ]
      }
     ],
     "prompt_number": 217
    },
    {
     "cell_type": "markdown",
     "source": [
      "## have_key \ub9e4\uccd0\n",
      "\n",
      "\ud574\uc2dc\uc5d0 \ud2b9\uc815 \ud0a4\uac00 \ud3ec\ud568\ub418\uc5b4\uc788\ub294 \uc9c0 \ud14c\uc2a4\ud2b8\ud569\ub2c8\ub2e4."
     ]
    },
    {
     "cell_type": "code",
     "collapsed": false,
     "input": [
      "expect({name: \"nacyot\", blog: \"blog.nacyot.com\"}).to have_key(:name)"
     ],
     "language": "python",
     "outputs": [
      {
       "output_type": "pyout",
       "prompt_number": 218,
       "text": [
        "true"
       ]
      }
     ],
     "prompt_number": 218
    },
    {
     "cell_type": "markdown",
     "source": [
      "## \ud3ec\ud568 \ub9e4\uccd0\n",
      "\n",
      "\uac1d\uccb4\uc5d0 \ud2b9\uc815\ud55c \uac12\uc774\ub098 \ud0a4\uac00 \ud3ec\ud568\ub418\uc5b4\uc788\ub294 \uc9c0 \ud14c\uc2a4\ud2b8\ud569\ub2c8\ub2e4."
     ]
    },
    {
     "cell_type": "code",
     "collapsed": false,
     "input": [
      "expect([1, 2, 3]).to be_include(1)"
     ],
     "language": "python",
     "outputs": [
      {
       "output_type": "pyout",
       "prompt_number": 219,
       "text": [
        "true"
       ]
      }
     ],
     "prompt_number": 219
    },
    {
     "cell_type": "code",
     "collapsed": false,
     "input": [
      "expect({name: \"nacyot\", blog: \"blog.nacyot.com\"}).to be_include(:name)"
     ],
     "language": "python",
     "outputs": [
      {
       "output_type": "pyout",
       "prompt_number": 220,
       "text": [
        "true"
       ]
      }
     ],
     "prompt_number": 220
    },
    {
     "cell_type": "code",
     "collapsed": false,
     "input": [
      "expect(\"Hello\").to be_include(\"H\")"
     ],
     "language": "python",
     "outputs": [
      {
       "output_type": "pyout",
       "prompt_number": 221,
       "text": [
        "true"
       ]
      }
     ],
     "prompt_number": 221
    },
    {
     "cell_type": "markdown",
     "source": [
      "## start_with / end_with \ub9e4\uccd0\n",
      "\n",
      "\uac1d\uccb4\uc758 \ucc98\uc74c\uc774\ub098 \ub05d\uc774 \ud2b9\uc815 \ud56d\ubaa9\uc73c\ub85c \uc2dc\uc791\ud558\uac70\ub098 \ub05d\ub098\ub294\uc9c0 \ud14c\uc2a4\ud2b8\ud569\ub2c8\ub2e4"
     ]
    },
    {
     "cell_type": "code",
     "collapsed": false,
     "input": [
      "expect(\"Hello, world\").to start_with(\"Hello\")"
     ],
     "language": "python",
     "outputs": [
      {
       "output_type": "pyout",
       "prompt_number": 222,
       "text": [
        "true"
       ]
      }
     ],
     "prompt_number": 222
    },
    {
     "cell_type": "code",
     "collapsed": false,
     "input": [
      "expect(\"Hello, world\").to end_with(\"world\")"
     ],
     "language": "python",
     "outputs": [
      {
       "output_type": "pyout",
       "prompt_number": 223,
       "text": [
        "true"
       ]
      }
     ],
     "prompt_number": 223
    },
    {
     "cell_type": "code",
     "collapsed": false,
     "input": [
      "expect([1, 2, 3, 4, 5]).to start_with(1, 2)"
     ],
     "language": "python",
     "outputs": [
      {
       "output_type": "pyout",
       "prompt_number": 224,
       "text": [
        "true"
       ]
      }
     ],
     "prompt_number": 224
    },
    {
     "cell_type": "code",
     "collapsed": false,
     "input": [
      "expect([1, 2, 3, 4, 5]).to end_with(5)"
     ],
     "language": "python",
     "outputs": [
      {
       "output_type": "pyout",
       "prompt_number": 225,
       "text": [
        "true"
       ]
      }
     ],
     "prompt_number": 225
    },
    {
     "cell_type": "markdown",
     "source": [
      "## \ucee4\ubc84 \ub9e4\uccd0\n",
      "\n",
      "\ubc94\uc704 \uac1d\uccb4\uac00 \ud2b9\uc815 \uac12\uc744 \ud3ec\ud568\ud558\ub294 \uc9c0 \ud14c\uc2a4\ud2b8\ud569\ub2c8\ub2e4."
     ]
    },
    {
     "cell_type": "code",
     "collapsed": false,
     "input": [
      "expect(100..1000).to cover(101)"
     ],
     "language": "python",
     "outputs": [
      {
       "output_type": "pyout",
       "prompt_number": 226,
       "text": [
        "true"
       ]
      }
     ],
     "prompt_number": 226
    },
    {
     "cell_type": "code",
     "collapsed": false,
     "input": [
      "expect(100..1000).not_to cover(99)"
     ],
     "language": "python",
     "outputs": [
      {
       "output_type": "pyout",
       "prompt_number": 227,
       "text": [
        "false"
       ]
      }
     ],
     "prompt_number": 227
    },
    {
     "cell_type": "markdown",
     "source": [
      "## respond_to \ub9e4\uccd0\n",
      "\n",
      "\uac1d\uccb4\uac00 \ud2b9\uc815 \uba54\uc2dc\uc9c0\ub97c \ubc1b\uc744 \uc218 \uc788\ub294 \uc9c0 \ud14c\uc2a4\ud2b8 \ud569\ub2c8\ub2e4."
     ]
    },
    {
     "cell_type": "code",
     "collapsed": false,
     "input": [
      "expect(\"Hello\").to respond_to(:upcase)"
     ],
     "language": "python",
     "outputs": [
      {
       "output_type": "pyout",
       "prompt_number": 228,
       "text": [
        "true"
       ]
      }
     ],
     "prompt_number": 228
    },
    {
     "cell_type": "markdown",
     "source": [
      "## satisfy \ub9e4\uccd0\n",
      "\n",
      "\ube14\ub85d\uc758 \ud3c9\uac00 \uacb0\uacfc\uac00 \ucc38\uc778\uc9c0\ub97c \ud3c9\uac00\ud569\ub2c8\ub2e4. \uc774 \ub54c expect\uc5d0 \uc8fc\uc5b4\uc9c4 \uac12\uc774 \ud3c9\uac00 \ub300\uc0c1\uc774 \ub418\uba70 satisfy \ube14\ub85d\uc758 \uc778\uc790\ub85c \ub118\uaca8\uc9d1\ub2c8\ub2e4. \uc774 \ube14\ub85d\uc774 \ucc38\uc774\uba74 \ud14c\uc2a4\ud2b8\uac00 \ud1b5\uacfc\ud569\ub2c8\ub2e4."
     ]
    },
    {
     "cell_type": "code",
     "collapsed": false,
     "input": [
      "expect(false).to satisfy{|value| !value}"
     ],
     "language": "python",
     "outputs": [
      {
       "output_type": "pyout",
       "prompt_number": 229,
       "text": [
        "true"
       ]
      }
     ],
     "prompt_number": 229
    },
    {
     "cell_type": "markdown",
     "source": [
      "## Yielding\n",
      "\n",
      "\uba54\uc18c\ub4dc \ub0b4\uc5d0\uc11c yield\ud558\ub294 \ubd80\ubd84\uc5d0 \ub300\ud574\uc11c \ud14c\uc2a4\ud2b8\ud569\ub2c8\ub2e4."
     ]
    },
    {
     "cell_type": "code",
     "collapsed": false,
     "input": [
      "expect {|b| 5.tap(&b)}.to yield_control"
     ],
     "language": "python",
     "outputs": [
      {
       "output_type": "pyout",
       "prompt_number": 230,
       "text": [
        "true"
       ]
      }
     ],
     "prompt_number": 230
    },
    {
     "cell_type": "code",
     "collapsed": false,
     "input": [
      "expect { |b| 5.tap(&b) }.to yield_with_args(5)"
     ],
     "language": "python",
     "outputs": [
      {
       "output_type": "pyout",
       "prompt_number": 231,
       "text": [
        "true"
       ]
      }
     ],
     "prompt_number": 231
    },
    {
     "cell_type": "code",
     "collapsed": false,
     "input": [
      "expect { |b| 5.tap(&b) }.to yield_with_args(Fixnum)"
     ],
     "language": "python",
     "outputs": [
      {
       "output_type": "pyout",
       "prompt_number": 232,
       "text": [
        "true"
       ]
      }
     ],
     "prompt_number": 232
    },
    {
     "cell_type": "code",
     "collapsed": false,
     "input": [
      "expect { |b| \"a string\".tap(&b) }.to yield_with_args(/str/)"
     ],
     "language": "python",
     "outputs": [
      {
       "output_type": "pyout",
       "prompt_number": 233,
       "text": [
        "true"
       ]
      }
     ],
     "prompt_number": 233
    },
    {
     "cell_type": "code",
     "collapsed": false,
     "input": [
      "expect { |b| [1, 2, 3].each(&b) }.to yield_successive_args(1, 2, 3)"
     ],
     "language": "python",
     "outputs": [
      {
       "output_type": "pyout",
       "prompt_number": 234,
       "text": [
        "true"
       ]
      }
     ],
     "prompt_number": 234
    },
    {
     "cell_type": "code",
     "collapsed": false,
     "input": [
      "expect { |b| { :a => 1, :b => 2 }.each(&b) }.to yield_successive_args([:a, 1], [:b, 2])"
     ],
     "language": "python",
     "outputs": [
      {
       "output_type": "pyout",
       "prompt_number": 235,
       "text": [
        "true"
       ]
      }
     ],
     "prompt_number": 235
    },
    {
     "cell_type": "markdown",
     "source": [
      "## Predicate matchers\n",
      "\n",
      "\ucc38\uac70\uc9d3\uc744 \ub9ac\ud134\ud558\ub294 \uba54\uc18c\ub4dc\ub97c \uc0ac\uc6a9\ud574 \ud14c\uc2a4\ud2b8\ud569\ub2c8\ub2e4. \uc774 \ub54c \ub9e4\uccd0 \uc774\ub984\uc740 `be_\uba54\uc18c\ub4dc\uc774\ub984`\uc774 \ub429\ub2c8\ub2e4."
     ]
    },
    {
     "cell_type": "code",
     "collapsed": false,
     "input": [
      "expect(7).not_to be_zero # 7.zero?"
     ],
     "language": "python",
     "outputs": [
      {
       "output_type": "pyout",
       "prompt_number": 241,
       "text": [
        "false"
       ]
      }
     ],
     "prompt_number": 241
    },
    {
     "cell_type": "markdown",
     "source": [
      "## \uacb0\ub860\n",
      "\n",
      "\uc5ec\uae30\uae4c\uc9c0 \uc18c\uac1c\ud55c \ub9e4\uccd0\ub4e4\uc774 RSpec \ube4c\ud2b8\uc778 \ub9e4\uccd0\ub85c \ud14c\uc2a4\ud2b8\ud558\ub294\ub370 \uac00\uc7a5 \ub9ce\uc774 \uc0ac\uc6a9\ub429\ub2c8\ub2e4. \uc870\uae08 \uae30\uad50\uc2a4\ub7ec\uc6b4 \ub9e4\uccd0\ub4e4\ub3c4 \uc788\uc5b4\uc11c \uc775\uc219\ud574\uc9c0\ub294\ub370 \uc2dc\uac04\uc774 \uac78\ub9b4\uc9c0\ub3c4 \ubaa8\ub974\uaca0\uc2b5\ub2c8\ub2e4\ub9cc, \uae30\ubcf8\uc801\uc778 \uc6d0\ub9ac\ub9cc \uc774\ud574\ud558\uace0 \ube4c\ud2b8\uc778 \ub9e4\uccd0\ub4e4\ub9cc \ud65c\uc6a9\ud574\ub3c4 \ub300\ubd80\ubd84\uc758 \ud14c\uc2a4\ud2b8\ub97c \ud558\ub294 \ub370\ub294 \ud06c\uac8c \ubb34\ub9ac\uac00 \uc5c6\uc2b5\ub2c8\ub2e4. \uc880 \ub354 \uc790\uc138\ud55c \uc0ac\ud56d\uc740 [Relish\uc758 Rspec \ubb38\uc11c][relish]\uc5d0\uc11c \ud655\uc778\ud558\uc2e4 \uc218 \uc788\uc2b5\ub2c8\ub2e4. \ub610\ud55c \uc544\uc9c1 \ubca0\ud0c0\uc774\uc9c0\ub9cc \uc870\ub9cc\uac04 \uc5c5\ub370\uc774\ud2b8 \uc608\uc815\uc778 \uba54\uc774\uc800 \ubc84\uc804 3\uc5d0\uc11c \ucd94\uac00\ub418\ub294 \ub9e4\uccd0\ub3c4 \ud655\uc778\ud560 \ud544\uc694\uac00 \uc788\uc2b5\ub2c8\ub2e4. \uc5ed\uc2dc [\uacf5\uc2dd\ubb38\uc11c][relish2]\uc5d0\uc11c \ud655\uc778\ud560 \uc218 \uc788\uc2b5\ub2c8\ub2e4.\n",
      "\n",
      "[relish]: https://www.relishapp.com/rspec/rspec-expectations/v/2-14/docs/built-in-matchers\n",
      "[relish2]: https://www.relishapp.com/rspec/rspec-expectations/v/3-0/docs/built-in-matchers"
     ]
    }
   ]
  }
 ]
}