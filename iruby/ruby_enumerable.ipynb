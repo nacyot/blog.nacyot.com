{
 "metadata": {
  "name": ""
 },
 "nbformat": 3,
 "nbformat_minor": 0,
 "worksheets": [
  {
   "cells": [
    {
     "cell_type": "markdown",
     "source": [
      "## \uac1c\uc694\n",
      "\n",
      "\uc55e\uc11c \uc774\uc57c\uae30\ud588\ub4ef\uc774 \ub8e8\ube44\uc5d0\uc11c\ub294 \uc544\ub798 \uc2a4\ud0c0\uc77c\uc758 \ubc18\ubcf5\ubb38\uc744 \uc77c\ubd80 \uc9c0\uc6d0\ud558\uc9c0\ub9cc \ubcc4\ub85c \uc0ac\uc6a9\ud558\uc9c0 \uc54a\uc2b5\ub2c8\ub2e4"
     ]
    },
    {
     "cell_type": "code",
     "collapsed": false,
     "input": [
      "i = 0\n",
      "while i < 5 do\n",
      "  puts i\n",
      "  i += 1\n",
      "end"
     ],
     "language": "python",
     "outputs": [
      {
       "output_type": "stream",
       "stream": "stdout",
       "text": [
        "0\n"
       ]
      },
      {
       "output_type": "stream",
       "stream": "stdout",
       "text": [
        "1\n"
       ]
      },
      {
       "output_type": "stream",
       "stream": "stdout",
       "text": [
        "2\n"
       ]
      },
      {
       "output_type": "stream",
       "stream": "stdout",
       "text": [
        "3\n"
       ]
      },
      {
       "output_type": "stream",
       "stream": "stdout",
       "text": [
        "4\n"
       ]
      }
     ],
     "prompt_number": 83
    },
    {
     "cell_type": "markdown",
     "source": [
      "\ub300\uc2e0\uc5d0 \ub8e8\ube44\uc5d0\uc11c\ub294 \uceec\ub809\uc158 \uac1d\uccb4\uc5d0\uc11c \uc0ac\uc6a9 \uac00\ub2a5\ud55c Enumerable \ubaa8\ub4c8\uc744 \uc9c0\uc6d0\ud558\uace0 \uc788\uc2b5\ub2c8\ub2e4. \uc2e4\uc81c\ub85c \ub8e8\ube44 \ud504\ub85c\uadf8\ub798\ubc0d\uc744 \ud558\ub2e4\ubcf4\uba74 \uae30\ubcf8\uc801\uc778 \ubc18\ubcf5\ubb38\uc740 \uc774\ub978\ubc14 \uc5f4\uac70\uc790\ub77c\uace0 \ubd88\ub9ac\ub294 `each`\ub9cc\uc73c\ub85c\ub3c4 \ubcc4 \ubd80\uc871\ud568 \uc5c6\uc774 \ud504\ub85c\uadf8\ub798\ubc0d\ud560 \uc218 \uc788\uc2b5\ub2c8\ub2e4. \uc774\ub97c \ud1b5\ud574\uc11c \ube14\ub7ed\uc744 \ud1b5\ud574 \ubc18\ubcf5\ubb38\uacfc \ube44\uc2b7\ud55c \uac83\ub4e4\uc744 \ud560 \uc218 \uc788\uc2b5\ub2c8\ub2e4. `each`\ub294 \ub2e4\uc74c\uacfc \uac19\uc774 \uc0ac\uc6a9\ud569\ub2c8\ub2e4"
     ]
    },
    {
     "cell_type": "code",
     "collapsed": false,
     "input": [
      "[0, 1, 2, 3, 4].each{|i| puts i}"
     ],
     "language": "python",
     "outputs": [
      {
       "output_type": "stream",
       "stream": "stdout",
       "text": [
        "0\n"
       ]
      },
      {
       "output_type": "stream",
       "stream": "stdout",
       "text": [
        "1\n"
       ]
      },
      {
       "output_type": "stream",
       "stream": "stdout",
       "text": [
        "2\n"
       ]
      },
      {
       "output_type": "stream",
       "stream": "stdout",
       "text": [
        "3\n"
       ]
      },
      {
       "output_type": "stream",
       "stream": "stdout",
       "text": [
        "4\n"
       ]
      },
      {
       "output_type": "pyout",
       "prompt_number": 84,
       "text": [
        "[0, 1, 2, 3, 4]"
       ]
      }
     ],
     "prompt_number": 84
    },
    {
     "cell_type": "markdown",
     "source": [
      "\uc774\ub7ec\ud55c \ubc18\ubcf5\ubb38\uc5d0\uc11c\ub294 `for`\ubb38\uc774\ub098 `while`\ubb38 \uac19\uc740 \ubc18\ubcf5 \uc790\uccb4\ub97c \uc81c\uc5b4\ud558\uae30 \uc704\ud55c \ubcc4\ub3c4\uc758 \uc811\uadfc\uc744 \uc0ac\uc6a9\ud560 \uc218 \uc5c6\ub2e4\ub294 \ub2e8\uc810\uc774 \uc788\uc2b5\ub2c8\ub2e4\ub9cc, `each`\ub97c \uc0ac\uc6a9\ud558\uba74 \uceec\ub809\uc158\uc5d0 \ub300\ud574\uc11c \uac01\uac01\uc758 \uc694\uc18c\ub97c \ucc98\ub9ac\ud558\ub294 \ub85c\uc9c1\uc744 \uc815\uc758\ud558\ub294\ub370 \uc9d1\uc911\ud560 \uc218 \uc788\uc73c\uba70 \uae30\uc874 \ubc18\ubcf5\ubb38 \uc870\uac74\uc5d0\uc11c \uc0ac\uc6a9\ud558\ub294 \uc784\uc2dc \ubcc0\uc218\uc758 \ubd80\uc791\uc6a9\uc744 \ucd5c\uc18c\ud654\ud574\uc11c \uc758\ub3c4\uce58\uc54a\uc740 \uc791\ub3d9\uc744 \uc0ac\uc804\uc774 \ubbf8\ub9ac \ucc28\ub2e8\ud560 \uc218 \uc788\uac8c \ub429\ub2c8\ub2e4.\n",
      "\n",
      "\ub2e8, \ub8e8\ube44\ub294 \ud568\uc218\ud615 \uc5b8\uc5b4\uac00 \uc544\ub2c8\ubbc0\ub85c \ube14\ub7ed \ub0b4\uc5d0\uc11c \ube14\ub7ed \ubc16\uc758 \ubcc0\uc218\ub97c \uc870\uc791\ud558\ub294 \ubd80\uc791\uc6a9\uc5d0 \ub300\ud574\uc11c\ub294 \uc758\ub3c4\uce58 \uc54a\uc740 \uacb0\uacfc\ub97c \ucd08\ub798\ud560 \uc218\ub3c4 \uc788\uc2b5\ub2c8\ub2e4\n",
      "\n",
      "```ruby\n",
      "arr = [0, 1, 2, 3]\n",
      "arr.map{|i| arr << 5; puts i}\n",
      "```\n",
      "\n",
      "\uc774\ub7ec\ud55c \ubc18\ubcf5\ubb38\uc744 \uc0ac\uc6a9\ud558\uc9c0 \ub9c8\uc138\uc694. \ubb34\ud55c\ud788 5\uac00 \ucd9c\ub825\ub429\ub2c8\ub2e4. Fiber\ub97c \uc0ac\uc6a9\ud574 \uc774\ub97c \ud655\uc778\ud574\ubcf4\ub3c4\ub85d \ud558\uaca0\uc2b5\ub2c8\ub2e4"
     ]
    },
    {
     "cell_type": "code",
     "collapsed": false,
     "input": [
      "fiber = Fiber.new do\n",
      "  arr = [0, 1, 2, 3]\n",
      "  arr.map{|i| arr << 5; Fiber.yield i}\n",
      "end"
     ],
     "language": "python",
     "outputs": [
      {
       "output_type": "pyout",
       "prompt_number": 85,
       "text": [
        "#<Fiber:0x007effc382a040>"
       ]
      }
     ],
     "prompt_number": 85
    },
    {
     "cell_type": "code",
     "collapsed": false,
     "input": [
      "# \uc5ec\uae30\uae4c\uc9c0\ub294 \uc815\uc0c1\uc801\uc778 \ucc98\ub9ac\uc640 \uac19\uc2b5\ub2c8\ub2e4\ub9cc...\n",
      "4.times do\n",
      "  puts fiber.resume\n",
      "end"
     ],
     "language": "python",
     "outputs": [
      {
       "output_type": "stream",
       "stream": "stdout",
       "text": [
        "0\n"
       ]
      },
      {
       "output_type": "stream",
       "stream": "stdout",
       "text": [
        "1\n"
       ]
      },
      {
       "output_type": "stream",
       "stream": "stdout",
       "text": [
        "2\n"
       ]
      },
      {
       "output_type": "stream",
       "stream": "stdout",
       "text": [
        "3\n"
       ]
      },
      {
       "output_type": "pyout",
       "prompt_number": 86,
       "text": [
        "4"
       ]
      }
     ],
     "prompt_number": 86
    },
    {
     "cell_type": "code",
     "collapsed": false,
     "input": [
      "# \uc5ec\uae30\ubd80\ud130\ub294 5\uac00 \ucd9c\ub825\ub429\ub2c8\ub2e4.\n",
      "puts fiber.resume"
     ],
     "language": "python",
     "outputs": [
      {
       "output_type": "stream",
       "stream": "stdout",
       "text": [
        "5\n"
       ]
      }
     ],
     "prompt_number": 87
    },
    {
     "cell_type": "code",
     "collapsed": false,
     "input": [
      "puts fiber.resume"
     ],
     "language": "python",
     "outputs": [
      {
       "output_type": "stream",
       "stream": "stdout",
       "text": [
        "5\n"
       ]
      }
     ],
     "prompt_number": 88
    },
    {
     "cell_type": "markdown",
     "source": [
      "\uc774\uc640 \uac19\uc774 5\uac00 \uacc4\uc18d \ubc18\ubcf5\ub418\ub294 \uac83\uc744 \uc54c \uc218 \uc788\uc2b5\ub2c8\ub2e4. \uacc4\uc18d `resume` \uba54\uc2dc\uc9c0\ub97c \ubcf4\ub0b4\uba74 \uacc4\uc18d 5\uac00 \ucd9c\ub825\ub429\ub2c8\ub2e4. \uc774\ub7ec\ud55c \ubd80\uc791\uc6a9(side-effect)\uc5d0 \ub300\ud574\uc11c\ub294 \uba85\ud655\ud788 \uc54c\uace0 \uc788\uc744 \ud544\uc694\uac00 \uc788\uc2b5\ub2c8\ub2e4\n",
      "\n",
      "\ub8e8\ube44\uc758 Enumerable\uc740 \uc774\ub7ec\ud55c \ubbf8\ubb18\ud55c \ub2e8\uc810\uc744 \ub0b4\ud3ec\ud558\uace0 \uc788\uae30\ub294 \ud569\ub2c8\ub2e4\ub9cc, \uadf8\ub7fc\uc5d0\ub3c4 \ubd88\uad6c\ud558\uace0 \uac15\ub825\ud569\ub2c8\ub2e4. \uc774\ub807\ub4ef \uba85\uc2dc\uc801\uc73c\ub85c \uc678\ubd80 \ubcc0\uc218\uc5d0 \ubd80\uc791\uc6a9\uc744 \uc77c\uc73c\ud0a4\uc9c0\ub9cc \uc54a\ub294\ub2e4\uba74, \ubc18\ubcf5 \uacfc\uc815\uc5d0\uc11c \ube14\ub7ed\uc744 \ud1b5\ud574 \uc784\uc2dc \ubcc0\uc218\ub098 \ub0b4\ubd80 \ubcc0\uc218\uc5d0 \ub300\ud574\uc11c\ub294 \ubd80\uc791\uc6a9\uc744 \uac71\uc815\ud560 \ud544\uc694\uac00 \uc5c6\uc73c\uba70, \uba54\uc11c\ub4dc \uccb4\uc778\uc744 \ud1b5\ud574 \uc720\uc0ac\ud55c \uceec\ub809\uc158 \ucc98\ub9ac\ub97c \uc790\uc5f0\uc2a4\ub7fd\uac8c \uc5f0\uc18d\uc801\uc73c\ub85c \uc801\uc6a9\ud560 \uc218 \uc788\uc2b5\ub2c8\ub2e4\n",
      "\n",
      "\uc911\uc694\ud55c \uac74 \ub8e8\ube44\uc758 Enumerable\uc774 \uc81c\uacf5\ud558\ub294 \uc5f4\uac70\uc790\ub294 `each`\uac00 \uc804\ubd80\uac00 \uc544\ub2c8\ub77c\ub294 \uc810\uc785\ub2c8\ub2e4. \uc5ec\uae30\uc11c\ubd80\ud130\ub294 Enumerable \ubaa8\ub4c8\uc5d0 \ud3ec\ud568\ub41c \ube14\ub7ed\uc744 \ubc1b\ub294 \uceec\ub809\uc158 \ucc98\ub9ac \uba54\uc11c\ub4dc\ub4e4\uc744 \uc18c\uac1c\ud558\ub3c4\ub85d \ud558\uaca0\uc2b5\ub2c8\ub2e4. \ub367\ubd99\uc5ec \uc5ec\uae30\uc5d0 \ub098\uc628 \ubaa8\ub4e0 \uc608\uc81c\ub294 `irb`\ub098 `pry`\uc5d0\uc11c \uc9c1\uc811 \uc2dc\ub3c4\ud574\ubcfc \uc218 \uc788\uc2b5\ub2c8\ub2e4"
     ]
    },
    {
     "cell_type": "markdown",
     "source": [
      "## `Enumerable#map`, `Enumerable#collect`\n",
      "\n",
      "```\n",
      "collect -> Enumerator\n",
      "map -> Enumerator\n",
      "collect {|item| ... } -> [object]\n",
      "map {|item| ... } -> [object]\n",
      "```\n",
      "\n",
      "`each` \ub2e4\uc74c\uc73c\ub85c \uc720\uba85\ud55c \uc5f4\uac70\uc790\ub294 `map`\uacfc `collect`\uc785\ub2c8\ub2e4. \uc774 \ub450 \uba54\uc11c\ub4dc\ub294 \uc2e4\uc81c\ub85c\ub294 \uac19\uace0 \uc774\ub984\ub9cc \ub2e4\ub985\ub2c8\ub2e4. \uba3c\uc800 `each`\ub294 \uceec\ub809\uc158\uc758 \uac01 \uc694\uc18c\ub97c \uc21c\ucc28\uc801\uc73c\ub85c \ube14\ub7ed\uc5d0 \ub118\uaca8 \ucc98\ub9ac\ud569\ub2c8\ub2e4"
     ]
    },
    {
     "cell_type": "code",
     "collapsed": false,
     "input": [
      "str = \"Hello\".split(\"\")"
     ],
     "language": "python",
     "outputs": [
      {
       "output_type": "pyout",
       "prompt_number": 89,
       "text": [
        "[\"H\", \"e\", \"l\", \"l\", \"o\"]"
       ]
      }
     ],
     "prompt_number": 89
    },
    {
     "cell_type": "code",
     "collapsed": false,
     "input": [
      "str.each{|chr| puts chr.upcase}"
     ],
     "language": "python",
     "outputs": [
      {
       "output_type": "stream",
       "stream": "stdout",
       "text": [
        "H\n"
       ]
      },
      {
       "output_type": "stream",
       "stream": "stdout",
       "text": [
        "E\n"
       ]
      },
      {
       "output_type": "stream",
       "stream": "stdout",
       "text": [
        "L\n"
       ]
      },
      {
       "output_type": "stream",
       "stream": "stdout",
       "text": [
        "L\n"
       ]
      },
      {
       "output_type": "stream",
       "stream": "stdout",
       "text": [
        "O\n"
       ]
      },
      {
       "output_type": "pyout",
       "prompt_number": 90,
       "text": [
        "[\"H\", \"e\", \"l\", \"l\", \"o\"]"
       ]
      }
     ],
     "prompt_number": 90
    },
    {
     "cell_type": "markdown",
     "source": [
      "\ub2e8 \uc5ec\uae30\uc11c each\uc758 \uc5ed\ud560\uc740 \uac01 \uc694\uc18c\ub97c \ube14\ub7ed \uc778\uc790 `chr`\ub85c \ubc1b\uc544\uc11c \ud55c\ubc88\uc529 \ud3c9\uac00\ud574\uc8fc\ub294 \uc77c\uc774\uc9c0 \uc6d0\ub798\uc758 \uceec\ub809\uc158\uc744 \ubcc0\uacbd\ud55c \uac12\uc744 \ub9ac\ud134\ud558\uc9c0\ub294 \uc54a\uc2b5\ub2c8\ub2e4. \uc989, `each`\uc758 \ud3c9\uac00 \uacb0\uacfc\ub294 \ud56d\uc0c1 \ub9ac\uc2dc\ubc84\uc640 \ub3d9\uc77c\ud569\ub2c8\ub2e4\n",
      "\n",
      "\ud558\uc9c0\ub9cc `map`\uc740 \ub9ac\uc2dc\ubc84\uc640 \ud3c9\uac00 \uacb0\uacfc\uac00 \ub2ec\ub77c\uc9d1\ub2c8\ub2e4. `map`\uc774 \ud558\ub294 \uc5ed\ud560\uc740 \uac01 \uc694\uc18c\ub4e4\uc744 \ube14\ub7ed \uc778\uc790 `chr`\ub85c \ubc1b\uc544 \ube14\ub7ed\uc744 \ud3c9\uac00\ud55c \uacb0\uacfc\ub85c \uc6d0\ub798\uc758 \uc694\uc18c\ub97c \ubcc0\uacbd\ud569\ub2c8\ub2e4. \uc774\ub807\uac8c \ub9cc\ub4e4\uc5b4\uc9c4 \uc0c8\ub85c\uc6b4 \uceec\ub809\uc158\uc744 \ub9ac\ud134\ud569\ub2c8\ub2e4(\ub2e8, \uc6d0\ub798\uc758 \uceec\ub809\uc158\uc744 \ubcc0\uacbd\ud558\uc9c0\ub294 \uc54a\uc2b5\ub2c8\ub2e4.)"
     ]
    },
    {
     "cell_type": "code",
     "collapsed": false,
     "input": [
      "str.map{|chr| chr.upcase}"
     ],
     "language": "python",
     "outputs": [
      {
       "output_type": "pyout",
       "prompt_number": 91,
       "text": [
        "[\"H\", \"E\", \"L\", \"L\", \"O\"]"
       ]
      }
     ],
     "prompt_number": 91
    },
    {
     "cell_type": "markdown",
     "source": [
      "\uc774\ub7ec\ud55c \ucc28\uc774\ub294 `each`\uc5d0\uc11c puts\uc744 \uc0ac\uc6a9\ud558\uc9c0 \uc54a\uc544\ub3c4 \ub9c8\ucc2c\uac00\uc9c0\uc785\ub2c8\ub2e4. `each`\uc5d0\uc11c \ube14\ub7ed\uc758 \ud3c9\uac00\uac12\uc740 \uadf8\ub0e5 \ubc84\ub824\uc9c0\ub294 \uac12\uc774\uace0, `each`\ub294 \uadf8\uc800 \ub9ac\uc2dc\ubc84\ub97c \ub2e4\uc2dc \ub9ac\ud134\ud574\uc90d\ub2c8\ub2e4."
     ]
    },
    {
     "cell_type": "code",
     "collapsed": false,
     "input": [
      "str.each{|chr| chr.upcase}"
     ],
     "language": "python",
     "outputs": [
      {
       "output_type": "pyout",
       "prompt_number": 92,
       "text": [
        "[\"H\", \"e\", \"l\", \"l\", \"o\"]"
       ]
      }
     ],
     "prompt_number": 92
    },
    {
     "cell_type": "markdown",
     "source": [
      "\uc704\uc5d0\uc11c \uc598\uae30\ud588\ub4ef\uc774 `collect`\ub294 `map`\uacfc \uac19\uc2b5\ub2c8\ub2e4."
     ]
    },
    {
     "cell_type": "code",
     "collapsed": false,
     "input": [
      "str.collect{|chr| chr.upcase}"
     ],
     "language": "python",
     "outputs": [
      {
       "output_type": "pyout",
       "prompt_number": 93,
       "text": [
        "[\"H\", \"E\", \"L\", \"L\", \"O\"]"
       ]
      }
     ],
     "prompt_number": 93
    },
    {
     "cell_type": "markdown",
     "source": [
      "\uc774\ub7ec\ud55c \ucc28\uc774\ub85c \uc778\ud574\uc11c `map` \uba54\uc11c\ub4dc\ub97c \ubaa8\ub97c \ub54c `each`\ub97c \uc0ac\uc6a9\ud574\uc11c \uac15\uc81c\uc801\uc73c\ub85c \ube14\ub7ed \uc678\ubd80\uc758 \ubcc0\uc218(\ud2b9\ud788 \ub9ac\uc2dc\ubc84)\ub97c \ubcc0\uacbd\ud558\ub824\ub294 \uc2dc\ub3c4\ub97c \ud560 \uc218\uac00 \uc788\ub294\ub370, \uc704\uc5d0\uc11c \uc124\uba85\ud588\uc9c0\ub9cc \uc774\ub7ec\ud55c \ubd80\uc791\uc6a9\uc740 \uc758\ub3c4\uce58 \uc54a\uc740 \uacb0\uacfc\ub97c \ucd08\ub798\ud560 \uc218 \uc788\uc2b5\ub2c8\ub2e4. \uceec\ub809\uc158 \uc790\uccb4\ub97c \ud2b9\uc801\ud55c \ub85c\uc9c1\uc73c\ub85c \ubcc0\uacbd\ud558\uace0\uc790 \ud560 \ub54c\ub294 `map`\uc774\ub098 `collect`\ub97c \uc0ac\uc6a9\ud574\uc57c\ud569\ub2c8\ub2e4"
     ]
    },
    {
     "cell_type": "markdown",
     "source": [
      "## \uba54\uc11c\ub4dc \uccb4\uc778(Method Chain)\n",
      "\n",
      "\uc5ec\uae30\uc11c \uc7a0\uae50 \ub2e4\ub978 \uba54\uc11c\ub4dc\ub97c \uc18c\uac1c\ud558\uae30 \uc804\uc5d0 \ub2e4\ub978 \uc598\uae30\ub97c \ud558\uace0 \ub118\uc5b4\uac00\uaca0\uc2b5\ub2c8\ub2e4. `map` \uba54\uc11c\ub4dc\ub97c \ud1b5\ud574\uc11c \uceec\ub809\uc158\uc744 \uc870\uc791\ud558\ub294 \uc77c\uc740 \ub9e4\uc6b0 \ud765\ubbf8\ub85c\uc6b4 \uc77c\uc785\ub2c8\ub2e4. `map`\uc740 \uceec\ub809\uc158\uc758 \uc694\uc18c\ub4e4\uc744 \ud558\ub098\ud558\ub098 \ubcc0\uacbd\ud569\ub2c8\ub2e4. \uc989 \ub9ac\uc2dc\ubc84 \uceec\ub809\uc158\uc758 \ubaa8\ub4e0 \uc694\uc18c\ub4e4\uc740 \ub118\uaca8\ubc1b\uc740 \ube14\ub7ed\uc758 \ub85c\uc9c1\uc5d0 \uc758\ud574\uc11c \ud558\ub098\ud558\ub098 \ubcc0\uacbd\ub429\ub2c8\ub2e4. \uc911\uc694\ud55c \uac74 \uc774\ub807\uac8c \ubcc0\uacbd\ub418\uc5b4 \ub9ac\ud134\ub418\ub294 \uac83\uc740 \ub9ac\uc2dc\ubc84\uc640 \ub9c8\ucc2c\uac00\uc9c0\ub85c \uceec\ub809\uc158\uc774\ub77c\ub294 \uc0ac\uc2e4\uc785\ub2c8\ub2e4. \ub530\ub77c\uc11c \ubc30\uc5f4\uc5d0 map\uc744 \uc0ac\uc6a9\ud558\uba74 \ub2e4\ub978 \ubc30\uc5f4\uc774 \ub9ac\ud134\ub429\ub2c8\ub2e4. \uc544\ub798 \uc608\uc5d0\uc11c\ub294 \ubc30\uc5f4\uc744 \uc808\ub300\uac12\uc73c\ub85c \ubcc0\uacbd\ud574\ubcf4\uaca0\uc2b5\ub2c8\ub2e4"
     ]
    },
    {
     "cell_type": "code",
     "collapsed": false,
     "input": [
      "[1.3, -2.8, 3.2, -4.99, -5.1].map{|i| i.abs}"
     ],
     "language": "python",
     "outputs": [
      {
       "output_type": "pyout",
       "prompt_number": 94,
       "text": [
        "[1.3, 2.8, 3.2, 4.99, 5.1]"
       ]
      }
     ],
     "prompt_number": 94
    },
    {
     "cell_type": "markdown",
     "source": [
      "Enumerable\uc744 \uc0ac\uc6a9\ud560 \ub54c\ub294 \ud56d\uc0c1 \uc774\ub7ec\ud55c \uc0ac\uc2e4\uc744 \uc758\uc2dd\ud560 \ud544\uc694\uac00 \uc788\uc2b5\ub2c8\ub2e4. \uc774\ub807\ub4ef \ub9ac\ud134\uac12\uc758 \ud615\uc2dd\uc774 \ub9ac\uc2dc\ubc84\uc640 \uac19\ub2e4\ub294 \uac83\uc774 \ubcf4\uc7a5\ub418\ub294 \uba54\uc11c\ub4dc\ub97c \uc0ac\uc6a9\ud560 \ub54c\ub294 \ub9ac\uc2dc\ubc84\uc5d0 \uc5f0\uc18d\uc801\uc73c\ub85c Enumerable \uba54\uc11c\ub4dc\ub97c \ud638\ucd9c\ud560 \uc218 \uc788\uc2b5\ub2c8\ub2e4. \uc608\ub97c \ub4e4\uc5b4 \uc704\uc758 \uc608\uc5d0\uc11c \uacc4\uc18d\ud574\uc11c \ubc18\uc62c\ub9bc\uc744 \ud574\ubcf4\uaca0\uc2b5\ub2c8\ub2e4"
     ]
    },
    {
     "cell_type": "code",
     "collapsed": false,
     "input": [
      "[1.3, -2.8, 3.2, -4.99, -5.1].map{|i| i.abs}.map{|i| i.round(0)}"
     ],
     "language": "python",
     "outputs": [
      {
       "output_type": "pyout",
       "prompt_number": 95,
       "text": [
        "[1, 3, 3, 5, 5]"
       ]
      }
     ],
     "prompt_number": 95
    },
    {
     "cell_type": "markdown",
     "source": [
      "\uc608\uc0c1\ud55c \uacb0\uacfc\uac00 \ub098\uc654\ub098\uc694? \uc880 \ub354 \uc790\uc138\ud788 \uc0b4\ud3b4\ubcf8\ub2e4\uba74,\n",
      "\n",
      "```ruby\n",
      "[1.3, -2.8, 3.2, -4.99, -5.1].map{|number| number.abs}\n",
      "```\n",
      "\n",
      "\uc758 \ud3c9\uac00 \uacb0\uacfc\uac00 `[1.3, 2.8, 3.2, 4.99, 5.1]`\uac00 \ub418\uc5b4 \uc544\ub798\uc640 \uac19\uc774 `map` \uba54\uc11c\ub4dc\uac00 \uc0ac\uc6a9\ub418\uc5c8\uc2b5\ub2c8\ub2e4."
     ]
    },
    {
     "cell_type": "code",
     "collapsed": false,
     "input": [
      "[1.3, 2.8, 3.2, 4.99, 5.1].map{|number| number.round}"
     ],
     "language": "python",
     "outputs": [
      {
       "output_type": "pyout",
       "prompt_number": 96,
       "text": [
        "[1, 3, 3, 5, 5]"
       ]
      }
     ],
     "prompt_number": 96
    },
    {
     "cell_type": "markdown",
     "source": [
      "\uc774\ub7ec\ud55c \uba54\uc11c\ub4dc \uccb4\uc778\uc740 \uacc4\uc18d\ud574\uc11c \uc774\uc5b4\uc9c8 \uc218 \uc788\uc2b5\ub2c8\ub2e4"
     ]
    },
    {
     "cell_type": "code",
     "collapsed": false,
     "input": [
      "[1.3, -2.8, 3.2, -4.99, -5.1].\n",
      "  map{|number| number.abs}.      # [1.3, 2.8, 3.2, 4.99, 5.1]\n",
      "  map{|number| number.round}. # [1, 3, 3, 5, 5]\n",
      "  map{|number| number / 2.0}.    # [0.5, 1.5, 1.5, 2.5, 2.5]\n",
      "  map{|number| number.to_s}      # [\"0.5\", \"1.5\", \"1.5\", \"2.5\", \"2.5\"]"
     ],
     "language": "python",
     "outputs": [
      {
       "output_type": "pyout",
       "prompt_number": 97,
       "text": [
        "[\"0.5\", \"1.5\", \"1.5\", \"2.5\", \"2.5\"]"
       ]
      }
     ],
     "prompt_number": 97
    },
    {
     "cell_type": "markdown",
     "source": [
      "\uc704 \uc608\uc81c\uc5d0 \ubcc4\ub2e4\ub978 \uc758\ubbf8\ub294 \uc5c6\uc2b5\ub2c8\ub2e4\ub9cc, \uc774\ub7ec\ud55c \uba54\uc11c\ub4dc \uccb4\uc778\uc744 \uae30\uc5b5\ud574\ub458 \ud544\uc694\uac00 \uc788\uc2b5\ub2c8\ub2e4. Enumerable\uc758 \ub9ce\uc740 \uba54\uc11c\ub4dc\ub4e4\uc740 \uc758\ub3c4\uc801\uc73c\ub85c \uceec\ub809\uc158\uc744 \ub9ac\ud134\ud569\ub2c8\ub2e4. \ub530\ub77c\uc11c \uc11c\ub85c \ub2e4\ub978 \ub85c\uc9c1\uc744 \ub530\ub974\ub294 \uceec\ub809\uc158 \ucc98\ub9ac\ub97c \uc5f0\uc1c4\uc801\uc73c\ub85c \uc0ac\uc6a9\ud560 \uc218 \uc788\uc2b5\ub2c8\ub2e4\n",
      "\n",
      "\ub530\ub77c\uc11c \uc774\ub7ec\ud55c \ubcf4\uc7a5\uc774 \ub418\uc9c0 \uc54a\ub294 \uba54\uc11c\ub4dc\ub4e4\uc744 \uc0ac\uc6a9\ud560 \ub54c\ub294 \ud2b9\ud788 \uc720\uc758\uac00 \ud544\uc694\ud569\ub2c8\ub2e4. \uc608\ub97c \ub4e4\uc5b4 \uc544\ub798\uc5d0\uc11c \uc18c\uac1c\ud560 `select`\ub294 \uceec\ub809\uc158\uc774 \ub9ac\ud134\ub418\ub294 \uac83\uc774 \ubcf4\uc7a5\ub418\uc9c0\ub9cc \uc720\uc0ac\ud574\ubcf4\uc774\ub294 `detect`\ub294 \uc774\ub7ec\ud55c \ud2b9\uc131\uc774 \ubcf4\uc7a5\ub418\uc9c0 \uc54a\uc2b5\ub2c8\ub2e4."
     ]
    },
    {
     "cell_type": "code",
     "collapsed": false,
     "input": [
      "[1, 2, 3, 4, 5].select{|number| number.odd?}"
     ],
     "language": "python",
     "outputs": [
      {
       "output_type": "pyout",
       "prompt_number": 98,
       "text": [
        "[1, 3, 5]"
       ]
      }
     ],
     "prompt_number": 98
    },
    {
     "cell_type": "code",
     "collapsed": false,
     "input": [
      "[1, 2, 3, 4, 5].detect{|number| number.odd?}"
     ],
     "language": "python",
     "outputs": [
      {
       "output_type": "pyout",
       "prompt_number": 99,
       "text": [
        "1"
       ]
      }
     ],
     "prompt_number": 99
    },
    {
     "cell_type": "markdown",
     "source": [
      "\ub2f9\uc5f0\ud55c \uc598\uae30\uc785\ub2c8\ub2e4\ub9cc, \uceec\ub809\uc158\uc774 \uc544\ub2cc \uac1d\uccb4\uc5d0 Enumerable \uba54\uc11c\ub4dc\ub294 \uc0ac\uc6a9\ud560 \uc218 \uc5c6\uc2b5\ub2c8\ub2e4. \uc774\ub7f0 \uc2dd\uc73c\ub85c \uba54\uc11c\ub4dc \uccb4\uc778\uc744 \uad6c\uc131\ud574\uc11c\ub294 \uc548 \ub429\ub2c8\ub2e4. \uac80\uc0c9 \uacb0\uacfc\uac00 \uc5c6\ub294 \uc608\ub97c \ubcf4\uba74 \uc774 \uc774\uc720\uac00 \uc880 \ub354 \uba85\ud655\ud569\ub2c8\ub2e4."
     ]
    },
    {
     "cell_type": "code",
     "collapsed": false,
     "input": [
      "[1, 3, 5, 7, 9].select{|number| number.even?}"
     ],
     "language": "python",
     "outputs": [
      {
       "output_type": "pyout",
       "prompt_number": 100,
       "text": [
        "[]"
       ]
      }
     ],
     "prompt_number": 100
    },
    {
     "cell_type": "code",
     "collapsed": false,
     "input": [
      "[1, 3, 5, 7, 9].detect{|number| number.even?}\n",
      "# => nil"
     ],
     "language": "python",
     "outputs": [],
     "prompt_number": 101
    },
    {
     "cell_type": "markdown",
     "source": [
      "`detect`\uc758 \uacb0\uacfc\uc5d0 \ub2e4\uc2dc `map` \ubcf4\ub0b4\uba74 \uc5b4\ub5bb\uac8c \ub420\uae4c\uc694? \ub2f9\uc5f0\ud788 `nil` \uac1d\uccb4\ub294 `map` \uba54\uc11c\ub4dc\ub97c \uac00\uc9c0\uace0 \uc788\uc9c0 \uc54a\uc73c\ubbc0\ub85c \uba54\uc11c\ub4dc\uac00 \uc5c6\ub2e4\ub294 \uc5d0\ub7ec\uac00 \ubc1c\uc0dd\ud560 \uac83\uc785\ub2c8\ub2e4. \uc801\uc5b4\ub3c4 `select`\ub294 `map`\uc5d0 \ub300\ud574\uc11c \uc544\ubb34\ub7f0 \ucc98\ub9ac\ub294 \ud558\uc9c0 \uc54a\ub354\ub77c\ub3c4 \uc5d0\ub7ec\ub294 \ub098\uc9c0 \uc54a\uc2b5\ub2c8\ub2e4"
     ]
    },
    {
     "cell_type": "markdown",
     "source": [
      "## \ube14\ub7ed \ucd95\uc57d \ud45c\ud604\n",
      "\n",
      "\ube14\ub7ed\uc5d0\uc11c \uceec\ub809\uc158\uc758 \uc694\uc18c\uc5d0 \ub300\ud574\uc11c \ud2b9\uc815\ud55c \uba54\uc11c\ub4dc\ub97c \uc778\uc790\uc5c6\uc774 \ud638\ucd9c\ud560 \ub54c\ub294 \ucd95\uc57d\ud45c\ud604\uc744 \uc0ac\uc6a9\ud560 \uc218 \uc788\uc2b5\ub2c8\ub2e4. \uc608\ub97c \ub4e4\uc5b4 \uc544\ub798 \ub450 \ud45c\ud604\uc740 \uac19\uc2b5\ub2c8\ub2e4. `&`\ub294 \ube14\ub7ed\uc744 \uc758\ubbf8\ud569\ub2c8\ub2e4."
     ]
    },
    {
     "cell_type": "code",
     "collapsed": false,
     "input": [
      "[1.3, 2.8, 3.2, 4.99, 5.1].map{|number| number.round}"
     ],
     "language": "python",
     "outputs": [
      {
       "output_type": "pyout",
       "prompt_number": 102,
       "text": [
        "[1, 3, 3, 5, 5]"
       ]
      }
     ],
     "prompt_number": 102
    },
    {
     "cell_type": "code",
     "collapsed": false,
     "input": [
      "[1.3, 2.8, 3.2, 4.99, 5.1].map &:round"
     ],
     "language": "python",
     "outputs": [
      {
       "output_type": "pyout",
       "prompt_number": 103,
       "text": [
        "[1, 3, 3, 5, 5]"
       ]
      }
     ],
     "prompt_number": 103
    },
    {
     "cell_type": "markdown",
     "source": [
      "## Enumerable \uba54\uc11c\ub4dc"
     ]
    },
    {
     "cell_type": "markdown",
     "source": [
      "### `Enumerable#each_with_index`\n",
      "\n",
      "```\n",
      "each_with_index -> Enumerator\n",
      "each_with_index {|item, index| ... } -> self\n",
      "```\n",
      "\n",
      "`each`\ub97c \ucc98\uc74c \uc0ac\uc6a9\ud560 \ub54c \uac00\uc7a5 \uc5b4\ub824\uc6b4 \ubd80\ubd84 \uc911 \ud558\ub098\uac00 `for`\ub098 `while` \ubb38\uc744 \uc0ac\uc6a9\ud560 \ub54c\uc640 \ub2ec\ub9ac \ud604\uc7ac \uba87 \ubc88\uc9f8 \uc694\uc18c\ub97c \ucc98\ub9ac\ud558\ub294 \uc9c0 index\ub97c \uc0ac\uc6a9\ud560 \uc218 \uc5c6\ub2e4\ub294 \uc810\uc785\ub2c8\ub2e4. \ubd84\uba85 \ub8e8\ube44\uc5d0\uc11c\ub3c4 \uc774\ub7ec\ud55c \ucc98\ub9ac\ub294 \uc21c\ucc28\uc801\uc73c\ub85c \uc774\ub8e8\uc5b4\uc9d1\ub2c8\ub2e4. \uc774\ub7f4 \ub54c \uc0ac\uc6a9\ud560 \uc218 \uc788\ub294 \uba54\uc11c\ub4dc\uac00 `each_with_index`\uc785\ub2c8\ub2e4. \uc774 \uba54\uc11c\ub4dc\ub294 `each`\uc640 \ube44\uc2b7\ud558\ub098 item(\uac01 \uc694\uc18c)\uacfc \ud568\uaed8 \uc694\uc18c\uc758 \uc21c\uc11c index\ub97c \ub118\uaca8\uc904 \uc218 \uc788\uc2b5\ub2c8\ub2e4. \ub530\ub77c\uc11c \uc694\uc18c \uc21c\uc11c\uc5d0 \ub530\ub978 \ub85c\uc9c1\uc744 \ucc98\ub9ac\ud574\uc57c\ud560 \ub54c \uc0ac\uc6a9\ud560 \uc218 \uc788\uc2b5\ub2c8\ub2e4"
     ]
    },
    {
     "cell_type": "code",
     "collapsed": false,
     "input": [
      "\"Hello\".split(\"\").each_with_index do |item, index|\n",
      "  puts index.to_s + \"\ubc88\uc9f8 \uc704\uce58\uc758 \uae00\uc790: \" + item\n",
      "end"
     ],
     "language": "python",
     "outputs": [
      {
       "output_type": "stream",
       "stream": "stdout",
       "text": [
        "0\ubc88\uc9f8 \uc704\uce58\uc758 \uae00\uc790: H\n"
       ]
      },
      {
       "output_type": "stream",
       "stream": "stdout",
       "text": [
        "1\ubc88\uc9f8 \uc704\uce58\uc758 \uae00\uc790: e\n"
       ]
      },
      {
       "output_type": "stream",
       "stream": "stdout",
       "text": [
        "2\ubc88\uc9f8 \uc704\uce58\uc758 \uae00\uc790: l\n"
       ]
      },
      {
       "output_type": "stream",
       "stream": "stdout",
       "text": [
        "3\ubc88\uc9f8 \uc704\uce58\uc758 \uae00\uc790: l\n"
       ]
      },
      {
       "output_type": "stream",
       "stream": "stdout",
       "text": [
        "4\ubc88\uc9f8 \uc704\uce58\uc758 \uae00\uc790: o\n"
       ]
      },
      {
       "output_type": "pyout",
       "prompt_number": 104,
       "text": [
        "[\"H\", \"e\", \"l\", \"l\", \"o\"]"
       ]
      }
     ],
     "prompt_number": 104
    },
    {
     "cell_type": "markdown",
     "source": [
      "\uc544\uc27d\uac8c\ub3c4 `map_with_index`\uc640 \uac19\uc740 \uba54\uc11c\ub4dc\ub294 \uc81c\uacf5\ub418\uc9c0 \uc54a\uc2b5\ub2c8\ub2e4\ub9cc, `Enumerator`\uc758 `with_index` \uba54\uc11c\ub4dc\ub97c \uc0ac\uc6a9\ud558\uba74 `map` \ud568\uc218\uc5d0\uc11c\ub3c4 `index`\ub97c \uc0ac\uc6a9\ud560 \uc218 \uc788\uc2b5\ub2c8\ub2e4. (\ucc38\uace0\ub85c \ub2e4\ub978 `Enumerable` \ud568\uc218\uc5d0\uc11c\ub3c4 `with_index`\ub97c \uc0ac\uc6a9\ud560 \uc218 \uc788\uc9c0\ub9cc \ud56d\uc0c1 \uc0ac\uc6a9\ud560 \uc218 \uc788\ub294 \uac83\uc740 \uc544\ub2d9\ub2c8\ub2e4)"
     ]
    },
    {
     "cell_type": "code",
     "collapsed": false,
     "input": [
      "\"Hello\".split(\"\").map.with_index do |item, index|\n",
      "  {index: index, char: item}\n",
      "end"
     ],
     "language": "python",
     "outputs": [
      {
       "output_type": "pyout",
       "prompt_number": 105,
       "text": [
        "[{:index=>0, :char=>\"H\"}, {:index=>1, :char=>\"e\"}, {:index=>2, :char=>\"l\"}, {:index=>3, :char=>\"l\"}, {:index=>4, :char=>\"o\"}]"
       ]
      }
     ],
     "prompt_number": 105
    },
    {
     "cell_type": "markdown",
     "source": [
      "### `Enumerable#each_with_object`\n",
      "\n",
      "```\n",
      "each_with_object(obj) -> Enumerator\n",
      "each_with_object(obj) {|(*args), memo_obj| ... } -> object\n",
      "```\n",
      "\n",
      "`each_with_object`\ub294 \uac01 \uc694\uc18c\ub97c \ubc18\ubcf5\ud560 \ub54c \ud2b9\uc815\ud55c \uac1d\uccb4\ub97c \ub118\uaca8\uc904 \uc218 \uc788\uc2b5\ub2c8\ub2e4"
     ]
    },
    {
     "cell_type": "code",
     "collapsed": false,
     "input": [
      "(1..5).each_with_object(2.0){ |item, num| puts item / num }"
     ],
     "language": "python",
     "outputs": [
      {
       "output_type": "stream",
       "stream": "stdout",
       "text": [
        "0.5\n"
       ]
      },
      {
       "output_type": "stream",
       "stream": "stdout",
       "text": [
        "1.0\n"
       ]
      },
      {
       "output_type": "stream",
       "stream": "stdout",
       "text": [
        "1.5\n"
       ]
      },
      {
       "output_type": "stream",
       "stream": "stdout",
       "text": [
        "2.0\n"
       ]
      },
      {
       "output_type": "stream",
       "stream": "stdout",
       "text": [
        "2.5\n"
       ]
      },
      {
       "output_type": "pyout",
       "prompt_number": 106,
       "text": [
        "2.0"
       ]
      }
     ],
     "prompt_number": 106
    },
    {
     "cell_type": "code",
     "collapsed": false,
     "input": [
      "(1..5).each_with_object([]){ |item, array| array << item ** 2 }"
     ],
     "language": "python",
     "outputs": [
      {
       "output_type": "pyout",
       "prompt_number": 107,
       "text": [
        "[1, 4, 9, 16, 25]"
       ]
      }
     ],
     "prompt_number": 107
    },
    {
     "cell_type": "markdown",
     "source": [
      "### `Enumerable#each_slice`\n",
      "\n",
      "```\n",
      "each_slice(n) -> Enumerator\n",
      "each_slice(n) {|list| ... } -> nil\n",
      "```\n",
      "\n",
      "`each_slice`\uc740 \uceec\ub809\uc158\uc744 \ud2b9\uc815\ud55c \uae38\uc774\ub9cc\ud07c \uc798\ub77c\uc11c \ubc18\ubcf5\ud569\ub2c8\ub2e4. \uc608\ub97c \ub4e4\uc5b4 \uae38\uc774\uac00 10\uc778 \uceec\ub809\uc158\uc744 3\uc529 \uc790\ub974\uba74, 3\uac1c\uc758 \uc694\uc18c, 3\uac1c\uc758 \uc694\uc18c, 3\uac1c\uc758 \uc694\uc18c, 1\uac1c\uc758 \uc694\uc18c\uac00 \ub418\uace0 \uc774 4\uac1c\uc758 \uceec\ub809\uc158\uc744 \ubc18\ubcf5\ud569\ub2c8\ub2e4"
     ]
    },
    {
     "cell_type": "code",
     "collapsed": false,
     "input": [
      "(1..10).each_slice(3){|list| p list} "
     ],
     "language": "python",
     "outputs": [
      {
       "output_type": "stream",
       "stream": "stdout",
       "text": [
        "[1, 2, 3]"
       ]
      },
      {
       "output_type": "stream",
       "stream": "stdout",
       "text": [
        "\n"
       ]
      },
      {
       "output_type": "stream",
       "stream": "stdout",
       "text": [
        "[4, 5, 6]"
       ]
      },
      {
       "output_type": "stream",
       "stream": "stdout",
       "text": [
        "\n"
       ]
      },
      {
       "output_type": "stream",
       "stream": "stdout",
       "text": [
        "[7, 8, 9]"
       ]
      },
      {
       "output_type": "stream",
       "stream": "stdout",
       "text": [
        "\n"
       ]
      },
      {
       "output_type": "stream",
       "stream": "stdout",
       "text": [
        "[10]"
       ]
      },
      {
       "output_type": "stream",
       "stream": "stdout",
       "text": [
        "\n"
       ]
      }
     ],
     "prompt_number": 108
    },
    {
     "cell_type": "markdown",
     "source": [
      "\uc774\ub7ec\ud55c \uc5f4\uac70\uc790\ub294 \ud2b9\uc815\ud55c \uac2f\uc218\ub9cc\ud07c \uc9dd\uc744 \uc9c0\uc5b4\uc11c \ucc98\ub9ac\ud560 \ub54c \uc720\uc6a9\ud569\ub2c8\ub2e4. \uc608\ub97c \ub4e4\uc5b4\uc11c 15\uba85\uc758 \uc0ac\ub78c\uc774 \uc788\uace0 3\uba85\uc529 \ubaa8\uc544 5\uac1c\uc758 \ud300\uc744 \ub9cc\ub4e0\ub2e4\uace0 \ud560 \ub54c \ub2e4\uc74c\uacfc \uac19\uc774 \ucc98\ub9ac\ud560 \uc218 \uc788\uc2b5\ub2c8\ub2e4"
     ]
    },
    {
     "cell_type": "code",
     "collapsed": false,
     "input": [
      "people = %w{\ucca0\uc218 \uc601\ud76c \ubbfc\uc218 \ubbfc\uc9c0 \uae38\ub3d9 \uac11\uc21c \uac11\ub3cc \ub458\ub9ac \ubaa8\ubaa8 \uc138\ub9ac \uc601\uc790 \ub610\ub610 \ud604\uc544 \uc5f0\uc9c0 \uace4\uc9c0}\n",
      "people.sort_by{rand}.each_slice(3).with_index do |list, index| \n",
      "  puts \"\ud300\" + (index + 1).to_s + \": \" + list.join(\", \")\n",
      "end"
     ],
     "language": "python",
     "outputs": [
      {
       "output_type": "stream",
       "stream": "stdout",
       "text": [
        "\ud3001: \ub610\ub610, \ubaa8\ubaa8, \uae38\ub3d9\n"
       ]
      },
      {
       "output_type": "stream",
       "stream": "stdout",
       "text": [
        "\ud3002: \uc601\uc790, \uc5f0\uc9c0, \uc138\ub9ac\n"
       ]
      },
      {
       "output_type": "stream",
       "stream": "stdout",
       "text": [
        "\ud3003: \ubbfc\uc218, \uac11\uc21c, \uc601\ud76c\n"
       ]
      },
      {
       "output_type": "stream",
       "stream": "stdout",
       "text": [
        "\ud3004: \uace4\uc9c0, \ud604\uc544, \ubbfc\uc9c0\n"
       ]
      },
      {
       "output_type": "stream",
       "stream": "stdout",
       "text": [
        "\ud3005: \ub458\ub9ac, \uac11\ub3cc, \ucca0\uc218\n"
       ]
      }
     ],
     "prompt_number": 109
    },
    {
     "cell_type": "markdown",
     "source": [
      "\uc544\uc27d\uac8c\ub3c4 `each_slice`\uc5d0 \ub300\uc751\ud558\ub294 `map` \uacc4\uc5f4 \ud568\uc218\ub294 \uc5c6\uc2b5\ub2c8\ub2e4. \ub2e8 \ube14\ub7ed \uc5c6\uc774 \uc2e4\ud589\ud55c `each_slice`\uc758 \uacb0\uacfc\ub97c \ubc30\uc5f4\ub85c \ubcc0\ud658\ud55c \ub2e4\uc74c `map`\uc744 \uc5f0\uc1c4\uc2dc\ud0a4\ub294 \ubc29\ubc95\uc744 \uc0ac\uc6a9\ud560 \uc218 \uc788\uc2b5\ub2c8\ub2e4. \uc774\ub294 Enumerable\uc744 \ud65c\uc6a9\ud558\uba74 \uc790\uc8fc \uc0ac\uc6a9\ud558\uac8c \ub418\ub294 \ud14c\ud06c\ub2c9\uc785\ub2c8\ub2e4. \uc774\ub7ec\ud55c \ubc29\ubc95\uc740 `each` \uacc4\uc5f4 \uba54\uc11c\ub4dc\ub4e4\uc744 `map`\uacfc \uc5f0\uacc4\uc2dc\ucf1c\uc11c \uc0ac\uc6a9\ud560 \uc218 \uc788\uac8c \ub3c4\uc640\uc90d\ub2c8\ub2e4. \uc704\uc758 \uc608\ub97c \uacc4\uc18d \uc0ac\uc6a9\ud574\ubcf4\uaca0\uc2b5\ub2c8\ub2e4"
     ]
    },
    {
     "cell_type": "code",
     "collapsed": false,
     "input": [
      "people.each_slice(3).to_a"
     ],
     "language": "python",
     "outputs": [
      {
       "output_type": "pyout",
       "prompt_number": 110,
       "text": [
        "[[\"\ucca0\uc218\", \"\uc601\ud76c\", \"\ubbfc\uc218\"], [\"\ubbfc\uc9c0\", \"\uae38\ub3d9\", \"\uac11\uc21c\"], [\"\uac11\ub3cc\", \"\ub458\ub9ac\", \"\ubaa8\ubaa8\"], [\"\uc138\ub9ac\", \"\uc601\uc790\", \"\ub610\ub610\"], [\"\ud604\uc544\", \"\uc5f0\uc9c0\", \"\uace4\uc9c0\"]]"
       ]
      }
     ],
     "prompt_number": 110
    },
    {
     "cell_type": "code",
     "collapsed": false,
     "input": [
      "# \uccab\ubc88\uc9f8 \uba64\ubc84\ub97c \ubf51\uc544\ub0c5\ub2c8\ub2e4\n",
      "people.each_slice(3).to_a.map{|team| team.first}"
     ],
     "language": "python",
     "outputs": [
      {
       "output_type": "pyout",
       "prompt_number": 111,
       "text": [
        "[\"\ucca0\uc218\", \"\ubbfc\uc9c0\", \"\uac11\ub3cc\", \"\uc138\ub9ac\", \"\ud604\uc544\"]"
       ]
      }
     ],
     "prompt_number": 111
    },
    {
     "cell_type": "markdown",
     "source": [
      "### `Enumerable#each_cons`\n",
      "\n",
      "```\n",
      "each_cons(n) -> Enumerator\n",
      "each_cons(n) {|list| ... } -> nil\n",
      "```\n",
      "\n",
      "`each_cons`\ub294 `each_slice`\uc640 \ube44\uc2b7\ud558\uc9c0\ub9cc \ud2b9\uc815\ud55c \uae38\uc774\ub9cc\ud07c \uc790\ub97c \ub54c \uae38\uc774\ub97c \uacb9\uccd0\uc11c \uc790\ub985\ub2c8\ub2e4. \ubc31\ubb38\uc774\ubd88\uc5ec\uc77c\uacac, \uc9c1\uc811 \ubcf4\uba74 \uc774\ud574\uac00 \ubc14\ub85c \ub420 \uac83\uc785\ub2c8\ub2e4. \uc544\ub798 \uc608\uc81c\uc5d0\uc11c \ub450 \uba54\uc11c\ub4dc\ub97c \ube44\uad50\ud574\ubcf4\uaca0\uc2b5\ub2c8\ub2e4."
     ]
    },
    {
     "cell_type": "code",
     "collapsed": false,
     "input": [
      "(1..10).each_slice(3).to_a"
     ],
     "language": "python",
     "outputs": [
      {
       "output_type": "pyout",
       "prompt_number": 112,
       "text": [
        "[[1, 2, 3], [4, 5, 6], [7, 8, 9], [10]]"
       ]
      }
     ],
     "prompt_number": 112
    },
    {
     "cell_type": "code",
     "collapsed": false,
     "input": [
      "(1..10).each_cons(3).to_a"
     ],
     "language": "python",
     "outputs": [
      {
       "output_type": "pyout",
       "prompt_number": 113,
       "text": [
        "[[1, 2, 3], [2, 3, 4], [3, 4, 5], [4, 5, 6], [5, 6, 7], [6, 7, 8], [7, 8, 9], [8, 9, 10]]"
       ]
      }
     ],
     "prompt_number": 113
    },
    {
     "cell_type": "markdown",
     "source": [
      "### `Enumerable#reverse_each`\n",
      "\n",
      "```\n",
      "reverse_each -> Enumerator\n",
      "reverse_each {|element| ... } -> self\n",
      "```\n",
      "\n",
      "`reverse_each`\ub294 `each`\uc640 \ub9c8\ucc2c\uac00\uc9c0\ub85c \uac01 \uc694\uc18c\ub97c \ubc18\ubcf5\ud558\ub418, \uc21c\uc11c\ub97c \uac70\uafb8\ub85c \ud569\ub2c8\ub2e4"
     ]
    },
    {
     "cell_type": "code",
     "collapsed": false,
     "input": [
      "\"Hello\".split(\"\").each{|item| puts item}"
     ],
     "language": "python",
     "outputs": [
      {
       "output_type": "stream",
       "stream": "stdout",
       "text": [
        "H\n"
       ]
      },
      {
       "output_type": "stream",
       "stream": "stdout",
       "text": [
        "e\n"
       ]
      },
      {
       "output_type": "stream",
       "stream": "stdout",
       "text": [
        "l\n"
       ]
      },
      {
       "output_type": "stream",
       "stream": "stdout",
       "text": [
        "l\n"
       ]
      },
      {
       "output_type": "stream",
       "stream": "stdout",
       "text": [
        "o\n"
       ]
      },
      {
       "output_type": "pyout",
       "prompt_number": 114,
       "text": [
        "[\"H\", \"e\", \"l\", \"l\", \"o\"]"
       ]
      }
     ],
     "prompt_number": 114
    },
    {
     "cell_type": "code",
     "collapsed": false,
     "input": [
      "\"Hello\".split(\"\").reverse_each{|item| puts item}"
     ],
     "language": "python",
     "outputs": [
      {
       "output_type": "stream",
       "stream": "stdout",
       "text": [
        "o\n"
       ]
      },
      {
       "output_type": "stream",
       "stream": "stdout",
       "text": [
        "l\n"
       ]
      },
      {
       "output_type": "stream",
       "stream": "stdout",
       "text": [
        "l\n"
       ]
      },
      {
       "output_type": "stream",
       "stream": "stdout",
       "text": [
        "e\n"
       ]
      },
      {
       "output_type": "stream",
       "stream": "stdout",
       "text": [
        "H\n"
       ]
      },
      {
       "output_type": "pyout",
       "prompt_number": 115,
       "text": [
        "[\"H\", \"e\", \"l\", \"l\", \"o\"]"
       ]
      }
     ],
     "prompt_number": 115
    },
    {
     "cell_type": "markdown",
     "source": [
      "### `Enumerable#cycle`\n",
      "\n",
      "cycle(n=nil) -> Enumerator\n",
      "cycle(n=nil) {|obj| ... } -> object | nil\n",
      "\n",
      "cycle\ub294 \ub9ac\uc2dc\ubc84\ub97c \ud2b9\uc815\ud55c \ud69f\uc218(\uc778\uc790)\ub9cc\ud07c \ubc18\ubcf5\ud569\ub2c8\ub2e4. \uc778\uc790\uac00 \uc5c6\uc73c\uba74 \ubb34\ud55c\ud788 \ubc18\ubcf5\ud569\ub2c8\ub2e4"
     ]
    },
    {
     "cell_type": "code",
     "collapsed": false,
     "input": [
      "[100, 200].cycle(3){|item| puts item}"
     ],
     "language": "python",
     "outputs": [
      {
       "output_type": "stream",
       "stream": "stdout",
       "text": [
        "100\n"
       ]
      },
      {
       "output_type": "stream",
       "stream": "stdout",
       "text": [
        "200\n"
       ]
      },
      {
       "output_type": "stream",
       "stream": "stdout",
       "text": [
        "100\n"
       ]
      },
      {
       "output_type": "stream",
       "stream": "stdout",
       "text": [
        "200\n"
       ]
      },
      {
       "output_type": "stream",
       "stream": "stdout",
       "text": [
        "100\n"
       ]
      },
      {
       "output_type": "stream",
       "stream": "stdout",
       "text": [
        "200\n"
       ]
      }
     ],
     "prompt_number": 116
    },
    {
     "cell_type": "markdown",
     "source": [
      "### `Enumerable#flat_map` / `Enumerable#collect_concat`\n",
      "\n",
      "```\n",
      "flat_map -> Enumerator\n",
      "collect_concat -> Enumerator\n",
      "flat_map {| obj | block } -> Array\n",
      "collect_concat {| obj | block } -> Array\n",
      "```\n",
      "\n",
      "`map`(`collect`)\uc5d0 \ub300\ud574\uc11c\ub294 \uc774\ubbf8 \uc704\uc5d0\uc11c \uc124\uba85\ud55c \ubc14 \uc788\uc2b5\ub2c8\ub2e4. `flat_map`(`collect_concat`)\ub294 map\uacfc \ub9c8\ucc2c\uac00\uc9c0\ub85c \uac01 \uc694\uc18c\ub97c \ubc18\ubcf5\ud55c \ud6c4 flatten\ud574\uc11c \ub9ac\ud134\ud569\ub2c8\ub2e4. \ub450 \uba54\uc11c\ub4dc\ub97c \ube44\uad50\ud574\ubcf4\uaca0\uc2b5\ub2c8\ub2e4."
     ]
    },
    {
     "cell_type": "code",
     "collapsed": false,
     "input": [
      "[[1, 3, 5], [2, 4, 6]].map{|item| item * 2}"
     ],
     "language": "python",
     "outputs": [
      {
       "output_type": "pyout",
       "prompt_number": 117,
       "text": [
        "[[1, 3, 5, 1, 3, 5], [2, 4, 6, 2, 4, 6]]"
       ]
      }
     ],
     "prompt_number": 117
    },
    {
     "cell_type": "code",
     "collapsed": false,
     "input": [
      "[[1, 3, 5], [2, 4, 6]].flat_map{|item| item * 2}"
     ],
     "language": "python",
     "outputs": [
      {
       "output_type": "pyout",
       "prompt_number": 118,
       "text": [
        "[1, 3, 5, 1, 3, 5, 2, 4, 6, 2, 4, 6]"
       ]
      }
     ],
     "prompt_number": 118
    },
    {
     "cell_type": "markdown",
     "source": [
      "\uac01 \uac12\uc758 \uc21c\uc11c\ub294 \uac19\uc9c0\ub9cc map\uc758 \uacb0\uacfc\ub294 2\ucc28\uc6d0, flat_map\uc758 \uacb0\uacfc\ub294 1\ucc28\uc6d0\uc778 \uac78 \ud655\uc778\ud560 \uc218 \uc788\uc2b5\ub2c8\ub2e4. flatten\ud558\uace0 map\uc744 \ud558\ub294 \uac8c \uc544\ub2c8\ub77c map\uc744 \ud558\uace0 flatten\ud55c\ub2e4\ub294 \uc810\uc5d0 \uc720\uc758\ud574\uc57c\ud569\ub2c8\ub2e4"
     ]
    },
    {
     "cell_type": "markdown",
     "source": [
      "### `Enumerable#inject` / `Enumerable#reduce`\n",
      "\n",
      "`inject`\uc640 `reduce`\ub294 \uceec\ub809\uc158\uc5d0 \uc5f0\uc18d\uc801\uc73c\ub85c \ud568\uc218\ub97c \uc801\uc6a9\ud55c \uacb0\uacfc\ub97c \ub9ac\ud134\ud569\ub2c8\ub2e4. \uc544\ub798 \uc608\uc81c\ub294 \ub9ac\uc2dc\ubc84 \uceec\ub809\uc158\uc744 \uc804\ubd80 \ub354\ud55c \uacb0\uacfc\ub97c \ub9ac\ud134\ud569\ub2c8\ub2e4"
     ]
    },
    {
     "cell_type": "code",
     "collapsed": false,
     "input": [
      "[1, 2, 3].inject(0){|item, sum| sum = sum + item}"
     ],
     "language": "python",
     "outputs": [
      {
       "output_type": "pyout",
       "prompt_number": 119,
       "text": [
        "6"
       ]
      }
     ],
     "prompt_number": 119
    },
    {
     "cell_type": "markdown",
     "source": [
      "\uc5ec\uae30\uc11c \uc911\uc694\ud55c \uc810\uc740 `inject`\uc758 \ube14\ub7ed \uc778\uc790\ub85c `item`\uacfc `sum` \ub450 \uac1c\ub97c \ubc1b\uace0 \uc788\ub2e4\ub294 \uc810\uc785\ub2c8\ub2e4. \uba3c\uc800 \uc55e\uc758 `item`\uc740 `map`\uc774\ub098 `each`\uc640 \ub9c8\ucc2c\uac00\uc9c0\ub85c \uceec\ub809\uc158\uc758 \uc694\uc18c\uac00 \ub418\uace0 `sum`\uc740 \ud3c9\uac00 \uacb0\uacfc\ub97c \uc800\uc7a5\ud560 \ubcc0\uc218\uc785\ub2c8\ub2e4. \uc774 \ub54c inject\uc5d0 \ub118\uaca8\uc900 `0`\uc774 `sum`\uc758 \ucd08\uae30\uac12\uc774 \ub418\uba70 inject\ub294 \ucd5c\uc885\uc801\uc73c\ub85c sum\uc758 \ucd5c\uc885 \uacb0\uacfc\ub97c \ub9ac\ud134\ud569\ub2c8\ub2e4\n",
      "\n",
      "\uc774\ub7ec\ud55c \uacfc\uc815\uc744 \uc880 \ub354 \ud480\uc5b4\uc11c \uc124\uba85\ud558\uc790\uba74, \ucc98\uc74c\uc5d0\ub294 item\uc5d0 1\uc774 \ub118\uc5b4\uac00\uace0 sum\uc5d0\ub294 0\uc774 \ub118\uc5b4\uac11\ub2c8\ub2e4. \ub530\ub77c\uc11c \ub2e4\uc74c\uacfc \uac19\uc2b5\ub2c8\ub2e4"
     ]
    },
    {
     "cell_type": "code",
     "collapsed": false,
     "input": [
      "sum = 0 + 1"
     ],
     "language": "python",
     "outputs": [
      {
       "output_type": "pyout",
       "prompt_number": 120,
       "text": [
        "1"
       ]
      }
     ],
     "prompt_number": 120
    },
    {
     "cell_type": "markdown",
     "source": [
      "\ub2e4\uc74c\uc740 item\uc774 \ub450\ubc88\uc9f8 \uc694\uc18c\uc778 2\uac00 \ub418\uace0, \uadf8 \ub2e4\uc74c\uc740 3\uc774 \ub429\ub2c8\ub2e4"
     ]
    },
    {
     "cell_type": "code",
     "collapsed": false,
     "input": [
      "sum = sum + 2"
     ],
     "language": "python",
     "outputs": [
      {
       "output_type": "pyout",
       "prompt_number": 121,
       "text": [
        "3"
       ]
      }
     ],
     "prompt_number": 121
    },
    {
     "cell_type": "code",
     "collapsed": false,
     "input": [
      "sum = sum + 3"
     ],
     "language": "python",
     "outputs": [
      {
       "output_type": "pyout",
       "prompt_number": 122,
       "text": [
        "6"
       ]
      }
     ],
     "prompt_number": 122
    },
    {
     "cell_type": "markdown",
     "source": [
      "\uc774\ub7ec\ud55c \uacfc\uc815\uc744 \uac70\uccd0\uc11c `[1, 2, 3].inject(0){|item, sum| sum = sum + item}`\uc740 6\uc744 \ub9ac\ud134\ud569\ub2c8\ub2e4. \ub9cc\uc57d `inject`\uc758 \uc778\uc790\ub85c \ub118\uaca8\uc8fc\ub294 \ucd08\uae30\uac12\uc744 \uc0dd\ub7b5\ud558\uba74 \ub9ac\uc2dc\ubc84 \uceec\ub809\uc158\uc758 \uccab\ubc88\uc9f8 \uac12\uc774 sum\uc758 \ucd08\uae30\uac12\uc774 \ub429\ub2c8\ub2e4. \uccab item\uc740 \ub9ac\uc2dc\ubc84\uc758 \ub450\ubc88\uc9f8 \uc694\uc18c\uac00 \ub429\ub2c8\ub2e4. \ub530\ub77c\uc11c \uacb0\uacfc\ub294 \uac19\uc2b5\ub2c8\ub2e4"
     ]
    },
    {
     "cell_type": "code",
     "collapsed": false,
     "input": [
      "[1, 2, 3].inject{|item, sum| sum = sum + item}"
     ],
     "language": "python",
     "outputs": [
      {
       "output_type": "pyout",
       "prompt_number": 123,
       "text": [
        "6"
       ]
      }
     ],
     "prompt_number": 123
    },
    {
     "cell_type": "markdown",
     "source": [
      "\uc55e\uc11c\uc11c \ube14\ub7ed \ucd95\uc57d \ud45c\ud604\uc744 \uc124\uba85\ud55c \ubc14 \uc788\uc2b5\ub2c8\ub2e4. `inject`\uc5d0\uc11c\ub3c4 \ub204\uc801\uc801\uc73c\ub85c \uc801\uc6a9\ub418\ub294 \uba54\uc11c\ub4dc(\uc5f0\uc0b0\uc790)\uc5d0 \ub300\ud574\uc11c \uc774\ub7ec\ud55c \ucd95\uc57d\ud45c\ud604\uc744 \uc0ac\uc6a9\ud560 \uc218 \uc788\uc2b5\ub2c8\ub2e4. \ub530\ub77c\uc11c \uc544\ub798\uc640 \uac19\uc774 \uc904\uc77c \uc218 \uc788\uc2b5\ub2c8\ub2e4"
     ]
    },
    {
     "cell_type": "code",
     "collapsed": false,
     "input": [
      "[1, 2, 3].inject(0, &:+) "
     ],
     "language": "python",
     "outputs": [
      {
       "output_type": "pyout",
       "prompt_number": 124,
       "text": [
        "6"
       ]
      }
     ],
     "prompt_number": 124
    },
    {
     "cell_type": "markdown",
     "source": [
      "\uc801\uc6a9\ud558\ub294 \uba54\uc11c\ub4dc\uac00 \ub2e8\uc21c\ud560 \ub54c\ub294 \uc774\ub7ec\ud55c \ubc29\ubc95\uc744 \uc880 \ub354 \uc9c1\uad00\uc801\uc73c\ub85c \uc0ac\uc6a9\ud560 \uc218 \uc788\uc2b5\ub2c8\ub2e4. \uc55e\uc11c\uc11c \uc774\uc57c\uae30\ud588\ub4ef\uc774 \uc5ec\uae30\uc11c `&`\uc740 \ube14\ub7ed\uc744 \ub300\uc2e0\ud558\ub294 \ud45c\ud604\uc785\ub2c8\ub2e4. \uc7ac\ubbf8\uc788\ub294 \uac74 `inject` \uba54\uc11c\ub4dc\ub294 \uc774\ub807\uac8c \ube14\ub7ed\uc744 \ubc1b\uc9c0 \uc54a\uace0 \uc801\uc6a9\ud560 \ud568\uc218 \uc774\ub984\uc744 \uc9c1\uc811 \ubc1b\uc744 \uc218\ub3c4 \uc788\uc2b5\ub2c8\ub2e4. \ud568\uc218 \uc774\ub984\uc740 \uc2ec\ubcfc\ub85c \ubc1b\uc2b5\ub2c8\ub2e4. \ub530\ub77c\uc11c \uc544\ub798 \uc608\uc81c\ub294 \uc704\uc758 \uc608\uc81c\uc640 \uac19\uc740 \uacb0\uacfc\ub97c \ub9ac\ud134\ud569\ub2c8\ub2e4"
     ]
    },
    {
     "cell_type": "code",
     "collapsed": false,
     "input": [
      "[1, 2, 3].inject(0, :+)"
     ],
     "language": "python",
     "outputs": [
      {
       "output_type": "pyout",
       "prompt_number": 125,
       "text": [
        "6"
       ]
      }
     ],
     "prompt_number": 125
    },
    {
     "cell_type": "markdown",
     "source": [
      "\uc720\uc758\ud558\uc154\uc57c \ud560 \ubd80\ubd84\uc740 \uc704\uc758 \ub450 \uc608\uc81c\uc5d0\uc11c `&:+`\uacfc `:+`\uc774 \uac19\uc740 \ud45c\ud604\uc774 \uc544\ub2c8\ub77c\ub294 \uc810\uc785\ub2c8\ub2e4. \uc804\uc790\ub294 \ube14\ub7ed\uc744 \ub300\uc2e0\ud558\ub294 \ud45c\ud604\uc774\uace0 \ud6c4\uc790\ub294 \uadf8\ub0e5 \uc2ec\ubcfc\uc785\ub2c8\ub2e4. \ub2e8\uc9c0 `inject` \uba54\uc11c\ub4dc\uac00 \uba54\uc11c\ub4dc \uc774\ub984\uc744 \uc778\uc790\ub85c \ubc1b\uc544 \ucc98\ub9ac\ud560 \uc218 \uc788\ub294 \uae30\ub2a5\uc744 \uc9c0\uc6d0\ud560 \uc218 \uc788\uc744 \ubfd0\uc785\ub2c8\ub2e4. \ub530\ub77c\uc11c \uc774\ub7ec\ud55c \ud45c\ud604\uc740 \ub2e4\ub978 \uba54\uc11c\ub4dc\uc5d0\uc11c\ub294 \uc0ac\uc6a9\ud560 \uc218 \uc5c6\uc2b5\ub2c8\ub2e4. \uc704\uc5d0\uc11c \uc608\ub85c \ub4e4\uc5c8\ub358 `map` \uba54\uc11c\ub4dc\ub97c \uc0ac\uc6a9\ud574 \ub458\uc744 \ube44\uad50\ud574\ubcf4\ub3c4\ub85d \ud558\uaca0\uc2b5\ub2c8\ub2e4"
     ]
    },
    {
     "cell_type": "code",
     "collapsed": false,
     "input": [
      "idol = %w{EXO \uc18c\ub140\uc2dc\ub300 2ne1 HOT \uc288\ud37c\uc8fc\ub2c8\uc5b4 SES}\n",
      "idol.map &:length"
     ],
     "language": "python",
     "outputs": [
      {
       "output_type": "pyout",
       "prompt_number": 126,
       "text": [
        "[3, 4, 4, 3, 5, 3]"
       ]
      }
     ],
     "prompt_number": 126
    },
    {
     "cell_type": "code",
     "collapsed": false,
     "input": [
      "idol.map :length"
     ],
     "language": "python",
     "outputs": [
      {
       "ename": "ArgumentError",
       "evalue": "wrong number of arguments (1 for 0)",
       "output_type": "pyerr",
       "traceback": [
        "\u001b[31mArgumentError\u001b[0m: wrong number of arguments (1 for 0)",
        "\u001b[37m(pry):299:in `map'\u001b[0m",
        "\u001b[37m(pry):299:in `<main>'\u001b[0m",
        "\u001b[37m/home/nacyot/.rbenv/versions/2.1.0/lib/ruby/gems/2.1.0/gems/pry-1.0.0.pre1/lib/pry/pry_instance.rb:369:in `eval'\u001b[0m",
        "\u001b[37m/home/nacyot/.rbenv/versions/2.1.0/lib/ruby/gems/2.1.0/gems/pry-1.0.0.pre1/lib/pry/pry_instance.rb:369:in `evaluate_ruby'\u001b[0m",
        "\u001b[37m/home/nacyot/.rbenv/versions/2.1.0/lib/ruby/gems/2.1.0/gems/pry-1.0.0.pre1/lib/pry/pry_instance.rb:334:in `handle_line'\u001b[0m",
        "\u001b[37m/home/nacyot/.rbenv/versions/2.1.0/lib/ruby/gems/2.1.0/gems/pry-1.0.0.pre1/lib/pry/pry_instance.rb:270:in `block (2 levels) in eval'\u001b[0m",
        "\u001b[37m/home/nacyot/.rbenv/versions/2.1.0/lib/ruby/gems/2.1.0/gems/pry-1.0.0.pre1/lib/pry/pry_instance.rb:269:in `catch'\u001b[0m",
        "\u001b[37m/home/nacyot/.rbenv/versions/2.1.0/lib/ruby/gems/2.1.0/gems/pry-1.0.0.pre1/lib/pry/pry_instance.rb:269:in `block in eval'\u001b[0m",
        "\u001b[37m/home/nacyot/.rbenv/versions/2.1.0/lib/ruby/gems/2.1.0/gems/pry-1.0.0.pre1/lib/pry/pry_instance.rb:268:in `catch'\u001b[0m",
        "\u001b[37m/home/nacyot/.rbenv/versions/2.1.0/lib/ruby/gems/2.1.0/gems/pry-1.0.0.pre1/lib/pry/pry_instance.rb:268:in `eval'\u001b[0m",
        "\u001b[37m/home/nacyot/.rbenv/versions/2.1.0/lib/ruby/gems/2.1.0/gems/iruby-0.1.7/lib/iruby/backend.rb:35:in `eval'\u001b[0m",
        "\u001b[37m/home/nacyot/.rbenv/versions/2.1.0/lib/ruby/gems/2.1.0/gems/iruby-0.1.7/lib/iruby/kernel.rb:105:in `execute_request'\u001b[0m",
        "\u001b[37m/home/nacyot/.rbenv/versions/2.1.0/lib/ruby/gems/2.1.0/gems/iruby-0.1.7/lib/iruby/kernel.rb:57:in `run'\u001b[0m",
        "\u001b[37m/home/nacyot/.rbenv/versions/2.1.0/lib/ruby/gems/2.1.0/gems/iruby-0.1.7/lib/iruby/command.rb:28:in `run_kernel'\u001b[0m",
        "\u001b[37m/home/nacyot/.rbenv/versions/2.1.0/lib/ruby/gems/2.1.0/gems/iruby-0.1.7/lib/iruby/command.rb:15:in `run'\u001b[0m",
        "\u001b[37m/home/nacyot/.rbenv/versions/2.1.0/lib/ruby/gems/2.1.0/gems/iruby-0.1.7/bin/iruby:6:in `<top (required)>'\u001b[0m",
        "\u001b[37m/home/nacyot/.rbenv/versions/2.1.0/bin/iruby:23:in `load'\u001b[0m",
        "\u001b[37m/home/nacyot/.rbenv/versions/2.1.0/bin/iruby:23:in `<main>'\u001b[0m"
       ]
      }
     ],
     "prompt_number": 127
    },
    {
     "cell_type": "markdown",
     "source": [
      "\ub610\ud55c \uc55e\uc11c\uc11c \uc774\uc57c\uae30\ud588\ub4ef\uc774 `inject` \uba54\uc11c\ub4dc\ub294 \ub9e5\ub77d\uc5d0 \ub530\ub77c\uc11c \ucd08\uae30\uac12\uc744 \uc0dd\ub7b5\ud560 \uc218 \uc788\uc2b5\ub2c8\ub2e4. "
     ]
    },
    {
     "cell_type": "code",
     "collapsed": false,
     "input": [
      "[1, 2, 3].inject :+"
     ],
     "language": "python",
     "outputs": [
      {
       "output_type": "pyout",
       "prompt_number": 128,
       "text": [
        "6"
       ]
      }
     ],
     "prompt_number": 128
    },
    {
     "cell_type": "markdown",
     "source": [
      "\ucf54\ub4dc \uae38\uc774\ub97c \uc904\uc774\ub294 \uac8c \uc6b0\uc120\uc778 \ucf54\ub4dc \uace8\ud504\uc640 \uac19\uc740 \ub370\uc11c \uc774\ub7ec\ud55c \ud45c\ud604\uc740 \ub9e4\uc6b0 \uae30\ubcf8\uc801\uc73c\ub85c \uc0ac\uc6a9\ub418\ub294 \ud14c\ud06c\ub2c9 \uc911 \ud558\ub098\uc785\ub2c8\ub2e4. \uc77c\ubc18\uc801\uc73c\ub85c \uc774\ub7f0 \uc2dd\uc758 \ucd95\uc57d \ud45c\ud604\uc740 \uc57d\uac04\uc758 \ud63c\ub3d9\uc744 \uc904 \uc218\ub3c4 \uc788\uc2b5\ub2c8\ub2e4\ub9cc, \uc775\uc219\ud574\uc9c0\uae30\ub9cc \ud558\uba74 \ub2f9\uc5f0\ud55c \ub85c\uc9c1\uc744 \ud55c \ubc88 \ub354 \ub530\ub77c\uac00\ub294 \ub300\uc2e0 \uba54\uc11c\ub4dc \uc774\ub984\ub9cc\uc73c\ub85c \uc5b4\ub5a4 \uc77c\uc744 \ud558\ub294 \uc9c0 \uc758\ubbf8\ub860\uc801\uc73c\ub85c \ubc14\ub85c \ud30c\uc545\uc774 \uac00\ub2a5\ud569\ub2c8\ub2e4. \uc990\uaca8\uc368\uc57c \ud558\uace0 \ub2f9\uc5f0\ud788 \uc775\ud600\ub450\uc5b4\uc57c\ud569\ub2c8\ub2e4"
     ]
    },
    {
     "cell_type": "markdown",
     "source": [
      "### `Enumerable#count`\n",
      "\n",
      "```\n",
      "count -> Integer\n",
      "count(item) -> Integer\n",
      "count {|obj| ... } -> Integer\n",
      "```\n",
      "\n",
      "`count` \uba54\uc11c\ub4dc\ub294 \ub9ac\uc2dc\ubc84 \uceec\ub809\uc158\uc758 \uc694\uc18c\uc218\ub97c \ub9ac\ud134\ud569\ub2c8\ub2e4."
     ]
    },
    {
     "cell_type": "code",
     "collapsed": false,
     "input": [
      "(1..100).count"
     ],
     "language": "python",
     "outputs": [
      {
       "output_type": "pyout",
       "prompt_number": 129,
       "text": [
        "100"
       ]
      }
     ],
     "prompt_number": 129
    },
    {
     "cell_type": "markdown",
     "source": [
      "count \uba54\uc11c\ub4dc\ub294 \ub108\ubb34\ub098\ub3c4 \uae30\ubcf8\uc801\uc774\uace0, \ub9ce\uc774 \uc0ac\uc6a9\ub418\ub294 \uba54\uc11c\ub4dc\uc785\ub2c8\ub2e4. \ube44\uc2b7\ud55c \uba54\uc11c\ub4dc\ub85c `length`\ub77c\ub294 \uba54\uc11c\ub4dc\uac00 \uc788\uc2b5\ub2c8\ub2e4\ub9cc, `Enumerable#count` \uba54\uc11c\ub4dc\ub294 `length`\uc640\ub294 \ub2ec\ub9ac \ube14\ub7ed\uc744 \ubc1b\uc744 \uc218 \uc788\uc2b5\ub2c8\ub2e4. `count` \uba54\uc11c\ub4dc\uc5d0 \ube14\ub7ed\uc744 \ub118\uaca8\uc8fc\uba74 \ube14\ub7ed\uc744 \ucc38\uc73c\ub85c \ub9cc\ub4dc\ub294 \uc694\uc18c\uc758 \uac1c\uc218\ub97c \ub9ac\ud134\ud569\ub2c8\ub2e4"
     ]
    },
    {
     "cell_type": "code",
     "collapsed": false,
     "input": [
      "idol = %w{EXO \uc18c\ub140\uc2dc\ub300 2ne1 HOT \uc288\ud37c\uc8fc\ub2c8\uc5b4 SES}\n",
      "\n",
      "idol.length"
     ],
     "language": "python",
     "outputs": [
      {
       "output_type": "pyout",
       "prompt_number": 190,
       "text": [
        "6"
       ]
      }
     ],
     "prompt_number": 190
    },
    {
     "cell_type": "code",
     "collapsed": false,
     "input": [
      "# \ud55c\uae00 \ubb38\uc790\uc5f4\ub85c\ub9cc \ub41c \ubb38\uc790\uc5f4\uc758 \uac1c\uc218\ub97c \uc149\ub2c8\ub2e4\n",
      "idol.count{|item| item =~ /\\p{hangul}+/ }"
     ],
     "language": "python",
     "outputs": [
      {
       "output_type": "pyout",
       "prompt_number": 191,
       "text": [
        "2"
       ]
      }
     ],
     "prompt_number": 191
    },
    {
     "cell_type": "markdown",
     "source": [
      "### `Enumerable#grep`\n",
      "\n",
      "```\n",
      "grep(pattern) -> [object]\n",
      "grep(pattern) {|item| ... } -> [object]\n",
      "```\n",
      "\n",
      "`grep` \uba54\uc11c\ub4dc\ub294 \uc8fc\uc5b4\uc9c4 \ud328\ud134\uc5d0 \ub9e4\uce6d\ub418\ub294 \uacb0\uacfc\ub97c \ucc3e\uc2b5\ub2c8\ub2e4. \ud328\ud134\uc740 `===` \uc5f0\uc0b0\uc790\ub85c \ud3c9\uac00\ub429\ub2c8\ub2e4"
     ]
    },
    {
     "cell_type": "code",
     "collapsed": false,
     "input": [
      "people = %w{\ucca0\uc218 \uc601\ud76c \ubbfc\uc218 \ubbfc\uc9c0 \uae38\ub3d9 \uac11\uc21c \uac11\ub3cc \ub458\ub9ac \ubaa8\ubaa8 \uc138\ub9ac \uc601\uc790 \ub610\ub610 \ud604\uc544 \uc5f0\uc9c0 \uace4\uc9c0}\n",
      "people.grep(/\uc9c0/)"
     ],
     "language": "python",
     "outputs": [
      {
       "output_type": "pyout",
       "prompt_number": 131,
       "text": [
        "[\"\ubbfc\uc9c0\", \"\uc5f0\uc9c0\", \"\uace4\uc9c0\"]"
       ]
      }
     ],
     "prompt_number": 131
    },
    {
     "cell_type": "markdown",
     "source": [
      "\ube14\ub7ed\uc744 \ub118\uaca8\uc8fc\uba74 \uac80\uc0c9\ub41c \uacb0\uacfc\uc5d0 \ub300\ud574 \ube14\ub7ed\uc744 \ud3c9\uac00\ud55c \uacb0\uacfc\ub97c \ub9ac\ud134\ud569\ub2c8\ub2e4(`map`)"
     ]
    },
    {
     "cell_type": "code",
     "collapsed": false,
     "input": [
      "people.grep(/\uc9c0/){|item| item.length }"
     ],
     "language": "python",
     "outputs": [
      {
       "output_type": "pyout",
       "prompt_number": 132,
       "text": [
        "[2, 2, 2]"
       ]
      }
     ],
     "prompt_number": 132
    },
    {
     "cell_type": "markdown",
     "source": [
      "### `Enumerable#find` / `Enumerable#detect`\n",
      "\n",
      "```\n",
      "find(ifnone = nil) -> Enumerator\n",
      "detect(ifnone = nil) -> Enumerator\n",
      "find(ifnone = nil) {|item| ... } -> object\n",
      "detect(ifnone = nil) {|item| ... } -> object\n",
      "```\n",
      "\n",
      "`find`(`detect`) \uba54\uc11c\ub4dc\ub294 \ub118\uaca8\uc9c4 \ube14\ub7ed\uc744 \ud3c9\uac00\ud574\uc11c \ud3c9\uac00\ud55c \uacb0\uacfc\uac00 \ucc38\uc778 \uccab\ubc88\uc9f8 \uc694\uc18c\ub97c \ucc3e\uc2b5\ub2c8\ub2e4. \uc778\uc790\ub85c ifnone\uc744 \ub118\uae30\uba74 \ube14\ub7ed\uc744 \ud3c9\uac00\ud574\uc11c \ucc38\uc778 \uc694\uc18c\uac00 \ud558\ub098\ub3c4 \uc5c6\uc744 \ub54c ifnone\uc744 call\ud55c \uacb0\uacfc\ub97c \ub9ac\ud134\ud569\ub2c8\ub2e4."
     ]
    },
    {
     "cell_type": "code",
     "collapsed": false,
     "input": [
      "idol = %w{EXO \uc18c\ub140\uc2dc\ub300 2ne1 HOT \uc288\ud37c\uc8fc\ub2c8\uc5b4 SES}\n",
      "idol.find{|item| item =~ /^[0-9]/ }"
     ],
     "language": "python",
     "outputs": [
      {
       "output_type": "pyout",
       "prompt_number": 133,
       "text": [
        "\"2ne1\""
       ]
      }
     ],
     "prompt_number": 133
    },
    {
     "cell_type": "code",
     "collapsed": false,
     "input": [
      "ifnone = proc { puts \"item not found\" }\n",
      "idol.find(ifnone){|item| item =~ /^3/ }"
     ],
     "language": "python",
     "outputs": [
      {
       "output_type": "stream",
       "stream": "stdout",
       "text": [
        "item not found\n"
       ]
      }
     ],
     "prompt_number": 134
    },
    {
     "cell_type": "markdown",
     "source": [
      "\uc704\uc5d0\uc11c \uc7a0\uae50 \uc5b8\uae09\ud588\ub4ef\uc774 `detect`\ub294 \ub9ac\ud134\uac12\uc73c\ub85c \uc694\uc18c \ud558\ub098\uac00 \ub9ac\ud134\ub418\uae30 \ub54c\ubb38\uc5d0 \uba54\uc11c\ub4dc \uccb4\uc778\uc744 \uc0ac\uc6a9\ud558\ub294 \ub370 \uc720\uc758\ud560 \ud544\uc694\uac00 \uc788\uc2b5\ub2c8\ub2e4. \uba54\uc11c\ub4dc \uccb4\uc778\uc744 \uc0ac\uc6a9\ud558\ub824\uba74 `select`\ub97c \ud558\uace0 `take`\ub97c \uc0ac\uc6a9\ud558\ub294 \ub4f1 \ub2e4\ub978 \ubc29\ubc95\uc744 \uc0ac\uc6a9\ud574\uc57c\ud569\ub2c8\ub2e4"
     ]
    },
    {
     "cell_type": "markdown",
     "source": [
      "### `Enumerable#find_all` / `Enumerable#select`\n",
      "\n",
      "```\n",
      "find_all -> Enumerator\n",
      "select -> Enumerator\n",
      "find_all {|item| ... } -> [object]\n",
      "select {|item| ... } -> [object]\n",
      "```\n",
      "\n",
      "`select`(`find_all`)\uc740 \uac01 \uc694\uc18c\uc5d0 \ub118\uaca8\uc9c4 \ube14\ub7ed\uc744 \ud3c9\uac00\ud574 \ucc38\uc744 \ub9ac\ud134\ud55c \uc694\uc18c\ub4e4\uc744 \ubaa8\ub450 \ucc3e\uc2b5\ub2c8\ub2e4. `find`\uac00 \ub9e8 \ucc98\uc74c \ucc38\uc744 \ub9ac\ud134\ud558\ub294 \uc694\uc18c\ub97c \ucc3e\ub294\ub370 \ubc18\ud574\uc11c `select`\uc774 \ucc38\uc774 \ub418\ub294 \ubaa8\ub4e0 \uc694\uc18c\ub97c \uceec\ub809\uc158\uc73c\ub85c \ub9ac\ud134\ud569\ub2c8\ub2e4."
     ]
    },
    {
     "cell_type": "code",
     "collapsed": false,
     "input": [
      "idol = %w{EXO \uc18c\ub140\uc2dc\ub300 2ne1 HOT \uc288\ud37c\uc8fc\ub2c8\uc5b4 SES}\n",
      "idol.find{|item| item =~ /^[a-zA-Z]/ }"
     ],
     "language": "python",
     "outputs": [
      {
       "output_type": "pyout",
       "prompt_number": 135,
       "text": [
        "\"EXO\""
       ]
      }
     ],
     "prompt_number": 135
    },
    {
     "cell_type": "code",
     "collapsed": false,
     "input": [
      "idol.select{|item| item =~ /^[a-zA-Z]/ }"
     ],
     "language": "python",
     "outputs": [
      {
       "output_type": "pyout",
       "prompt_number": 136,
       "text": [
        "[\"EXO\", \"HOT\", \"SES\"]"
       ]
      }
     ],
     "prompt_number": 136
    },
    {
     "cell_type": "markdown",
     "source": [
      "\uc55e\uc11c \uc5b8\uae09\ud588\ub4ef\uc774 \uc694\uc18c\ub97c \ucc28\uace0\uc790 \ud560 \ub54c `find` \uba54\uc11c\ub4dc\ub97c \uc0ac\uc6a9\ud558\uba74 \uba54\uc11c\ub4dc \uccb4\uc778\uc744 \uc774\uc5b4\uac08 \uc218 \uc5c6\uc2b5\ub2c8\ub2e4. `select`\ub294 \uc544\ub798\uc640 \uac19\uc774 `select`\uc5d0 `take(1)` \uba54\uc11c\ub4dc\ub97c \ud638\ucd9c\ud574 \uac80\uc0c9\ud55c \uacb0\uacfc\uc758 \uccab\ubc88\uc9f8 \uc694\uc18c\ub9cc\uc744 \uceec\ub809\uc158\uc73c\ub85c \uac00\uc838\uc62c \uc218 \uc788\uc2b5\ub2c8\ub2e4."
     ]
    },
    {
     "cell_type": "code",
     "collapsed": false,
     "input": [
      "idol.select{|item| item =~ /^[a-zA-Z]/ }.take(1)"
     ],
     "language": "python",
     "outputs": [
      {
       "output_type": "pyout",
       "prompt_number": 137,
       "text": [
        "[\"EXO\"]"
       ]
      }
     ],
     "prompt_number": 137
    },
    {
     "cell_type": "markdown",
     "source": [
      "### `Enumerable#reject`\n",
      "\n",
      "```\n",
      "reject -> Enumerator\n",
      "reject {|item| ... } -> [object]\n",
      "```\n",
      "\n",
      "`reject`\ub294 `select`\uc640 \ubc18\ub300 \uba54\uc11c\ub4dc\ub85c \uac01 \uc694\uc18c\ub97c \ud3c9\uac00\ud55c \uacb0\uacfc\uac00 \ucc38\uc778 \uacb0\uacfc\ub97c \uc81c\uc678\ud55c \uceec\ub809\uc158\uc744 \ub9ac\ud134\ud569\ub2c8\ub2e4."
     ]
    },
    {
     "cell_type": "code",
     "collapsed": false,
     "input": [
      "idol = %w{EXO \uc18c\ub140\uc2dc\ub300 2ne1 HOT \uc288\ud37c\uc8fc\ub2c8\uc5b4 SES}\n",
      "idol.reject{|item| item =~ /^[a-zA-Z]/ }"
     ],
     "language": "python",
     "outputs": [
      {
       "output_type": "pyout",
       "prompt_number": 138,
       "text": [
        "[\"\uc18c\ub140\uc2dc\ub300\", \"2ne1\", \"\uc288\ud37c\uc8fc\ub2c8\uc5b4\"]"
       ]
      }
     ],
     "prompt_number": 138
    },
    {
     "cell_type": "markdown",
     "source": [
      "### `Enumerable#find_index`\n",
      "\n",
      "```\n",
      "find_index(val) -> Integer | nil\n",
      "find_index {|obj| ... } -> Integer | nil\n",
      "find_index -> Enumerator\n",
      "```\n",
      "\n",
      "`find_index`\ub294 `find`\uc640 \ub9c8\ucc2c\uac00\uc9c0\ub85c \ud2b9\uc815\ud55c \uc870\uac74\uc744 \ub9cc\uc871\ud558\ub294 \uccab\ubc88\uc9f8 \uc694\uc18c\ub97c \ucc3e\ub418 \uceec\ub809\uc158\uc5d0\uc11c \ud574\ub2f9 \uc694\uc18c\uc758 \uc704\uce58\ub97c \ub9ac\ud134\ud569\ub2c8\ub2e4. `find_index`\ub294 \ub450 \uac00\uc9c0 \ubc29\ubc95\uc73c\ub85c \uc0ac\uc6a9\ud560 \uc218 \uc788\uc2b5\ub2c8\ub2e4. \uba3c\uc800 \uba54\uc11c\ub4dc\uc758 \uc778\uc790\ub85c val\uc744 \ub118\uaca8\uc9c0\uba74 val\uacfc \uc77c\uce58\ud558\ub294 \uc694\uc18c\ub97c \ucc3e\uc2b5\ub2c8\ub2e4. \ube14\ub7ed\uc744 \ub118\uaca8\uc8fc\uba74 \uac01 \uc694\uc18c\ub97c \ube14\ub7ed\uc73c\ub85c \ud3c9\uac00\ud574 \ucc98\uc74c \ucc38\uc774 \ub418\ub294 \uc694\uc18c\uc758 \uc704\uce58\ub97c \ub9ac\ud134\ud569\ub2c8\ub2e4."
     ]
    },
    {
     "cell_type": "code",
     "collapsed": false,
     "input": [
      "idol = %w{EXO \uc18c\ub140\uc2dc\ub300 2ne1 HOT \uc288\ud37c\uc8fc\ub2c8\uc5b4 SES}\n",
      "idol.find_index{|item| item =~ /^[a-zA-Z]/ }"
     ],
     "language": "python",
     "outputs": [
      {
       "output_type": "pyout",
       "prompt_number": 139,
       "text": [
        "0"
       ]
      }
     ],
     "prompt_number": 139
    },
    {
     "cell_type": "code",
     "collapsed": false,
     "input": [
      "idol.find_index(\"\uc18c\ub140\uc2dc\ub300\")"
     ],
     "language": "python",
     "outputs": [
      {
       "output_type": "pyout",
       "prompt_number": 140,
       "text": [
        "1"
       ]
      }
     ],
     "prompt_number": 140
    },
    {
     "cell_type": "markdown",
     "source": [
      "`find`\uc640 \ub9c8\ucc2c\uac00\uc9c0\ub85c \ub9ac\ud134\uac12\uc774 \uceec\ub809\uc158\uc774 \uc544\ub2c8\ubbc0\ub85c \uba54\uc11c\ub4dc \uccb4\uc778\uc744 \uc0ac\uc6a9\ud558\ub294 \ub370 \uc720\uc758\ud560 \ud544\uc694\uac00 \uc788\uc2b5\ub2c8\ub2e4"
     ]
    },
    {
     "cell_type": "markdown",
     "source": [
      "### `Enumerable#first`\n",
      "\n",
      "```\n",
      "first -> object | nil\n",
      "first(n) -> Array\n",
      "```\n",
      "\n",
      "`first`\ub294 \ub9ac\uc2dc\ubc84\uc5d0\uc11c \uccab\ubc88\uc9f8 \uc694\uc18c\ub97c \ub9ac\ud134\ud569\ub2c8\ub2e4. \uc778\uc790\ub85c n\uc744 \ub118\uaca8\uc8fc\uba74 \uc55e\uc5d0\uc11c\ubd80\ud130 n\uac1c\uc758 \uc694\uc18c\ub97c \ub9ac\ud134\ud569\ub2c8\ub2e4. \ub2e8, \ud558\ub098\uc758 \uc694\uc18c\ub3c4 \uc5c6\uc744 \ub54c n\uac12\uc774 \uc5c6\uc73c\uba74 `nil`\uc744 \ub9ac\ud134\ud558\uace0, n\uac12\uc774 \uc788\uc73c\uba74 \ube48 \ubc30\uc5f4\uc744 \ub9ac\ud134\ud569\ub2c8\ub2e4"
     ]
    },
    {
     "cell_type": "code",
     "collapsed": false,
     "input": [
      "idol = %w{EXO \uc18c\ub140\uc2dc\ub300 2ne1 HOT \uc288\ud37c\uc8fc\ub2c8\uc5b4 SES}\n",
      "idol.first"
     ],
     "language": "python",
     "outputs": [
      {
       "output_type": "pyout",
       "prompt_number": 141,
       "text": [
        "\"EXO\""
       ]
      }
     ],
     "prompt_number": 141
    },
    {
     "cell_type": "code",
     "collapsed": false,
     "input": [
      "idol.first(3)"
     ],
     "language": "python",
     "outputs": [
      {
       "output_type": "pyout",
       "prompt_number": 142,
       "text": [
        "[\"EXO\", \"\uc18c\ub140\uc2dc\ub300\", \"2ne1\"]"
       ]
      }
     ],
     "prompt_number": 142
    },
    {
     "cell_type": "code",
     "collapsed": false,
     "input": [
      "[].first"
     ],
     "language": "python",
     "outputs": [],
     "prompt_number": 143
    },
    {
     "cell_type": "code",
     "collapsed": false,
     "input": [
      "[].first(2)"
     ],
     "language": "python",
     "outputs": [
      {
       "output_type": "pyout",
       "prompt_number": 144,
       "text": [
        "[]"
       ]
      }
     ],
     "prompt_number": 144
    },
    {
     "cell_type": "markdown",
     "source": [
      "`first` \uba54\uc11c\ub4dc\ub294 \uacbd\uc6b0\uc5d0 \ub530\ub77c\uc11c \uceec\ub809\uc158\uc744 \ub9ac\ud134\ud558\uc9c0 \uc54a\uc744 \uc218\ub3c4 \uc788\uae30 \ub54c\ubb38\uc5d0 \uba54\uc11c\ub4dc \uccb4\uc778\uc73c\ub85c \uc0ac\uc6a9\ud560 \ub54c \uc720\uc758\ud560 \ud544\uc694\uac00 \uc788\uc2b5\ub2c8\ub2e4. \uba54\uc11c\ub4dc \uccb4\uc778\uc744 \ud560 \ub54c\ub294 \uc544\ub798\uc758 `take` \uba54\uc11c\ub4dc\ub97c \ub300\uc2e0 \uc0ac\uc6a9\ud558\uc2dc\uae30 \ubc14\ub78d\ub2c8\ub2e4"
     ]
    },
    {
     "cell_type": "markdown",
     "source": [
      "### `Enumerable#take`\n",
      "\n",
      "```\n",
      "take(n) -> Array\n",
      "```\n",
      "\n",
      "`take`\ub294 \uc55e\uc120 `first`\uc640 \ub9c8\ucc2c\uac00\uc9c0\ub85c \uc55e\uc5d0\uc11c\ubd80\ud130 n\uac1c\uc758 \uc694\uc18c\ub97c \ub9ac\ud134\ud569\ub2c8\ub2e4. \ub2e8, `first`\uc640 \ub2ec\ub9ac \ud56d\uc0c1 \ubc30\uc5f4\uc744 \ub9ac\ud134\ud569\ub2c8\ub2e4"
     ]
    },
    {
     "cell_type": "code",
     "collapsed": false,
     "input": [
      "idol = %w{EXO \uc18c\ub140\uc2dc\ub300 2ne1 HOT \uc288\ud37c\uc8fc\ub2c8\uc5b4 SES}\n",
      "idol.take(1)"
     ],
     "language": "python",
     "outputs": [
      {
       "output_type": "pyout",
       "prompt_number": 145,
       "text": [
        "[\"EXO\"]"
       ]
      }
     ],
     "prompt_number": 145
    },
    {
     "cell_type": "code",
     "collapsed": false,
     "input": [
      "idol = %w{EXO \uc18c\ub140\uc2dc\ub300 2ne1 HOT \uc288\ud37c\uc8fc\ub2c8\uc5b4 SES}\n",
      "idol.take(3)"
     ],
     "language": "python",
     "outputs": [
      {
       "output_type": "pyout",
       "prompt_number": 146,
       "text": [
        "[\"EXO\", \"\uc18c\ub140\uc2dc\ub300\", \"2ne1\"]"
       ]
      }
     ],
     "prompt_number": 146
    },
    {
     "cell_type": "markdown",
     "source": [
      "`take` \ud568\uc218\ub294 \ud56d\uc0c1 Array\ub97c \ub9ac\ud134\ud558\ubbc0\ub85c \uba54\uc11c\ub4dc \uccb4\uc778\uc5d0\uc11c \uc0ac\uc6a9\ud560 \uc218 \uc788\uc2b5\ub2c8\ub2e4. "
     ]
    },
    {
     "cell_type": "code",
     "collapsed": false,
     "input": [
      "[].first"
     ],
     "language": "python",
     "outputs": [],
     "prompt_number": 147
    },
    {
     "cell_type": "code",
     "collapsed": false,
     "input": [
      "[].take(1)"
     ],
     "language": "python",
     "outputs": [
      {
       "output_type": "pyout",
       "prompt_number": 148,
       "text": [
        "[]"
       ]
      }
     ],
     "prompt_number": 148
    },
    {
     "cell_type": "markdown",
     "source": [
      "### `Enumerable#drop`\n",
      "\n",
      "```\n",
      "drop(n) -> Array\n",
      "```\n",
      "\n",
      "`drop` \uba54\uc11c\ub4dc\ub294 \uc55e\uc5d0\uc11c\ubd80\ud130 n\uac1c\uc758 \uc694\uc18c\ub97c \uc81c\uc678\ud55c \ubc30\uc5f4\uc744 \ub9ac\ud134\ud569\ub2c8\ub2e4."
     ]
    },
    {
     "cell_type": "code",
     "collapsed": false,
     "input": [
      "idol = %w{EXO \uc18c\ub140\uc2dc\ub300 2ne1 HOT \uc288\ud37c\uc8fc\ub2c8\uc5b4 SES}\n",
      "idol.drop(3)"
     ],
     "language": "python",
     "outputs": [
      {
       "output_type": "pyout",
       "prompt_number": 149,
       "text": [
        "[\"HOT\", \"\uc288\ud37c\uc8fc\ub2c8\uc5b4\", \"SES\"]"
       ]
      }
     ],
     "prompt_number": 149
    },
    {
     "cell_type": "markdown",
     "source": [
      "### `Enumerable#take_while`\n",
      "\n",
      "```\n",
      "take_while -> Enumerator\n",
      "take_while {|element| ... } -> Array\n",
      "```\n",
      "\n",
      "`take_while` \uba54\uc11c\ub4dc\ub294 \ub9ac\uc2dc\ubc84 \uceec\ub809\uc158\uc744 \ubc18\ubcf5\ud558\uba74\uc11c \ud2b9\uc815 \uc694\uc18c\ub85c \ub118\uaca8\uc9c4 \ube14\ub7ed\uc744 \ud3c9\uac00\ud588\uc744 \ub54c \ucc98\uc74c \uac70\uc9d3\uc774 \ub418\ub294 \uc694\uc18c\uae4c\uc9c0\uc758 \ubaa8\ub4e0 \uc694\uc18c\ub97c \ub9ac\ud134\ud569\ub2c8\ub2e4"
     ]
    },
    {
     "cell_type": "code",
     "collapsed": false,
     "input": [
      "idol = %w{EXO \uc18c\ub140\uc2dc\ub300 2ne1 HOT \uc288\ud37c\uc8fc\ub2c8\uc5b4 SES}\n",
      "idol.take_while{|item| item.length < 5}"
     ],
     "language": "python",
     "outputs": [
      {
       "output_type": "pyout",
       "prompt_number": 150,
       "text": [
        "[\"EXO\", \"\uc18c\ub140\uc2dc\ub300\", \"2ne1\", \"HOT\"]"
       ]
      }
     ],
     "prompt_number": 150
    },
    {
     "cell_type": "markdown",
     "source": [
      "### `Enumerable#drop_while`\n",
      "\n",
      "```\n",
      "drop_while -> Enumerator\n",
      "drop_while {|element| ... } -> Array\n",
      "```\n",
      "\n",
      "`drop_while` \uba54\uc11c\ub4dc\ub294 \ub9ac\uc2dc\ubc84 \uceec\ub809\uc158\uc744 \ubc18\ubcf5\ud558\uba74\uc11c \ud2b9\uc815 \uc694\uc18c\ub85c \ub118\uaca8\uc9c4 \ube14\ub7ed\uc744 \ud3c9\uac00\ud588\uc744 \ub54c \ucc98\uc74c \uac70\uc9d3\uc774 \ub418\ub294 \uc694\uc18c\ubd80\ud130 \ubaa8\ub4e0 \uc694\uc18c\ub97c \ub9ac\ud134\ud569\ub2c8\ub2e4."
     ]
    },
    {
     "cell_type": "code",
     "collapsed": false,
     "input": [
      "idol = %w{EXO \uc18c\ub140\uc2dc\ub300 2ne1 HOT \uc288\ud37c\uc8fc\ub2c8\uc5b4 SES}\n",
      "idol.drop_while{|item| item.length < 5}"
     ],
     "language": "python",
     "outputs": [
      {
       "output_type": "pyout",
       "prompt_number": 151,
       "text": [
        "[\"\uc288\ud37c\uc8fc\ub2c8\uc5b4\", \"SES\"]"
       ]
      }
     ],
     "prompt_number": 151
    },
    {
     "cell_type": "markdown",
     "source": [
      "## \ube44\uad50 \uba54\uc11c\ub4dc"
     ]
    },
    {
     "cell_type": "markdown",
     "source": [
      "#### `Enumerable#sort`\n",
      "\n",
      "```\n",
      "sort -> [object]\n",
      "sort {|a, b| ... } -> [object]\n",
      "```\n",
      "\n",
      "`sort`\ub294 \ub9ac\uc2dc\ubc84 \uceec\ub809\uc158\uc744 \uc815\ub82c\ud574\uc11c \uc815\ub82c\ub41c \uceec\ub809\uc158\uc744 \ub9ac\ud134\ud569\ub2c8\ub2e4."
     ]
    },
    {
     "cell_type": "code",
     "collapsed": false,
     "input": [
      "[10, 8, 5, 3, 9, 3, 6, 1].sort"
     ],
     "language": "python",
     "outputs": [
      {
       "output_type": "pyout",
       "prompt_number": 153,
       "text": [
        "[1, 3, 3, 5, 6, 8, 9, 10]"
       ]
      }
     ],
     "prompt_number": 153
    },
    {
     "cell_type": "markdown",
     "source": [
      "`sort`\ub294 \uae30\ubcf8\uc801\uc73c\ub85c `<=>`\uc744 \uc0ac\uc6a9\ud574 \ub450 \uac1d\uccb4\uc758 \ube44\uad50\ub97c \uc218\ud589\ud569\ub2c8\ub2e4. \ub9cc\uc57d \uac1d\uccb4 \uc790\uccb4\uc758 \ube44\uad50\uac00 \uc544\ub2cc \ub2e4\ub978 \uae30\uc900\uc73c\ub85c \ube44\uad50\ud558\uace0\uc790 \ud560 \ub54c\ub294 sort\uc5d0 \ube44\uad50\ub97c \uc704\ud55c \ube14\ub7ed\uc744 \ub118\uaca8\uc904 \uc218 \uc788\uc2b5\ub2c8\ub2e4. \uc774\ub7ec\ud55c \ubc29\uc2dd\uc740 \uc544\ub798\uc640 \uac19\uc774 \uc0ac\uc6a9\ud569\ub2c8\ub2e4."
     ]
    },
    {
     "cell_type": "code",
     "collapsed": false,
     "input": [
      "idol = %w{EXO \uc18c\ub140\uc2dc\ub300 2ne1 HOT \uc288\ud37c\uc8fc\ub2c8\uc5b4 SES}\n",
      "idol.sort{|a, b| a.length <=> b.length}"
     ],
     "language": "python",
     "outputs": [
      {
       "output_type": "pyout",
       "prompt_number": 154,
       "text": [
        "[\"EXO\", \"SES\", \"HOT\", \"2ne1\", \"\uc18c\ub140\uc2dc\ub300\", \"\uc288\ud37c\uc8fc\ub2c8\uc5b4\"]"
       ]
      }
     ],
     "prompt_number": 154
    },
    {
     "cell_type": "markdown",
     "source": [
      "\ub367\ubd99\uc5ec \uc815\ub82c \uc21c\uc11c\ub97c \uac70\uafb8\ub85c\ud560 \ub54c\ub294 \uc815\ub82c \ud6c4 `reverse` \uba54\uc11c\ub4dc\ub97c \uc0ac\uc6a9\ud558\ub294 \ubc29\ubc95 \uc774\uc678\uc5d0 a, b\ub97c \uac70\uafb8\ub85c \uc0ac\uc6a9\ud558\ub294 \ubc29\ubc95\ub3c4 \uc788\uc2b5\ub2c8\ub2e4"
     ]
    },
    {
     "cell_type": "code",
     "collapsed": false,
     "input": [
      "idol = %w{EXO \uc18c\ub140\uc2dc\ub300 2ne1 HOT \uc288\ud37c\uc8fc\ub2c8\uc5b4 SES}\n",
      "idol.sort{|b, a| a.length <=> b.length}"
     ],
     "language": "python",
     "outputs": [
      {
       "output_type": "pyout",
       "prompt_number": 155,
       "text": [
        "[\"\uc288\ud37c\uc8fc\ub2c8\uc5b4\", \"\uc18c\ub140\uc2dc\ub300\", \"2ne1\", \"HOT\", \"EXO\", \"SES\"]"
       ]
      }
     ],
     "prompt_number": 155
    },
    {
     "cell_type": "markdown",
     "source": [
      "`sort` \uba54\uc11c\ub4dc\ub294 \ube14\ub7ed\uc774 `<=>` \ubc29\uc2dd\uc73c\ub85c \ube44\uad50\ub41c\ub2e4\uace0 \uac00\uc815\ud558\uae30 \ub54c\ubb38\uc5d0 \uc815\uc218 \uc774\uc678\uc758 \ud0c0\uc785\uc774 \ub9ac\ud134\ub418\uba74 `TypeError`\uc744 \ubc1c\uc0dd\uc2dc\ud0b5\ub2c8\ub2e4. \uc989, a\uc640 b\uac00 \ube14\ub7ed\uc778\uc790\ub85c \uc21c\uc11c\ub300\ub85c \ub118\uaca8\uc84c\uc744 \ub54c \ube14\ub7ed\uc744 \ud3c9\uac00\ud55c \uacb0\uacfc\uac00 0\ubcf4\ub2e4 \ucee4\uba74 a\uac00 \ud06c\ub2e4\uac00 \ud310\ub2e8\ud558\uace0, 0\ubcf4\ub2e4 \uc791\uc73c\uba74 b\ud56d\uc774 \ud06c\ub2e4\uace0 \ud310\ub2e8\ud569\ub2c8\ub2e4. \ub610\ud55c 0\uc774\uba74 a, b\uac00 \uac19\ub2e4\uace0 \ud310\ub2e8\ud569\ub2c8\ub2e4. \ub610\ud55c \ub808\ud37c\ub7f0\uc2a4 \ubb38\uc11c\uc5d0 \ub530\ub974\uba74 \ube44\uad50 \uacb0\uacfc\uac00 \uac19\uc740 \ud56d\ubaa9\uc774 \uc6d0\ub798\uc758 \uc21c\uc11c\uc640 \uac19\uc740 \uc548\uc815 \uc815\ub82c(stable sort)\uc774 \uc544\ub2d0 \uc218 \uc788\uc74c\uc5d0 \uc720\uc758\ud560 \ud544\uc694\uac00 \uc788\ub2e4\uace0 \ud569\ub2c8\ub2e4"
     ]
    },
    {
     "cell_type": "markdown",
     "source": [
      "### `Enumerable#sort_by`\n",
      "\n",
      "```\n",
      "sort_by -> Enumerator\n",
      "sort_by {|item| ... } -> [object]\n",
      "```\n",
      "\n",
      "`sort_by` \uc5ed\uc2dc `sort`\uc640 \ub9c8\ucc2c\uac00\uc9c0\ub85c \ub9ac\uc2dc\ubc84 \uceec\ub809\uc158\uc758 \uc694\uc18c\ub97c \uc815\ub82c\ud558\uae30 \uc704\ud574\uc11c \uc0ac\uc6a9\ud569\ub2c8\ub2e4. `sort_by`\uc640 `sort`\uc758 \ucc28\uc774\uc810\uc740 `sort_by`\ub294 \ud56d\uc0c1 \ube14\ub7ed\uc744 \ubc1b\uc73c\uba70 \ube14\ub7ed\uc744 \ud3c9\uac00\ud55c \uacb0\uacfc\ub97c \uac12\uc5d0 \ub300\ud574\uc11c \uc815\ub82c\uc744 \uc218\ud589\ud558\uba70, `sort`\ub294 \ube14\ub7ed\uc5d0\uc11c \uc9c1\uc811 \ube44\uad50\ud568\uc218\ub97c \uc815\uc758\ud55c\ub2e4\ub294 \uc810\uc785\ub2c8\ub2e4. \uc704\uc5d0\uc11c `length`\ub97c \uc0ac\uc6a9\ud55c `sort`\uc758 \uc608\uc81c\ub97c \ub2e4\uc2dc \uc0ac\uc6a9\ud574\uc11c \ub450 \uba54\uc11c\ub4dc\ub97c \ube44\uad50\ub97c \ud574\ubcf4\uba74 \uc544\ub798\uc640 \uac19\uc2b5\ub2c8\ub2e4."
     ]
    },
    {
     "cell_type": "code",
     "collapsed": false,
     "input": [
      "idol.sort{|a, b| a.length <=> b.length}"
     ],
     "language": "python",
     "outputs": [
      {
       "output_type": "pyout",
       "prompt_number": 156,
       "text": [
        "[\"EXO\", \"SES\", \"HOT\", \"2ne1\", \"\uc18c\ub140\uc2dc\ub300\", \"\uc288\ud37c\uc8fc\ub2c8\uc5b4\"]"
       ]
      }
     ],
     "prompt_number": 156
    },
    {
     "cell_type": "code",
     "collapsed": false,
     "input": [
      "idol.sort_by{|item| item.length}"
     ],
     "language": "python",
     "outputs": [
      {
       "output_type": "pyout",
       "prompt_number": 157,
       "text": [
        "[\"EXO\", \"SES\", \"HOT\", \"2ne1\", \"\uc18c\ub140\uc2dc\ub300\", \"\uc288\ud37c\uc8fc\ub2c8\uc5b4\"]"
       ]
      }
     ],
     "prompt_number": 157
    },
    {
     "cell_type": "markdown",
     "source": [
      "`sort`\uc758 \uacbd\uc6b0\uc5d0\ub294 \ube44\uad50\ud568\uc218\ub97c \uc9c1\uc811 \uc815\uc758\ud560 \uc218 \uc788\ub2e4\ub294 \uc7a5\uc810\uc774 \uc788\uc2b5\ub2c8\ub2e4. \ubc18\uba74\uc5d0 `sort_by`\uc758 \uacbd\uc6b0\uc5d0\ub294 \ube44\uad50\ud568\uc218\ub97c \uc9c1\uc811 \uc815\uc758\ud558\uc9c0 \uc54a\uae30 \ub54c\ubb38\uc5d0 \uc18d\ub3c4 \uba74\uc5d0\uc11c \uc720\ub9ac\ud569\ub2c8\ub2e4. \uc704\uc758 \uc608\uc81c\uc5d0\uc11c `length` \uba54\uc11c\ub4dc\uac00 \uac01 \uc694\uc18c\uc5d0 \ub300\ud574\uc11c \ud55c \ubc88\uc529\ub9cc \uc2e4\ud589\ub41c\ub2e4\ub294 \uac8c \ubcf4\uc7a5\ub429\ub2c8\ub2e4. \ub9cc\uc57d \uc774 \ube44\uad50\ub97c \uc704\ud574 \uc2e4\ud589\ub418\ub294 \ub85c\uc9c1\uc774 \ub9e4\uc6b0 \ubcf5\uc7a1\ud55c \uc5f0\uc0b0\uc774\ub77c\uba74 \uc18d\ub3c4 \ucc28\uc774\uac00 \ucee4\uc9c8 \uc218 \uc788\uc2b5\ub2c8\ub2e4."
     ]
    },
    {
     "cell_type": "markdown",
     "source": [
      "### `Enumerable#max` / `Enumerable#max_by`\n",
      "\n",
      "```\n",
      "max -> object | nil\n",
      "```\n",
      "\n",
      "`max`\ub294 \ub9ac\uc2dc\ubc84 \uceec\ub809\uc158\uc5d0\uc11c \uac00\uc7a5 \ud070 \uc694\uc18c(\ucd5c\ub300\uac12)\ub97c \ub9ac\ud134\ud569\ub2c8\ub2e4"
     ]
    },
    {
     "cell_type": "code",
     "collapsed": false,
     "input": [
      "(1..100).max"
     ],
     "language": "python",
     "outputs": [
      {
       "output_type": "pyout",
       "prompt_number": 158,
       "text": [
        "100"
       ]
      }
     ],
     "prompt_number": 158
    },
    {
     "cell_type": "markdown",
     "source": [
      "```\n",
      "max {|a, b| ... } -> object | n\n",
      "```\n",
      "\n",
      "`max`\uc5d0\ub3c4 \ube14\ub7ed\uc744 \ub118\uaca8 \uc0ac\uc6a9\ud560 \uc218 \uc788\uc2b5\ub2c8\ub2e4. \uc774 \ub54c \uc0ac\uc6a9\ud558\ub294 \ube14\ub7ed\uc740 `sort` \uba54\uc11c\ub4dc\uac00 \ubc1b\ub294 \ube14\ub7ed\uacfc \uac19\uc2b5\ub2c8\ub2e4"
     ]
    },
    {
     "cell_type": "code",
     "collapsed": false,
     "input": [
      "idol = %w{EXO \uc18c\ub140\uc2dc\ub300 2ne1 HOT \uc288\ud37c\uc8fc\ub2c8\uc5b4 SES}\n",
      "idol.max{|a, b| a.length <=> b.length}"
     ],
     "language": "python",
     "outputs": [
      {
       "output_type": "pyout",
       "prompt_number": 159,
       "text": [
        "\"\uc288\ud37c\uc8fc\ub2c8\uc5b4\""
       ]
      }
     ],
     "prompt_number": 159
    },
    {
     "cell_type": "markdown",
     "source": [
      "```\n",
      "max_by -> Enumerator\n",
      "max_by {|item| ... } -> object | nil\n",
      "```\n",
      "\n",
      "`max`\uc640 `max_by`\uc758 \ucc28\uc774\ub294 `sort`\uc640 `sort_by`\uc758 \ucc28\uc774\uc640 \uac19\uc2b5\ub2c8\ub2e4"
     ]
    },
    {
     "cell_type": "code",
     "collapsed": false,
     "input": [
      "idol.max_by{|item| item.length}"
     ],
     "language": "python",
     "outputs": [
      {
       "output_type": "pyout",
       "prompt_number": 160,
       "text": [
        "\"\uc288\ud37c\uc8fc\ub2c8\uc5b4\""
       ]
      }
     ],
     "prompt_number": 160
    },
    {
     "cell_type": "markdown",
     "source": [
      "### `Enumerable#min` / `Enumerable#min_by`\n",
      "\n",
      "```\n",
      "min -> object | nil\n",
      "min {|a, b| ... } -> object | nil\n",
      "min_by -> Enumerator\n",
      "min_by {|item| ... } -> object | nil\n",
      "```\n",
      "\n",
      "`min`, `min_by`\ub294 \ucd5c\uc18c\uac12\uc744 \ucc3e\uc2b5\ub2c8\ub2e4. \uc790\uc138\ud55c \uc124\uba85\uc740 `Enumerable#max`, `Enumerable#max_by` \ucc38\uc870\ud558\uc2dc\uae30 \ubc14\ub78d\ub2c8\ub2e4"
     ]
    },
    {
     "cell_type": "markdown",
     "source": [
      "### `Enumerable#minmax` / `Enumerable#minmax_by`\n",
      "\n",
      "```\n",
      "minmax -> [object, object]\n",
      "minmax {|a, b| ... } -> [object, object]\n",
      "minmax_by -> Enumerator\n",
      "minmax_by {|obj| ... } -> [object, object]\n",
      "```\n",
      "\n",
      "minmax \uba54\uc11c\ub4dc\ub294 \ucd5c\uc18c\uac12\uacfc \ucd5c\ub300\uac12\uc744 \ubc30\uc5f4\ub85c \ub9ac\ud134\ud569\ub2c8\ub2e4"
     ]
    },
    {
     "cell_type": "code",
     "collapsed": false,
     "input": [
      "(1..100).minmax"
     ],
     "language": "python",
     "outputs": [
      {
       "output_type": "pyout",
       "prompt_number": 161,
       "text": [
        "[1, 100]"
       ]
      }
     ],
     "prompt_number": 161
    },
    {
     "cell_type": "code",
     "collapsed": false,
     "input": [
      "idol = %w{EXO \uc18c\ub140\uc2dc\ub300 2ne1 HOT \uc288\ud37c\uc8fc\ub2c8\uc5b4 SES}\n",
      "idol.minmax{|a, b| a.length <=> b.length}"
     ],
     "language": "python",
     "outputs": [
      {
       "output_type": "pyout",
       "prompt_number": 162,
       "text": [
        "[\"EXO\", \"\uc288\ud37c\uc8fc\ub2c8\uc5b4\"]"
       ]
      }
     ],
     "prompt_number": 162
    },
    {
     "cell_type": "code",
     "collapsed": false,
     "input": [
      "idol = %w{EXO \uc18c\ub140\uc2dc\ub300 2ne1 HOT \uc288\ud37c\uc8fc\ub2c8\uc5b4 SES}\n",
      "idol.minmax_by{|item| item.length}"
     ],
     "language": "python",
     "outputs": [
      {
       "output_type": "pyout",
       "prompt_number": 163,
       "text": [
        "[\"EXO\", \"\uc288\ud37c\uc8fc\ub2c8\uc5b4\"]"
       ]
      }
     ],
     "prompt_number": 163
    },
    {
     "cell_type": "markdown",
     "source": [
      "\ub610\ud55c `minmax`\uc640 `minmax_by`\uc758 \ucc28\uc774\ub294 `sort`\uc640 `sort_by`\uc758 \ucc28\uc774\uc640 \uac19\uc2b5\ub2c8\ub2e4"
     ]
    },
    {
     "cell_type": "markdown",
     "source": [
      "## \uadf8\ub8f9 / \uc870\ud569 \ud568\uc218\ub4e4"
     ]
    },
    {
     "cell_type": "markdown",
     "source": [
      "### `Enumerable#slice_before`\n",
      "\n",
      "```\n",
      "slice_before(pattern) -> Enumerator\n",
      "slice_before {|elt| bool } -> Enumerator\n",
      "slice_before(initial_state) {|elt, state| bool } -> Enumerator\n",
      "```\n",
      "\n",
      "`slice_before` \uba54\uc11c\ub4dc\ub294 \ud328\ud134\uc774\ub098 \ube14\ub7ed\uc758 \ud3c9\uac00 \uacb0\uacfc\ub85c \uc694\uc18c\ub4e4\uc744 \ub098\ub220\uc90d\ub2c8\ub2e4. \uc608\ub97c \ub4e4\uc5b4 \ub118\uaca8\ubc1b\uc740 \ube14\ub7ed\uc758 \ud3c9\uac00\uacb0\uacfc\uac00 \ucc38\uc774 \ub418\ub294 \uc9c0\uc810\uc5d0\uc11c \uceec\ub809\uc158\uc744 \ub098\ub215\ub2c8\ub2e4."
     ]
    },
    {
     "cell_type": "code",
     "collapsed": false,
     "input": [
      "[1, 3, 4, 5, 7, 9, 11].slice_before{|item| item.even?}.to_a"
     ],
     "language": "python",
     "outputs": [
      {
       "output_type": "pyout",
       "prompt_number": 164,
       "text": [
        "[[1, 3], [4, 5, 7, 9, 11]]"
       ]
      }
     ],
     "prompt_number": 164
    },
    {
     "cell_type": "markdown",
     "source": [
      "\uc704\uc758 \uacb0\uacfc\uc5d0\uc11c \uc54c \uc218 \uc788\ub4ef\uc774 \ud3c9\uac00\uacb0\uacfc\uac00 \ucc38\uc774\ub418\ub294(\uc989 \uc9dd\uc218\uc778) \uc9c0\uc810\uc5d0\uc11c \ubc30\uc5f4\uc774 \ub098\ub220\uc9d1\ub2c8\ub2e4. \ub9cc\uc57d \uc9dd\uc218\uac00 2\uac1c\uba74 \ubc30\uc5f4\uc740 3\uac1c\ub85c \ub098\ub220\uc9d1\ub2c8\ub2e4."
     ]
    },
    {
     "cell_type": "code",
     "collapsed": false,
     "input": [
      "[1, 3, 4, 5, 7, 8, 11].slice_before{|item| item.even?}.to_a"
     ],
     "language": "python",
     "outputs": [
      {
       "output_type": "pyout",
       "prompt_number": 165,
       "text": [
        "[[1, 3], [4, 5, 7], [8, 11]]"
       ]
      }
     ],
     "prompt_number": 165
    },
    {
     "cell_type": "markdown",
     "source": [
      "\ube14\ub7ed \ub300\uc2e0 \uc778\uc790\uc5d0 \uceec\ub809\uc158\uc744 \uc790\ub974\ub294 \uae30\uc900\uc774 \ub418\ub294 \ud328\ud134\uc744 \ub118\uaca8\uc904 \uc218\ub3c4 \uc788\uc2b5\ub2c8\ub2e4."
     ]
    },
    {
     "cell_type": "code",
     "collapsed": false,
     "input": [
      "idol = %w{EXO \uc18c\ub140\uc2dc\ub300 2ne1 HOT \uc288\ud37c\uc8fc\ub2c8\uc5b4 SES}\n",
      "idol.slice_before(/^\\p{hangul}/).to_a"
     ],
     "language": "python",
     "outputs": [
      {
       "output_type": "pyout",
       "prompt_number": 166,
       "text": [
        "[[\"EXO\"], [\"\uc18c\ub140\uc2dc\ub300\", \"2ne1\", \"HOT\"], [\"\uc288\ud37c\uc8fc\ub2c8\uc5b4\", \"SES\"]]"
       ]
      }
     ],
     "prompt_number": 166
    },
    {
     "cell_type": "markdown",
     "source": [
      "### `Enumerable#partition`\n",
      "\n",
      "```\n",
      "partition -> Enumerator\n",
      "partition {|item| ... } -> [[object], [object]]\n",
      "```\n",
      "\n",
      "`partition` \ud568\uc218\ub294 \ud2b9\uc815 \uc870\uac74\uc73c\ub85c \ub9ac\uc2dc\ubc84 \uceec\ub809\uc158\uc744 \ubd84\ud560\ud569\ub2c8\ub2e4. \uc880 \ub354 \uc815\ud655\ud788\ub294 \uac01 \uc694\uc18c\ub97c \ube14\ub7ed\uc5d0 \ub118\uaca8 \ud3c9\uac00 \ud55c \ud6c4 \ucc38\uc744 \ub9ac\ud134\ud558\ub294 \uc694\uc18c\ub4e4\uacfc \uac70\uc9d3\uc744 \ub9ac\ud134\ud558\ub294 \uc694\uc18c\ub4e4\ub85c \ub098\ub215\ub2c8\ub2e4. \uc544\ub798\ub294 1\ubd80\ud130 15\uae4c\uc9c0\uc758 \uc22b\uc790\ub97c \uc18c\uc218\uc640 \uc218\uc18c\uac00 \uc544\ub2cc \uc218\ub85c \ub098\ub204\ub294 \uc608\uc81c\uc785\ub2c8\ub2e4"
     ]
    },
    {
     "cell_type": "code",
     "collapsed": false,
     "input": [
      "require 'prime'\n",
      "(1..15).partition{|item| Prime.prime? item }"
     ],
     "language": "python",
     "outputs": [
      {
       "output_type": "pyout",
       "prompt_number": 167,
       "text": [
        "[[2, 3, 5, 7, 11, 13], [1, 4, 6, 8, 9, 10, 12, 14, 15]]"
       ]
      }
     ],
     "prompt_number": 167
    },
    {
     "cell_type": "markdown",
     "source": [
      "### `Enumerable#chunk`\n",
      "\n",
      "```\n",
      "chunk {|elt| ... } -> Enumerator\n",
      "chunk(initial_state) {|elt, state| ... } -> Enumerator\n",
      "```\n",
      "\n",
      "chunk\ub294 \ube14\ub7ed\uc744 \ud3c9\uac00\ud55c \uacb0\uacfc\uac00 \uac19\uc740 \uac83\ub07c\ub9ac \ubaa8\uc544\uc90d\ub2c8\ub2e4. \uc880 \ub354 \uc815\ud655\ud788\ub294 \ub9ac\uc2dc\ubc84 \uceec\ub809\uc158\uc758 \uc694\uc18c\ub97c \ud558\ub098\ud558\ub098 \ube14\ub7ed\uc73c\ub85c \ud3c9\uac00\ud574\ub098\uac00\uba74\uc11c \ud3c9\uac00 \uacb0\uacfc\uac00 \uac19\uc740 \uac83\ub4e4\uc744 \ud558\ub098\ub85c \ubb49\uce58\uace0 \ud3c9\uac00 \uacb0\uacfc\uac00 \ub2ec\ub77c\uba74 \uc0c8\ub85c\uc6b4 \ub369\uc5b4\ub9ac\ub85c \ub9cc\ub4ed\ub2c8\ub2e4. \uc989 \ub369\uc5b4\ub9ac\ub97c \ub9cc\ub2e4\ub294 \ubc29\uc2dd\uc774 `group_by`\uc640\ub294 \ucc28\uc774\uac00 \ub0a9\ub2c8\ub2e4."
     ]
    },
    {
     "cell_type": "code",
     "collapsed": false,
     "input": [
      "%w{\ub8e8\ube44 GO elixir  \uc904\ub9ac\uc544 php \ud30c\uc774\uc36c \ud384 C D C++}.chunk{|item| item.length}.to_a"
     ],
     "language": "python",
     "outputs": [
      {
       "output_type": "pyout",
       "prompt_number": 168,
       "text": [
        "[[2, [\"\ub8e8\ube44\", \"GO\"]], [6, [\"elixir\"]], [3, [\"\uc904\ub9ac\uc544\", \"php\", \"\ud30c\uc774\uc36c\"]], [1, [\"\ud384\", \"C\", \"D\"]], [3, [\"C++\"]]]"
       ]
      }
     ],
     "prompt_number": 168
    },
    {
     "cell_type": "markdown",
     "source": [
      "### `Enumerable#group_by`\n",
      "\n",
      "```\n",
      "group_by -> Enumerator\n",
      "group_by {|obj| ... } -> Hash\n",
      "```\n",
      "\n",
      "`group_by`\ub294 \ube14\ub7ed\uc744 \ud3c9\uac00\ud55c \uacb0\uacfc\uac00 \uac19\uc740 \uac12\ub4e4\uc744 \ud574\uc2dc\ub85c \ubb36\uc5b4\uc11c \ub9ac\ud134\ud569\ub2c8\ub2e4"
     ]
    },
    {
     "cell_type": "code",
     "collapsed": false,
     "input": [
      "(1..10).group_by {|i| i % 3 }"
     ],
     "language": "python",
     "outputs": [
      {
       "output_type": "pyout",
       "prompt_number": 169,
       "text": [
        "{1=>[1, 4, 7, 10], 2=>[2, 5, 8], 0=>[3, 6, 9]}"
       ]
      }
     ],
     "prompt_number": 169
    },
    {
     "cell_type": "markdown",
     "source": [
      "`group_by`\ub294 \ub9e4\uc6b0 \uc720\uc6a9\ud55c \ud568\uc218\uc785\ub2c8\ub2e4. \ub2e8, \ub9ac\ud134\uac12\uc774 \ud574\uc2dc\uc774\uae30 \ub54c\ubb38\uc5d0 \uba54\uc11c\ub4dc \uccb4\uc778\uc744 \uc0ac\uc6a9\ud560 \ub54c `each`\ub098 `map`\uc5d0\uc11c \ud574\uc2dc\ub97c \ucc98\ub9ac\ud558\ub294 \ubc29\ubc95\uc744 \ubbf8\ub9ac \uc54c\uc544\ub458 \ud544\uc694\uac00 \uc788\uc2b5\ub2c8\ub2e4. \ube14\ub7ed\uc5d0 \ube14\ub7ed \uc778\uc790\ub97c \ud558\ub098 \ub118\uae30\uba74 Hash\uc758 \uac01 \uac12\uc740 `[key, value]` \ud615\uc2dd\uc758 \ubc30\uc5f4\ub85c \ucde8\uae09\ub429\ub2c8\ub2e4."
     ]
    },
    {
     "cell_type": "code",
     "collapsed": false,
     "input": [
      "(1..10).group_by{|i| i % 3 }.each{|item| puts \"\ub098\uba38\uc9c0 \" + item[0].to_s + \" : \" + item[1].join(\", \")}"
     ],
     "language": "python",
     "outputs": [
      {
       "output_type": "stream",
       "stream": "stdout",
       "text": [
        "\ub098\uba38\uc9c0 1 : 1, 4, 7, 10\n"
       ]
      },
      {
       "output_type": "stream",
       "stream": "stdout",
       "text": [
        "\ub098\uba38\uc9c0 2 : 2, 5, 8\n"
       ]
      },
      {
       "output_type": "stream",
       "stream": "stdout",
       "text": [
        "\ub098\uba38\uc9c0 0 : 3, 6, 9\n"
       ]
      },
      {
       "output_type": "pyout",
       "prompt_number": 170,
       "text": [
        "{1=>[1, 4, 7, 10], 2=>[2, 5, 8], 0=>[3, 6, 9]}"
       ]
      }
     ],
     "prompt_number": 170
    },
    {
     "cell_type": "markdown",
     "source": [
      "\ube14\ub7ed\uc778\uc790\ub97c \ub450 \uac1c \ub118\uaca8\uc8fc\uba74 \uc880 \ub354 \uc758\ubbf8\ub97c \uc804\ub2ec\ud558\uae30 \uc26c\uc6cc\uc9d1\ub2c8\ub2e4. \uc774 \ub54c \uccab\ubc88\uc9f8 \uc778\uc790\ub294 key\uac00 \ub418\uace0 \ub450\ubc88\uc9f8 \uc778\uc790\ub294 value\uac00 \ub429\ub2c8\ub2e4"
     ]
    },
    {
     "cell_type": "code",
     "collapsed": false,
     "input": [
      "(1..10).group_by{|i| i % 3 }.each{|k, v| puts \"\ub098\uba38\uc9c0 \" + k.to_s + \" : \" + v.join(\", \")}"
     ],
     "language": "python",
     "outputs": [
      {
       "output_type": "stream",
       "stream": "stdout",
       "text": [
        "\ub098\uba38\uc9c0 1 : 1, 4, 7, 10\n"
       ]
      },
      {
       "output_type": "stream",
       "stream": "stdout",
       "text": [
        "\ub098\uba38\uc9c0 2 : 2, 5, 8\n"
       ]
      },
      {
       "output_type": "stream",
       "stream": "stdout",
       "text": [
        "\ub098\uba38\uc9c0 0 : 3, 6, 9\n"
       ]
      },
      {
       "output_type": "pyout",
       "prompt_number": 171,
       "text": [
        "{1=>[1, 4, 7, 10], 2=>[2, 5, 8], 0=>[3, 6, 9]}"
       ]
      }
     ],
     "prompt_number": 171
    },
    {
     "cell_type": "markdown",
     "source": [
      "`group_by` \uba54\uc11c\ub4dc\ub97c \uc0ac\uc6a9\ud574\uc11c \uc5bb\uc740 \uacb0\uacfc\ub294 key\uc640 value\uc5d0 \ubaa8\ub450 \uc720\uc758\ubbf8\ud55c \uc815\ubcf4\uac00 \ud3ec\ud568\ub418\uc5b4\uc788\uc73c\ubbc0\ub85c, \uc774\ub7ec\ud55c \uc811\uadfc\ubc95\uc744 \ud65c\uc6a9\ud558\uba74 \uc720\uc6a9\ud569\ub2c8\ub2e4. \ub9cc\uc57d \uc5b4\ub290 \ud558\ub098\uc758 \uac12\uc744 \uc0ac\uc6a9\ud558\uc9c0 \uc54a\ub294\ub2e4\uba74 `_`\uc640 \uac19\uc740 \ud45c\ud604\uc744 \ud1b5\ud574 \ube14\ub7ed \ub0b4\uc5d0\uc11c \ud574\ub2f9\ud558\ub294 \uac12\uc744 \uc0ac\uc6a9\ud558\uc9c0 \uc54a\uc74c\uc744 \uc804\ub2ec\ud560 \uc218 \uc788\uc2b5\ub2c8\ub2e4"
     ]
    },
    {
     "cell_type": "code",
     "collapsed": false,
     "input": [
      "(1..10).group_by{|i| i % 3 }.each{|k, _| puts \"\uadf8\ub8f9 \" + k.to_s}"
     ],
     "language": "python",
     "outputs": [
      {
       "output_type": "stream",
       "stream": "stdout",
       "text": [
        "\uadf8\ub8f9 1\n"
       ]
      },
      {
       "output_type": "stream",
       "stream": "stdout",
       "text": [
        "\uadf8\ub8f9 2\n"
       ]
      },
      {
       "output_type": "stream",
       "stream": "stdout",
       "text": [
        "\uadf8\ub8f9 0\n"
       ]
      },
      {
       "output_type": "pyout",
       "prompt_number": 172,
       "text": [
        "{1=>[1, 4, 7, 10], 2=>[2, 5, 8], 0=>[3, 6, 9]}"
       ]
      }
     ],
     "prompt_number": 172
    },
    {
     "cell_type": "markdown",
     "source": [
      "\ub610\ud55c \uc55e\uc5d0\uc11c \uc124\uba85\ud588\ub4ef\uc774 Hash\uc5d0 `map`\uc744 \uc801\uc6a9\ud560 \ub54c\ub3c4 \ube14\ub7ed\uc778\uc790\ub97c \ud558\ub098 \ub118\uae30\uba74 `[key, value]` \ud615\uc2dd\uc73c\ub85c \uc694\uc18c\uac00 \uc804\ub2ec\ub429\ub2c8\ub2e4. \ub530\ub77c\uc11c \uc544\ub798 \ub450 \uc608\uc81c\ub294 \uac19\uc2b5\ub2c8\ub2e4."
     ]
    },
    {
     "cell_type": "code",
     "collapsed": false,
     "input": [
      "(1..10).group_by{|i| i % 3 }.map{|item| item}"
     ],
     "language": "python",
     "outputs": [
      {
       "output_type": "pyout",
       "prompt_number": 173,
       "text": [
        "[[1, [1, 4, 7, 10]], [2, [2, 5, 8]], [0, [3, 6, 9]]]"
       ]
      }
     ],
     "prompt_number": 173
    },
    {
     "cell_type": "code",
     "collapsed": false,
     "input": [
      "(1..10).group_by{|i| i % 3 }.map{|k, v| [k, v]}"
     ],
     "language": "python",
     "outputs": [
      {
       "output_type": "pyout",
       "prompt_number": 174,
       "text": [
        "[[1, [1, 4, 7, 10]], [2, [2, 5, 8]], [0, [3, 6, 9]]]"
       ]
      }
     ],
     "prompt_number": 174
    },
    {
     "cell_type": "markdown",
     "source": [
      "### `Enumerable#zip`\n",
      "\n",
      "```\n",
      "zip(*lists) -> [[object]]\n",
      "zip(*lists) {|v1, v2, ...| ...} -> nil\n",
      "```\n",
      "\n",
      "`zip` \uba54\uc11c\ub4dc\ub294 \uc5ec\ub7ec \uceec\ub809\uc158\uc744 \uad50\ucc28\ud574\uc11c \uc870\ud569\ud574\uc90d\ub2c8\ub2e4. \uc608\ub97c \ub4e4\uc5b4 \ub450 \ubc30\uc5f4\uc774 \uc788\uc73c\uba74 \uac19\uc740 \uc704\uce58\uc758 \uc694\uc18c\ub4e4\uc744 \uc870\ud569\ud574\uc90d\ub2c8\ub2e4."
     ]
    },
    {
     "cell_type": "code",
     "collapsed": false,
     "input": [
      "[1, 2, 3].zip([4, 5, 6])"
     ],
     "language": "python",
     "outputs": [
      {
       "output_type": "pyout",
       "prompt_number": 175,
       "text": [
        "[[1, 4], [2, 5], [3, 6]]"
       ]
      }
     ],
     "prompt_number": 175
    },
    {
     "cell_type": "markdown",
     "source": [
      "\ud55c \uac1c \uc774\uc0c1\uc758 \uceec\ub809\uc158\ub4e4\uc744 \uc778\uc790\ub85c \ub118\uaca8\uc11c \uc870\ud569\ud560 \uc218\ub3c4 \uc788\uc2b5\ub2c8\ub2e4."
     ]
    },
    {
     "cell_type": "code",
     "collapsed": false,
     "input": [
      "[1, 2, 3].zip([4, 5, 6], [100, 101, 102])"
     ],
     "language": "python",
     "outputs": [
      {
       "output_type": "pyout",
       "prompt_number": 176,
       "text": [
        "[[1, 4, 100], [2, 5, 101], [3, 6, 102]]"
       ]
      }
     ],
     "prompt_number": 176
    },
    {
     "cell_type": "markdown",
     "source": [
      "\ub610\ud55c \uc870\ud569\ub418\ub294 \uac2f\uc218\ub294 \ub9ac\uc2dc\ubc84 \uceec\ub809\uc158\uc744 \uae30\uc900\uc73c\ub85c \uc815\ud574\uc9d1\ub2c8\ub2e4."
     ]
    },
    {
     "cell_type": "code",
     "collapsed": false,
     "input": [
      "[1, 2, 3, 1000].zip([4, 5, 6], [100, 101, 102])"
     ],
     "language": "python",
     "outputs": [
      {
       "output_type": "pyout",
       "prompt_number": 177,
       "text": [
        "[[1, 4, 100], [2, 5, 101], [3, 6, 102], [1000, nil, nil]]"
       ]
      }
     ],
     "prompt_number": 177
    },
    {
     "cell_type": "markdown",
     "source": [
      "\ub9cc\uc57d \uc778\uc790\ub85c \ub118\uc5b4\uac04 \uceec\ub809\uc158\uc758 \uae38\uc774\uac00 \ub9ac\uc2dc\ubc84 \uceec\ub809\uc158\ubcf4\ub2e4 \uae38 \uacbd\uc6b0\uc5d0 \ub098\uba38\uc9c0 \ubd80\ubd84\uc740 \ubc84\ub824\uc9d1\ub2c8\ub2e4."
     ]
    },
    {
     "cell_type": "code",
     "collapsed": false,
     "input": [
      "[1, 2, 3].zip([4, 5, 6], [100, 101, 102, 1000])"
     ],
     "language": "python",
     "outputs": [
      {
       "output_type": "pyout",
       "prompt_number": 178,
       "text": [
        "[[1, 4, 100], [2, 5, 101], [3, 6, 102]]"
       ]
      }
     ],
     "prompt_number": 178
    },
    {
     "cell_type": "markdown",
     "source": [
      "## \ucc38\uac70\uc9d3 \ud310\ub2e8 \uba54\uc11c\ub4dc"
     ]
    },
    {
     "cell_type": "markdown",
     "source": [
      "### `Enumerable#all?`\n",
      "\n",
      "```\n",
      "all? -> bool\n",
      "all? {|item| ... } -> bool\n",
      "```\n",
      "\n",
      "`all?` \uba54\uc11c\ub4dc\ub294 \ub9ac\uc2dc\ubc84 \uceec\ub809\uc158\uc758 \ubaa8\ub4e0 \uc694\uc18c\uac00 \ube14\ub7ed\uc744 \ud3c9\uac00\ud588\uc744 \ub54c \ucc38\uc744 \ub9ac\ud134\ud558\ub294\uc9c0 \uacb0\uacfc\ub97c \ub9ac\ud134\ud569\ub2c8\ub2e4."
     ]
    },
    {
     "cell_type": "code",
     "collapsed": false,
     "input": [
      "idol = %w{EXO \uc18c\ub140\uc2dc\ub300 2ne1 HOT \uc288\ud37c\uc8fc\ub2c8\uc5b4 SES}\n",
      "idol.all?{|item| item.class == String}"
     ],
     "language": "python",
     "outputs": [
      {
       "output_type": "pyout",
       "prompt_number": 179,
       "text": [
        "true"
       ]
      }
     ],
     "prompt_number": 179
    },
    {
     "cell_type": "code",
     "collapsed": false,
     "input": [
      "idol.all?{|item| item.length > 3}"
     ],
     "language": "python",
     "outputs": [
      {
       "output_type": "pyout",
       "prompt_number": 180,
       "text": [
        "false"
       ]
      }
     ],
     "prompt_number": 180
    },
    {
     "cell_type": "markdown",
     "source": [
      "### `Enumerable#any?`\n",
      "\n",
      "```\n",
      "any? -> bool\n",
      "any? {|item| ... } -> bool\n",
      "```\n",
      "\n",
      "`any?` \uba54\uc11c\ub4dc\ub294 \ub9ac\uc2dc\ubc84 \uceec\ub809\uc158\uc758 \uc694\uc18c \uc911 \ud558\ub098\ub77c\ub3c4 \ube14\ub7ed\uc744 \ud3c9\uac00\ud588\uc744 \ub54c \ucc38\uc744 \ub9ac\ud134\ud558\ub294\uc9c0 \uacb0\uacfc\ub97c \ub9ac\ud134\ud569\ub2c8\ub2e4."
     ]
    },
    {
     "cell_type": "code",
     "collapsed": false,
     "input": [
      "idol = %w{EXO \uc18c\ub140\uc2dc\ub300 2ne1 HOT \uc288\ud37c\uc8fc\ub2c8\uc5b4 SES}\n",
      "idol.any?{|item| item.length >= 5}"
     ],
     "language": "python",
     "outputs": [
      {
       "output_type": "pyout",
       "prompt_number": 181,
       "text": [
        "true"
       ]
      }
     ],
     "prompt_number": 181
    },
    {
     "cell_type": "code",
     "collapsed": false,
     "input": [
      "idol.any?{|item| item =~ /^\\p{hangul}/}"
     ],
     "language": "python",
     "outputs": [
      {
       "output_type": "pyout",
       "prompt_number": 182,
       "text": [
        "true"
       ]
      }
     ],
     "prompt_number": 182
    },
    {
     "cell_type": "markdown",
     "source": [
      "### `Enumerable#include?` / `Enumerable#member?`\n",
      "\n",
      "```\n",
      "member?(val) -> bool\n",
      "include?(val) -> bool\n",
      "```\n",
      "\n",
      "`include?`(`member?`) \uba54\uc11c\ub4dc\ub294 \uc778\uc790\ub85c \ub118\uae34 \uac1d\uccb4\uac00 \ub9ac\uc2dc\ubc84 \uac1d\uccb4\uc5d0 \uc788\ub294\uc9c0 \ud655\uc778\ud569\ub2c8\ub2e4."
     ]
    },
    {
     "cell_type": "code",
     "collapsed": false,
     "input": [
      "(1..100).include? 50"
     ],
     "language": "python",
     "outputs": [
      {
       "output_type": "pyout",
       "prompt_number": 183,
       "text": [
        "true"
       ]
      }
     ],
     "prompt_number": 183
    },
    {
     "cell_type": "code",
     "collapsed": false,
     "input": [
      "(1..100).include? 101"
     ],
     "language": "python",
     "outputs": [
      {
       "output_type": "pyout",
       "prompt_number": 184,
       "text": [
        "false"
       ]
      }
     ],
     "prompt_number": 184
    },
    {
     "cell_type": "markdown",
     "source": [
      "### `Enumerable#none?`\n",
      "\n",
      "```\n",
      "none? -> bool\n",
      "none? {|obj| ... } -> bool\n",
      "```\n",
      "\n",
      "`none?` \uba54\uc11c\ub4dc\ub294 \ubaa8\ub4e0 \uc694\uc18c\uc5d0 \ub300\ud574\uc11c \ube14\ub7ed\uc744 \ud3c9\uac00\ud588\uc744 \ub54c \ucc38\uc774 \ud558\ub098\ub3c4 \uc5c6\uc73c\uba74 \ucc38\uc774 \ub429\ub2c8\ub2e4."
     ]
    },
    {
     "cell_type": "code",
     "collapsed": false,
     "input": [
      "idol = %w{EXO \uc18c\ub140\uc2dc\ub300 2ne1 HOT \uc288\ud37c\uc8fc\ub2c8\uc5b4 SES}\n",
      "idol.none?{|item| item.length >= 10}"
     ],
     "language": "python",
     "outputs": [
      {
       "output_type": "pyout",
       "prompt_number": 185,
       "text": [
        "true"
       ]
      }
     ],
     "prompt_number": 185
    },
    {
     "cell_type": "markdown",
     "source": [
      "\ube14\ub7ed\uc774 \ub118\uaca8\uc9c0\uc9c0 \uc54a\uc558\uc744 \ub54c `none?`\ub294 \ub9ac\uc2dc\ubc84 \uceec\ub809\uc158\uc758 \ubaa8\ub4e0 \uc694\uc18c\uc758 \ud3c9\uac00\uac12\uc774 \uac70\uc9d3\uc778\uc9c0 \ud655\uc778\ud569\ub2c8\ub2e4(\ub8e8\ube44\uc5d0\uc11c\ub294 nil\uacfc false \uc774\uc678\uc758 \ubaa8\ub4e0 \uac12\uc740 \ucc38\uc785\ub2c8\ub2e4)."
     ]
    },
    {
     "cell_type": "code",
     "collapsed": false,
     "input": [
      "[].none?"
     ],
     "language": "python",
     "outputs": [
      {
       "output_type": "pyout",
       "prompt_number": 186,
       "text": [
        "true"
       ]
      }
     ],
     "prompt_number": 186
    },
    {
     "cell_type": "code",
     "collapsed": false,
     "input": [
      "[nil, false].none?"
     ],
     "language": "python",
     "outputs": [
      {
       "output_type": "pyout",
       "prompt_number": 187,
       "text": [
        "true"
       ]
      }
     ],
     "prompt_number": 187
    },
    {
     "cell_type": "markdown",
     "source": [
      "### `Enumerable#one?`\n",
      "\n",
      "```\n",
      "one? -> bool\n",
      "one? {|obj| ... } -> bool\n",
      "```\n",
      "\n",
      "`one?`\ub294 \ub9ac\uc2dc\ubc84 \uceec\ub809\uc158\uc758 \ud3c9\uac00 \uacb0\uacfc\uac00 \ub2e8 \ud558\ub098\ub9cc \ucc38\uc778\uc9c0 \ud655\uc778\ud569\ub2c8\ub2e4. \ube14\ub7ed\uc774 \ub118\uaca8\uc9c0\uba74 \ube14\ub7ed\uc744 \ud3c9\uac00\ud55c \uacb0\uacfc\ub85c \ud310\ub2e8\ud569\ub2c8\ub2e4."
     ]
    },
    {
     "cell_type": "code",
     "collapsed": false,
     "input": [
      "[nil, false, \"Hello\"].one?"
     ],
     "language": "python",
     "outputs": [
      {
       "output_type": "pyout",
       "prompt_number": 188,
       "text": [
        "true"
       ]
      }
     ],
     "prompt_number": 188
    },
    {
     "cell_type": "code",
     "collapsed": false,
     "input": [
      "[\"Hello\", \"World\"].one?"
     ],
     "language": "python",
     "outputs": [
      {
       "output_type": "pyout",
       "prompt_number": 189,
       "text": [
        "false"
       ]
      }
     ],
     "prompt_number": 189
    }
   ]
  }
 ]
}
