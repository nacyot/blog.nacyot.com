{
 "metadata": {
  "name": ""
 },
 "nbformat": 3,
 "nbformat_minor": 0,
 "worksheets": [
  {
   "cells": [
    {
     "cell_type": "markdown",
     "source": [
      "\ub8e8\ube44\uc5d0\uc11c\ub294 C\ub098 php\uacfc \uac19\uc740 \uc2a4\ud0c0\uc77c\uc758 \ubc18\ubcf5\ubb38\uc744 \uc77c\ubd80 \uc9c0\uc6d0\ud558\uc9c0\ub9cc \ubcc4\ub85c \uc0ac\uc6a9\ud558\uc9c0 \uc54a\uc2b5\ub2c8\ub2e4"
     ]
    },
    {
     "cell_type": "code",
     "collapsed": false,
     "input": [
      "i = 0\n",
      "while i < 5 do\n",
      "  puts i\n",
      "  i += 1\n",
      "end"
     ],
     "language": "python",
     "outputs": [
      {
       "output_type": "stream",
       "stream": "stdout",
       "text": [
        "0\n"
       ]
      },
      {
       "output_type": "stream",
       "stream": "stdout",
       "text": [
        "1\n"
       ]
      },
      {
       "output_type": "stream",
       "stream": "stdout",
       "text": [
        "2\n"
       ]
      },
      {
       "output_type": "stream",
       "stream": "stdout",
       "text": [
        "3\n"
       ]
      },
      {
       "output_type": "stream",
       "stream": "stdout",
       "text": [
        "4\n"
       ]
      }
     ],
     "prompt_number": 1
    },
    {
     "cell_type": "markdown",
     "source": [
      "\ub300\uc2e0\uc5d0 \ub8e8\ube44\uc5d0\uc11c\ub294 \uceec\ub809\uc158 \uac1d\uccb4\uc5d0\uc11c \uc0ac\uc6a9 \uac00\ub2a5\ud55c Enumerable \ubaa8\ub4c8\uc744 \uc9c0\uc6d0\ud558\uace0 \uc788\uc2b5\ub2c8\ub2e4. \uc2e4\uc81c\ub85c \ub8e8\ube44 \ud504\ub85c\uadf8\ub798\ubc0d\uc744 \ud558\ub2e4\ubcf4\uba74 \uae30\ubcf8\uc801\uc778 \ubc18\ubcf5\ubb38\uc740 \uc774\ub978\ubc14 \ubc18\ubcf5\uc790\ub77c\uace0 \ubd88\ub9ac\ub294 `each`\ub9cc\uc73c\ub85c\ub3c4 \ud06c\uac8c \ubd80\uc871\ud568 \uc5c6\uc774 \ud504\ub85c\uadf8\ub798\ubc0d\ud560 \uc218 \uc788\uc2b5\ub2c8\ub2e4. \uc774\ub97c \ud1b5\ud574\uc11c \ube14\ub85d\uc744 \ud1b5\ud574 \ubc18\ubcf5\ubb38\uacfc \ube44\uc2b7\ud55c \uac83\ub4e4\uc744 \ud560 \uc218 \uc788\uc2b5\ub2c8\ub2e4. `each`\ub294 \ub2e4\uc74c\uacfc \uac19\uc774 \uc0ac\uc6a9\ud569\ub2c8\ub2e4"
     ]
    },
    {
     "cell_type": "code",
     "collapsed": false,
     "input": [
      "[0, 1, 2, 3, 4].each{|i| puts i}"
     ],
     "language": "python",
     "outputs": [
      {
       "output_type": "stream",
       "stream": "stdout",
       "text": [
        "0\n"
       ]
      },
      {
       "output_type": "stream",
       "stream": "stdout",
       "text": [
        "1\n"
       ]
      },
      {
       "output_type": "stream",
       "stream": "stdout",
       "text": [
        "2\n"
       ]
      },
      {
       "output_type": "stream",
       "stream": "stdout",
       "text": [
        "3\n"
       ]
      },
      {
       "output_type": "stream",
       "stream": "stdout",
       "text": [
        "4\n"
       ]
      },
      {
       "output_type": "pyout",
       "prompt_number": 2,
       "text": [
        "0"
       ]
      }
     ],
     "prompt_number": 2
    },
    {
     "cell_type": "markdown",
     "source": [
      "\uc774\ub7ec\ud55c \ubc18\ubcf5\ubb38\uc5d0\uc11c\ub294 `for`\ubb38\uc774\ub098 `while`\ubb38 \uac19\uc740 \ubc18\ubcf5 \uc790\uccb4\ub97c \uc81c\uc5b4\ud558\uae30 \uc704\ud55c \ubcc4\ub3c4\uc758 \uc811\uadfc\uc744 \uc0ac\uc6a9\ud560 \uc218 \uc5c6\ub2e4\ub294 \ub2e8\uc810\uc774 \uc788\uc2b5\ub2c8\ub2e4\ub9cc, `each`\ub97c \uc0ac\uc6a9\ud55c \ubc18\ubcf5\ubb38\uc758 \uc7a5\uc810\uc740 \uceec\ub809\uc158\uc5d0 \ub300\ud574\uc11c \uac01\uac01\uc758 \uc694\uc18c\ub97c \ucc98\ub9ac\ud558\ub294 \ub85c\uc9c1\uc744 \uc815\uc758\ud558\ub294\ub370 \uc9d1\uc911\ud560 \uc218 \uc788\uc73c\uba74 \uae30\uc874 \ubc18\ubcf5\ubb38 \uc870\uac74\uc5d0\uc11c \uc0ac\uc6a9\ud558\ub294 \uc784\uc2dc \ubcc0\uc218\uc758 \ubd80\uc791\uc6a9\uc744 \ucd5c\uc18c\ud654\ud574\uc11c \uc758\ub3c4\uce58\uc54a\uc740 \uc791\ub3d9\uc744 \uc0ac\uc804\uc774 \ubbf8\ub9ac \ucc28\ub2e8\ud560 \uc218 \uc788\ub2e4\ub294 \uc810\uc785\ub2c8\ub2e4\n",
      "\n",
      "\ub2e8, \ub8e8\ube44\ub294 \ud568\uc218\ud615 \uc5b8\uc5b4\uac00 \uc544\ub2c8\ubbc0\ub85c \ube14\ub85d \ub0b4\uc5d0\uc11c \ube14\ub85d \ubc16\uc758 \ubcc0\uc218\ub97c \uc870\uc791\ud558\ub294 \ubd80\uc791\uc6a9\uc5d0 \ub300\ud574\uc11c\ub294 \uc758\ub3c4\uce58 \uc54a\uc740 \uacb0\uacfc\ub97c \ucd08\ub798\ud560 \uc218\ub3c4 \uc788\uc2b5\ub2c8\ub2e4\n",
      "\n",
      "```ruby\n",
      "arr = [0, 1, 2, 3]\n",
      "arr.map{|i| arr << 5; puts i}\n",
      "```\n",
      "\n",
      "\uc774\ub7ec\ud55c \ubc18\ubcf5\ubb38\uc744 \uc0ac\uc6a9\ud558\uc9c0 \ub9c8\uc138\uc694. \ubb34\ud55c\ud788 5\uac00 \ucd9c\ub825\ub429\ub2c8\ub2e4. Fiber\ub97c \uc0ac\uc6a9\ud574 \uc774\ub97c \ud655\uc778\ud574\ubcf4\ub3c4\ub85d \ud558\uaca0\uc2b5\ub2c8\ub2e4"
     ]
    },
    {
     "cell_type": "code",
     "collapsed": false,
     "input": [
      "fiber = Fiber.new do\n",
      "  arr = [0, 1, 2, 3]\n",
      "  arr.map{|i| arr << 5; Fiber.yield i}\n",
      "end"
     ],
     "language": "python",
     "outputs": [
      {
       "output_type": "pyout",
       "prompt_number": 9,
       "text": [
        "#<Fiber:0x007f94a2842fb8>"
       ]
      }
     ],
     "prompt_number": 9
    },
    {
     "cell_type": "code",
     "collapsed": false,
     "input": [
      "# \uc5ec\uae30\uae4c\uc9c0\ub294 \uc815\uc0c1\uc801\uc778 \ucc98\ub9ac\uc640 \uac19\uc2b5\ub2c8\ub2e4\ub9cc...\n",
      "4.times do\n",
      "  puts fiber.resume\n",
      "end"
     ],
     "language": "python",
     "outputs": [
      {
       "output_type": "stream",
       "stream": "stdout",
       "text": [
        "0\n"
       ]
      },
      {
       "output_type": "stream",
       "stream": "stdout",
       "text": [
        "1\n"
       ]
      },
      {
       "output_type": "stream",
       "stream": "stdout",
       "text": [
        "2\n"
       ]
      },
      {
       "output_type": "stream",
       "stream": "stdout",
       "text": [
        "3\n"
       ]
      },
      {
       "output_type": "pyout",
       "prompt_number": 10,
       "text": [
        "4"
       ]
      }
     ],
     "prompt_number": 10
    },
    {
     "cell_type": "code",
     "collapsed": false,
     "input": [
      "# \uc5ec\uae30\ubd80\ud130\ub294 5\uac00 \ucd9c\ub825\ub429\ub2c8\ub2e4.\n",
      "puts fiber.resume"
     ],
     "language": "python",
     "outputs": [
      {
       "output_type": "stream",
       "stream": "stdout",
       "text": [
        "5\n"
       ]
      }
     ],
     "prompt_number": 11
    },
    {
     "cell_type": "code",
     "collapsed": false,
     "input": [
      "puts fiber.resume"
     ],
     "language": "python",
     "outputs": [
      {
       "output_type": "stream",
       "stream": "stdout",
       "text": [
        "5\n"
       ]
      }
     ],
     "prompt_number": 12
    },
    {
     "cell_type": "markdown",
     "source": [
      "\uc774\uc640 \uac19\uc774 5\uac00 \uacc4\uc18d \ubc18\ubcf5\ub418\ub294 \uac83\uc744 \uc54c \uc218 \uc788\uc2b5\ub2c8\ub2e4. \uacc4\uc18d `resume` \uba54\uc2dc\uc9c0\ub97c \ubcf4\ub0b4\uba74 \uacc4\uc18d 5\uac00 \ucd9c\ub825\ub429\ub2c8\ub2e4. \uc774\ub7ec\ud55c \ubd80\uc791\uc6a9(side-effect)\uc5d0 \ub300\ud574\uc11c\ub294 \uba85\ud655\ud788 \uc54c\uace0 \uc788\uc744 \ud544\uc694\uac00 \uc788\uc2b5\ub2c8\ub2e4\n",
      "\n",
      "\ub8e8\ube44\uc758 Enumerable\uc740 \uc774\ub7ec\ud55c \ubbf8\ubb18\ud55c \ub2e8\uc810\uc744 \ub0b4\ud3ec\ud558\uace0 \uc788\uae30\ub294 \ud569\ub2c8\ub2e4\ub9cc, \uadf8\ub7fc\uc5d0\ub3c4 \ubd88\uad6c\ud558\uace0 \uac15\ub825\ud569\ub2c8\ub2e4. \uc774\ub807\ub4ef \uba85\uc2dc\uc801\uc73c\ub85c \uc678\ubd80 \ubcc0\uc218\uc5d0 \ubd80\uc791\uc6a9\uc744 \uc77c\uc73c\ud0a4\uc9c0\ub9cc \uc54a\ub294\ub2e4\uba74, \ubc18\ubcf5 \uacfc\uc815\uc5d0\uc11c \ube14\ub85d\uc744 \ud1b5\ud574 \uc784\uc2dc \ubcc0\uc218\ub098 \ub0b4\ubd80 \ubcc0\uc218\uc5d0 \ub300\ud574\uc11c\ub294 \ubd80\uc791\uc6a9\uc744 \uac71\uc815\ud560 \ud544\uc694\uac00 \uc5c6\uc73c\uba70, \uba54\uc18c\ub4dc \uccb4\uc778\uc744 \ud1b5\ud574 \uc720\uc0ac\ud55c \uceec\ub809\uc158 \ucc98\ub9ac\ub97c \uc790\uc5f0\uc2a4\ub7fd\uac8c \uc5f0\uc18d\uc801\uc73c\ub85c \uc801\uc6a9\ud560 \uc218 \uc788\uc2b5\ub2c8\ub2e4\n",
      "\n",
      "\uc911\uc694\ud55c \uac74 \ub8e8\ube44\uc758 Enumerable\uc774 \uc81c\uacf5\ud558\ub294 \ubc18\ubcf5\uc790\ub294 `each`\uac00 \uc804\ubd80\uac00 \uc544\ub2c8\ub77c\ub294 \uc810\uc785\ub2c8\ub2e4. \uc5ec\uae30\uc11c\ubd80\ud130\ub294 Enumerable \ubaa8\ub4c8\uc5d0 \ud3ec\ud568\ub41c \ube14\ub85d\uc744 \ubc1b\ub294 \uceec\ub809\uc158 \ucc98\ub9ac \uba54\uc18c\ub4dc\ub4e4\uc744 \uc18c\uac1c\ud558\ub3c4\ub85d \ud558\uaca0\uc2b5\ub2c8\ub2e4"
     ]
    },
    {
     "cell_type": "markdown",
     "source": [
      "## map, collect\n",
      "\n",
      "`each` \ub2e4\uc74c\uc73c\ub85c \uc720\uba85\ud55c \ubc18\ubcf5\uc790\ub294 `map`\uacfc `collect`\uc785\ub2c8\ub2e4. \uc774 \ub450 \uba54\uc18c\ub4dc\ub294 \uc2e4\uc81c\ub85c\ub294 \uac19\uace0 \uc774\ub984\ub9cc \ub2e4\ub985\ub2c8\ub2e4. \uba3c\uc800 `each`\ub294 \uceec\ub809\uc158\uc758 \uac01 \uc694\uc18c\ub97c \uc21c\ucc28\uc801\uc73c\ub85c \ube14\ub85d\uc5d0 \ub118\uaca8 \ucc98\ub9ac\ud569\ub2c8\ub2e4"
     ]
    },
    {
     "cell_type": "code",
     "collapsed": false,
     "input": [
      "str = \"Hello\".split(\"\")"
     ],
     "language": "python",
     "outputs": [
      {
       "output_type": "pyout",
       "prompt_number": 16,
       "text": [
        "[\"H\", \"e\", \"l\", \"l\", \"o\"]"
       ]
      }
     ],
     "prompt_number": 16
    },
    {
     "cell_type": "code",
     "collapsed": false,
     "input": [
      "str.each{|chr| puts chr.upcase}"
     ],
     "language": "python",
     "outputs": [
      {
       "output_type": "stream",
       "stream": "stdout",
       "text": [
        "H\n"
       ]
      },
      {
       "output_type": "stream",
       "stream": "stdout",
       "text": [
        "E\n"
       ]
      },
      {
       "output_type": "stream",
       "stream": "stdout",
       "text": [
        "L\n"
       ]
      },
      {
       "output_type": "stream",
       "stream": "stdout",
       "text": [
        "L\n"
       ]
      },
      {
       "output_type": "stream",
       "stream": "stdout",
       "text": [
        "O\n"
       ]
      },
      {
       "output_type": "pyout",
       "prompt_number": 17,
       "text": [
        "[\"H\", \"e\", \"l\", \"l\", \"o\"]"
       ]
      }
     ],
     "prompt_number": 17
    },
    {
     "cell_type": "markdown",
     "source": [
      "\ub2e8 \uc5ec\uae30\uc11c each\uc758 \uc5ed\ud560\uc740 \uac01 \uc694\uc18c\ub97c \ube14\ub85d \uc778\uc790 `chr`\ub85c \ubc1b\uc544\uc11c \ud55c\ubc88\uc529 \ud3c9\uac00\ud574\uc8fc\ub294 \uc77c\uc774\uc9c0 \uc6d0\ub798\uc758 \uceec\ub809\uc158\uc744 \ubcc0\uacbd\ud55c \uac12\uc744 \ub9ac\ud134\ud558\uc9c0\ub294 \uc54a\uc2b5\ub2c8\ub2e4. \uc989, `each`\uc758 \ud3c9\uac00 \uacb0\uacfc\ub294 \ud56d\uc0c1 \ub9ac\uc2dc\ubc84\uc640 \ub3d9\uc77c\ud569\ub2c8\ub2e4\n",
      "\n",
      "\ud558\uc9c0\ub9cc `map`\uc740 \ub9ac\uc2dc\ubc84\uc640 \ud3c9\uac00 \uacb0\uacfc\uac00 \ub2ec\ub77c\uc9d1\ub2c8\ub2e4. `map`\uc774 \ud558\ub294 \uc5ed\ud560\uc740 \uac01 \uc694\uc18c\ub4e4\uc744 \ube14\ub85d \uc778\uc790 `chr`\ub85c \ubc1b\uc544 \ube14\ub85d\uc744 \ud3c9\uac00\ud55c \uacb0\uacfc\ub85c \uc6d0\ub798\uc758 \uc694\uc18c\ub97c \ubcc0\uacbd\ud569\ub2c8\ub2e4. \uc774\ub807\uac8c \ub9cc\ub4e4\uc5b4\uc9c4 \uc0c8\ub85c\uc6b4 \uceec\ub809\uc158\uc744 \ub9ac\ud134\ud569\ub2c8\ub2e4(\ub2e8, \uc6d0\ub798\uc758 \uceec\ub809\uc158\uc744 \ubcc0\uacbd\ud558\uc9c0\ub294 \uc54a\uc2b5\ub2c8\ub2e4.)"
     ]
    },
    {
     "cell_type": "code",
     "collapsed": false,
     "input": [
      "str.map{|chr| chr.upcase}"
     ],
     "language": "python",
     "outputs": [
      {
       "output_type": "pyout",
       "prompt_number": 20,
       "text": [
        "[\"H\", \"E\", \"L\", \"L\", \"O\"]"
       ]
      }
     ],
     "prompt_number": 20
    },
    {
     "cell_type": "markdown",
     "source": [
      "\uc774\ub7ec\ud55c \ucc28\uc774\ub294 `each`\uc5d0\uc11c puts\uc744 \uc0ac\uc6a9\ud558\uc9c0 \uc54a\uc544\ub3c4 \ub9c8\ucc2c\uac00\uc9c0\uc785\ub2c8\ub2e4. `each`\uc5d0\uc11c \ube14\ub85d\uc758 \ud3c9\uac00\uac12\uc740 \uadf8\ub0e5 \ubc84\ub824\uc9c0\ub294 \uac12\uc774\uace0, `each`\ub294 \uadf8\uc800 \ub9ac\uc2dc\ubc84\ub97c \ub2e4\uc2dc \ub9ac\ud134\ud574\uc90d\ub2c8\ub2e4."
     ]
    },
    {
     "cell_type": "code",
     "collapsed": false,
     "input": [
      "str.each{|chr| chr.upcase}"
     ],
     "language": "python",
     "outputs": [
      {
       "output_type": "pyout",
       "prompt_number": 21,
       "text": [
        "[\"H\", \"e\", \"l\", \"l\", \"o\"]"
       ]
      }
     ],
     "prompt_number": 21
    },
    {
     "cell_type": "markdown",
     "source": [
      "\uc704\uc5d0\uc11c \uc598\uae30\ud588\ub4ef\uc774 `collect`\ub294 `each`\uc640 \uac19\uc2b5\ub2c8\ub2e4."
     ]
    },
    {
     "cell_type": "code",
     "collapsed": false,
     "input": [
      "str.collect{|chr| chr.upcase}"
     ],
     "language": "python",
     "outputs": [
      {
       "output_type": "pyout",
       "prompt_number": 22,
       "text": [
        "[\"H\", \"E\", \"L\", \"L\", \"O\"]"
       ]
      }
     ],
     "prompt_number": 22
    },
    {
     "cell_type": "markdown",
     "source": [
      "\uc774\ub7ec\ud55c \ucc28\uc774\ub85c \uc778\ud574\uc11c `each`\ub97c \uc0ac\uc6a9\ud560 \ub54c \uac15\uc81c\uc801\uc73c\ub85c \ube14\ub85d \uc678\ubd80\uc758 \ubcc0\uc218(\ud2b9\ud788 \ub9ac\uc2dc\ubc84)\ub97c \ubcc0\uacbd\ud558\ub824\ub294 \uc2dc\ub3c4\ub97c \ud560 \ub54c\uac00 \uc788\ub294\ub370, \uc704\uc5d0\uc11c \uc124\uba85\ud588\uc9c0\ub9cc \uc774\ub7ec\ud55c \ubd80\uc791\uc6a9\uc740 \uc758\ub3c4\uce58 \uc54a\uc740 \uacb0\uacfc\ub97c \ucd08\ub798\ud560 \uc218 \uc788\uc2b5\ub2c8\ub2e4. \uceec\ub809\uc158 \uc790\uccb4\ub97c \ud2b9\uc801\ud55c \ub85c\uc9c1\uc73c\ub85c \ubcc0\uacbd\ud558\uace0\uc790 \ud560 \ub54c\ub294 `map`\uc774\ub098 `collect`\ub97c \uc0ac\uc6a9\ud574\uc57c\ud569\ub2c8\ub2e4"
     ]
    },
    {
     "cell_type": "markdown",
     "source": [
      "## \uba54\uc18c\ub4dc \uccb4\uc778(Method Chain)\n",
      "\n",
      "\uc5ec\uae30\uc11c \uc7a0\uae50 \ub2e4\ub978 \uba54\uc18c\ub4dc\ub97c \uc18c\uac1c\ud558\uae30 \uc804\uc5d0 \ub2e4\ub978 \uc598\uae30\ub97c \ud558\uace0 \ub118\uc5b4\uac00\uaca0\uc2b5\ub2c8\ub2e4. `map` \uba54\uc18c\ub4dc\ub97c \ud1b5\ud574\uc11c \uceec\ub809\uc158\uc744 \uc870\uc791\ud558\ub294 \uc77c\uc740 \ub9e4\uc6b0 \ud765\ubbf8\ub85c\uc6b4 \uc77c\uc785\ub2c8\ub2e4. `map`\uc740 \uceec\ub809\uc158\uc758 \uc694\uc18c\ub4e4\uc744 \ud558\ub098\ud558\ub098 \ubcc0\uacbd\ud569\ub2c8\ub2e4. \uc989 \ub9ac\uc2dc\ubc84 \uceec\ub809\uc158\uc758 \ubaa8\ub4e0 \uc694\uc18c\ub4e4\uc740 \ub118\uaca8\ubc1b\uc740 \ube14\ub85d\uc758 \ub85c\uc9c1\uc5d0 \uc758\ud574\uc11c \ud558\ub098\ud558\ub098 \ubcc0\uacbd\ub429\ub2c8\ub2e4. \uc911\uc694\ud55c \uac74 \uc774\ub807\uac8c \ubcc0\uacbd\ub418\uc5b4 \ub9ac\ud134\ub418\ub294 \uac83\uc740 \ub9ac\uc2dc\ubc84\uc640 \ub9c8\ucc2c\uac00\uc9c0\ub85c \uceec\ub809\uc158\uc774\ub77c\ub294 \uc0ac\uc2e4\uc785\ub2c8\ub2e4. \ub530\ub77c\uc11c \ubc30\uc5f4\uc5d0 map\uc744 \uc0ac\uc6a9\ud558\uba74 \ub2e4\ub978 \ubc30\uc5f4\uc774 \ub9ac\ud134\ub429\ub2c8\ub2e4. \uc544\ub798 \uc608\uc5d0\uc11c\ub294 \ubc30\uc5f4\uc744 \uc808\ub300\uac12\uc73c\ub85c \ubcc0\uacbd\ud574\ubcf4\uaca0\uc2b5\ub2c8\ub2e4."
     ]
    },
    {
     "cell_type": "code",
     "collapsed": false,
     "input": [
      "[1.3, -2.8, 3.2, -4.99, -5.1].map{|number| number.abs}"
     ],
     "language": "python",
     "outputs": [
      {
       "output_type": "pyout",
       "prompt_number": 24,
       "text": [
        "[1.3, 2.8, 3.2, 4.99, 5.1]"
       ]
      }
     ],
     "prompt_number": 24
    },
    {
     "cell_type": "markdown",
     "source": [
      "Enumerable\uc744 \uc0ac\uc6a9\ud560 \ub54c\ub294 \ud56d\uc0c1 \uc774\ub7ec\ud55c \uc0ac\uc2e4\uc744 \uc758\uc2dd\ud560 \ud544\uc694\uac00 \uc788\uc2b5\ub2c8\ub2e4. \uc774\ub807\ub4ef \ub9ac\ud134\uac12\uc758 \ud615\uc2dd\uc774 \ub9ac\uc2dc\ubc84\uc640 \uac19\ub2e4\ub294 \uac83\uc774 \ubcf4\uc7a5\ub418\ub294 \uba54\uc18c\ub4dc\ub97c \uc0ac\uc6a9\ud560 \ub54c\ub294 \ub9ac\uc2dc\ubc84\uc5d0 \uc5f0\uc18d\uc801\uc73c\ub85c Enumerable \uba54\uc18c\ub4dc\ub97c \ud638\ucd9c\ud560 \uc218 \uc788\uc2b5\ub2c8\ub2e4. \uc608\ub97c \ub4e4\uc5b4 \uc704\uc758 \uc608\uc5d0\uc11c \uacc4\uc18d\ud574\uc11c \ubc18\uc62c\ub9bc\uc744 \ud574\ubcf4\uaca0\uc2b5\ub2c8\ub2e4."
     ]
    },
    {
     "cell_type": "code",
     "collapsed": false,
     "input": [
      "[1.3, -2.8, 3.2, -4.99, -5.1].map{|number| number.abs}.map{|number| number.round(0)}"
     ],
     "language": "python",
     "outputs": [
      {
       "output_type": "pyout",
       "prompt_number": 27,
       "text": [
        "[1, 3, 3, 5, 5]"
       ]
      }
     ],
     "prompt_number": 27
    },
    {
     "cell_type": "markdown",
     "source": [
      "\uc608\uc0c1\ud55c \uacb0\uacfc\uac00 \ub098\uc654\ub098\uc694? \uc880 \ub354 \uc790\uc138\ud788 \uc0b4\ud3b4\ubcf8\ub2e4\uba74,\n",
      "\n",
      "```ruby\n",
      "[1.3, -2.8, 3.2, -4.99, -5.1].map{|number| number.abs}\n",
      "```\n",
      "\n",
      "\uc758 \ud3c9\uac00 \uacb0\uacfc\uac00 `[1.3, 2.8, 3.2, 4.99, 5.1]`\uac00 \ub418\uc5b4 \uc544\ub798\uc640 \uac19\uc774 `map` \uba54\uc18c\ub4dc\uac00 \uc0ac\uc6a9\ub418\uc5c8\uc2b5\ub2c8\ub2e4."
     ]
    },
    {
     "cell_type": "code",
     "collapsed": false,
     "input": [
      "[1.3, 2.8, 3.2, 4.99, 5.1].map{|number| number.round}"
     ],
     "language": "python",
     "outputs": [
      {
       "output_type": "pyout",
       "prompt_number": 29,
       "text": [
        "[1, 3, 3, 5, 5]"
       ]
      }
     ],
     "prompt_number": 29
    },
    {
     "cell_type": "markdown",
     "source": [
      "\uc774\ub7ec\ud55c \uba54\uc18c\ub4dc \uccb4\uc778\uc740 \uacc4\uc18d\ud574\uc11c \uc774\uc5b4\uc9c8 \uc218 \uc788\uc2b5\ub2c8\ub2e4"
     ]
    },
    {
     "cell_type": "code",
     "collapsed": false,
     "input": [
      "[1.3, -2.8, 3.2, -4.99, -5.1].\n",
      "  map{|number| number.abs}.      # [1.3, 2.8, 3.2, 4.99, 5.1]\n",
      "  map{|number| number.round}. # [1, 3, 3, 5, 5]\n",
      "  map{|number| number / 2.0}.    # [0.5, 1.5, 1.5, 2.5, 2.5]\n",
      "  map{|number| number.to_s}      # [\"0.5\", \"1.5\", \"1.5\", \"2.5\", \"2.5\"]"
     ],
     "language": "python",
     "outputs": [
      {
       "output_type": "pyout",
       "prompt_number": 46,
       "text": [
        "[\"0.5\", \"1.5\", \"1.5\", \"2.5\", \"2.5\"]"
       ]
      }
     ],
     "prompt_number": 46
    },
    {
     "cell_type": "markdown",
     "source": [
      "\uc704 \uc608\uc81c\uc5d0 \ubcc4\ub2e4\ub978 \uc758\ubbf8\ub294 \uc5c6\uc2b5\ub2c8\ub2e4\ub9cc, \uc774\ub7ec\ud55c \uba54\uc18c\ub4dc \uccb4\uc778\uc744 \uae30\uc5b5\ud574\ub458 \ud544\uc694\uac00 \uc788\uc2b5\ub2c8\ub2e4. Enumerable\uc758 \ub9ce\uc740 \uba54\uc18c\ub4dc\ub4e4\uc740 \uc758\ub3c4\uc801\uc73c\ub85c \uceec\ub809\uc158\uc744 \ub9ac\ud134\ud569\ub2c8\ub2e4. \ub530\ub77c\uc11c \uc11c\ub85c \ub2e4\ub978 \ub85c\uc9c1\uc744 \ub530\ub974\ub294 \uceec\ub809\uc158 \ucc98\ub9ac\ub97c \uc5f0\uc1c4\uc801\uc73c\ub85c \uc0ac\uc6a9\ud560 \uc218 \uc788\uc2b5\ub2c8\ub2e4\n",
      "\n",
      "\ub530\ub77c\uc11c \uc774\ub7ec\ud55c \ubcf4\uc7a5\uc774 \ub418\uc9c0 \uc54a\ub294 \uba54\uc18c\ub4dc\ub4e4\uc744 \uc0ac\uc6a9\ud560 \ub54c\ub294 \ud2b9\ud788 \uc720\uc758\uac00 \ud544\uc694\ud569\ub2c8\ub2e4. \uc608\ub97c \ub4e4\uc5b4 \uc544\ub798\uc5d0\uc11c \uc18c\uac1c\ud560 `select`\ub294 \uceec\ub809\uc158\uc774 \ub9ac\ud134\ub418\ub294 \uac83\uc774 \ubcf4\uc7a5\ub418\uc9c0\ub9cc \uc720\uc0ac\ud574\ubcf4\uc774\ub294 `detect`\ub294 \uc774\ub7ec\ud55c \ud2b9\uc131\uc774 \ubcf4\uc7a5\ub418\uc9c0 \uc54a\uc2b5\ub2c8\ub2e4."
     ]
    },
    {
     "cell_type": "code",
     "collapsed": false,
     "input": [
      "[1, 2, 3, 4, 5].select{|number| number.odd?}"
     ],
     "language": "python",
     "outputs": [
      {
       "output_type": "pyout",
       "prompt_number": 50,
       "text": [
        "[1, 3, 5]"
       ]
      }
     ],
     "prompt_number": 50
    },
    {
     "cell_type": "code",
     "collapsed": false,
     "input": [
      "[1, 2, 3, 4, 5].detect{|number| number.odd?}"
     ],
     "language": "python",
     "outputs": [
      {
       "output_type": "pyout",
       "prompt_number": 51,
       "text": [
        "1"
       ]
      }
     ],
     "prompt_number": 51
    },
    {
     "cell_type": "markdown",
     "source": [
      "\ub2f9\uc5f0\ud55c \uc598\uae30\uc785\ub2c8\ub2e4\ub9cc, \uceec\ub809\uc158\uc774 \uc544\ub2cc \uac1d\uccb4\uc5d0 Enumerable \uba54\uc18c\ub4dc\ub294 \uc0ac\uc6a9\ud560 \uc218 \uc5c6\uc2b5\ub2c8\ub2e4. \uc774\ub7f0 \uc2dd\uc73c\ub85c \uba54\uc18c\ub4dc \uccb4\uc778\uc744 \uad6c\uc131\ud574\uc11c\ub294 \uc548 \ub429\ub2c8\ub2e4. \uac80\uc0c9 \uacb0\uacfc\uac00 \uc5c6\ub294 \uc608\ub97c \ubcf4\uba74 \uc774 \uc774\uc720\uac00 \uc880 \ub354 \uba85\ud655\ud569\ub2c8\ub2e4."
     ]
    },
    {
     "cell_type": "code",
     "collapsed": false,
     "input": [
      "[1, 3, 5, 7, 9].select{|number| number.even?}"
     ],
     "language": "python",
     "outputs": [
      {
       "output_type": "pyout",
       "prompt_number": 55,
       "text": [
        "[]"
       ]
      }
     ],
     "prompt_number": 55
    },
    {
     "cell_type": "code",
     "collapsed": false,
     "input": [
      "[1, 3, 5, 7, 9].detect{|number| number.even?}\n",
      "# => nil"
     ],
     "language": "python",
     "outputs": [],
     "prompt_number": 58
    },
    {
     "cell_type": "markdown",
     "source": [
      "## \ube14\ub85d \ucd95\uc57d \ud45c\ud604\n",
      "\n",
      "\ube14\ub85d\uc5d0\uc11c \uceec\ub809\uc158\uc758 \uc694\uc18c\uc5d0 \ub300\ud574\uc11c \ud2b9\uc815\ud55c \uba54\uc18c\ub4dc\ub97c \uc778\uc790\uc5c6\uc774 \ud638\ucd9c\ud560 \ub54c\ub294 \ucd95\uc57d\ud45c\ud604\uc744 \uc0ac\uc6a9\ud560 \uc218 \uc788\uc2b5\ub2c8\ub2e4. \uc608\ub97c \ub4e4\uc5b4 \uc544\ub798 \ub450 \ud45c\ud604\uc740 \uac19\uc2b5\ub2c8\ub2e4."
     ]
    },
    {
     "cell_type": "code",
     "collapsed": false,
     "input": [
      "[1.3, 2.8, 3.2, 4.99, 5.1].map{|number| number.round}"
     ],
     "language": "python",
     "outputs": [
      {
       "output_type": "pyout",
       "prompt_number": 47,
       "text": [
        "[1, 3, 3, 5, 5]"
       ]
      }
     ],
     "prompt_number": 47
    },
    {
     "cell_type": "code",
     "collapsed": false,
     "input": [
      "[1.3, 2.8, 3.2, 4.99, 5.1].map &:round"
     ],
     "language": "python",
     "outputs": [
      {
       "output_type": "pyout",
       "prompt_number": 48,
       "text": [
        "[1, 3, 3, 5, 5]"
       ]
      }
     ],
     "prompt_number": 48
    },
    {
     "cell_type": "markdown",
     "source": [
      "each_with_index\n",
      "each_with_object\n",
      "each_slice\n",
      "each_cons\n",
      "reverse_each"
     ]
    },
    {
     "cell_type": "markdown",
     "source": [
      "cycle"
     ]
    },
    {
     "cell_type": "markdown",
     "source": [
      "map / collect\n",
      "flat_map / collect_concat"
     ]
    },
    {
     "cell_type": "markdown",
     "source": [
      "grep\n",
      "find_all\n",
      "select\n",
      "reject"
     ]
    },
    {
     "cell_type": "markdown",
     "source": [
      "drop\n",
      "take\n",
      "drop_while\n",
      "take_while\n",
      "first"
     ]
    },
    {
     "cell_type": "markdown",
     "source": [
      "max\n",
      "max_by\n",
      "min\n",
      "min_by\n",
      "minmax\n",
      "minmax_by"
     ]
    },
    {
     "cell_type": "markdown",
     "source": [
      "sort\n",
      "sort_by"
     ]
    },
    {
     "cell_type": "markdown",
     "source": [
      "slice_before\n",
      "partition"
     ]
    },
    {
     "cell_type": "markdown",
     "source": [
      "chunk\n",
      "group_by\n",
      "zip"
     ]
    },
    {
     "cell_type": "markdown",
     "source": [
      "to_a / entries"
     ]
    },
    {
     "cell_type": "markdown",
     "source": [
      "find / detect\n",
      "find_index"
     ]
    },
    {
     "cell_type": "markdown",
     "source": [
      "count\n",
      "inject / reduce"
     ]
    },
    {
     "cell_type": "markdown",
     "source": [
      "all?\n",
      "any?\n",
      "include?\n",
      "member?\n",
      "none?\n",
      "one?"
     ]
    },
    {
     "cell_type": "code",
     "collapsed": false,
     "input": [],
     "language": "python",
     "outputs": []
    }
   ]
  }
 ]
}